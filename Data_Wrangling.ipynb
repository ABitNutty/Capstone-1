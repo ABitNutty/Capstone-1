{
 "cells": [
  {
   "cell_type": "markdown",
   "metadata": {},
   "source": [
    "Springboard -- Data Science Career Program\n",
    "Capstone Project #1 - Real Estate Price Predictor\n",
    "Data Wrangling\n",
    "By Kevin Cole\n",
    "January 2020\n",
    "\n",
    "This document describes data wrangling steps and the code to support it. Capstone proposal can be found below.\n",
    "\n",
    "Initial Proposal\n",
    "https://github.com/ABitNutty/Capstone-1/blob/master/Capstone%201%20Proposal.pdf\n",
    "\n",
    "Produced by Kevin Cole"
   ]
  },
  {
   "cell_type": "markdown",
   "metadata": {},
   "source": [
    "The data set detailed in the proposal comes with a file called train.csv. This should be imported along with analysis tools to be used. "
   ]
  },
  {
   "cell_type": "code",
   "execution_count": 1,
   "metadata": {},
   "outputs": [],
   "source": [
    "import pandas as pd\n",
    "import numpy as np\n",
    "\n",
    "# Imports raw data\n",
    "data = pd.read_csv('train.csv')\n",
    "data = data.set_index('Id')"
   ]
  },
  {
   "cell_type": "markdown",
   "metadata": {},
   "source": [
    "This dataset was examined and each variable was placed into one of three categories; Numeric, Categorical String, or Categorical Numeric based on what the data was describing. Numeric variables represent numeric measurements, such as area or length. Categorical strings are things like 'Grvl' vs 'Pave' that could describe what type of driveway the property has. Categorical numeric are numeric values that reperesent a categorical distinction for the property (Notably the 'MSSubClass' variable.) These descions were made based on the data inspection as well as the documention contianed in the data download package (data_description.txt)\n",
    "\n",
    "After determining the type of each variable that information was saved off in a .CSV file for later access. Here, we will import that .CSV file to continue building the dataframe that will help understand the data. "
   ]
  },
  {
   "cell_type": "code",
   "execution_count": 2,
   "metadata": {},
   "outputs": [],
   "source": [
    "# Imports self-made .CSV for Variable exploration and recoring\n",
    "data_information = pd.read_csv('Variable_Information.csv', index_col='Column Name')\n",
    "del data_information['Unnamed: 0']\n",
    "data_information.index.name = 'Column Name'\n",
    "\n",
    "# Creates dataframes for each of the variable types\n",
    "numeric = data_information[data_information['Type'] == 'Numeric']\n",
    "categorical_string = data_information[data_information['Type'] == 'Categorical String']\n",
    "categorical_numeric = data_information[data_information['Type'] == 'Categorical Numeric']\n",
    "\n",
    "# Initialize dataframe for future inputs\n",
    "data_information['Category Distribution'] = pd.Series()\n",
    "data_information['Nan_count'] = pd.Series()\n",
    "data_information['Nan_percent'] = pd.Series()\n",
    "data_information['Summary Statistics'] = pd.Series()"
   ]
  },
  {
   "cell_type": "markdown",
   "metadata": {},
   "source": [
    "For categorical variables, there are a few things that should be known for each variable. By creating a distribution of occorences for each category, we not only understand how many distinct categories exist but can reasonably make frequency histograms from the results. \n",
    "\n",
    "By specifiying dropna=False we include the NaN frequencies in the distribution for counting as well. This information is also useful in determing the percentage of missing data. \n",
    "\n",
    "\n",
    "\n",
    "I believe my nan counting method is bad. Only works when nan is the first key. How do I fix?"
   ]
  },
  {
   "cell_type": "code",
   "execution_count": 3,
   "metadata": {},
   "outputs": [
    {
     "name": "stderr",
     "output_type": "stream",
     "text": [
      "/opt/anaconda3/lib/python3.7/site-packages/ipykernel_launcher.py:9: SettingWithCopyWarning: \n",
      "A value is trying to be set on a copy of a slice from a DataFrame\n",
      "\n",
      "See the caveats in the documentation: http://pandas.pydata.org/pandas-docs/stable/user_guide/indexing.html#returning-a-view-versus-a-copy\n",
      "  if __name__ == '__main__':\n",
      "/opt/anaconda3/lib/python3.7/site-packages/ipykernel_launcher.py:12: SettingWithCopyWarning: \n",
      "A value is trying to be set on a copy of a slice from a DataFrame\n",
      "\n",
      "See the caveats in the documentation: http://pandas.pydata.org/pandas-docs/stable/user_guide/indexing.html#returning-a-view-versus-a-copy\n",
      "  if sys.path[0] == '':\n",
      "/opt/anaconda3/lib/python3.7/site-packages/pandas/core/indexing.py:205: SettingWithCopyWarning: \n",
      "A value is trying to be set on a copy of a slice from a DataFrame\n",
      "\n",
      "See the caveats in the documentation: http://pandas.pydata.org/pandas-docs/stable/user_guide/indexing.html#returning-a-view-versus-a-copy\n",
      "  self._setitem_with_indexer(indexer, value)\n",
      "/opt/anaconda3/lib/python3.7/site-packages/ipykernel_launcher.py:7: SettingWithCopyWarning: \n",
      "A value is trying to be set on a copy of a slice from a DataFrame\n",
      "\n",
      "See the caveats in the documentation: http://pandas.pydata.org/pandas-docs/stable/user_guide/indexing.html#returning-a-view-versus-a-copy\n",
      "  import sys\n",
      "/opt/anaconda3/lib/python3.7/site-packages/ipykernel_launcher.py:23: SettingWithCopyWarning: \n",
      "A value is trying to be set on a copy of a slice from a DataFrame\n",
      "\n",
      "See the caveats in the documentation: http://pandas.pydata.org/pandas-docs/stable/user_guide/indexing.html#returning-a-view-versus-a-copy\n",
      "/opt/anaconda3/lib/python3.7/site-packages/ipykernel_launcher.py:26: SettingWithCopyWarning: \n",
      "A value is trying to be set on a copy of a slice from a DataFrame\n",
      "\n",
      "See the caveats in the documentation: http://pandas.pydata.org/pandas-docs/stable/user_guide/indexing.html#returning-a-view-versus-a-copy\n"
     ]
    }
   ],
   "source": [
    "# Create number of distict events for each category in a categorical variable (Categorical String)\n",
    "for variable_name, test in categorical_string.iterrows():\n",
    "    distribution = data[variable_name].value_counts(dropna= False).to_dict()\n",
    "    \n",
    "    if np.nan in list(distribution.keys()):\n",
    "        #Count NaN elements and add to distribution\n",
    "        data_information['Nan_count'][variable_name] = distribution[np.nan]\n",
    "    else:\n",
    "        data_information['Nan_count'][variable_name] = 0\n",
    "    \n",
    "    # This line of code works but throws a warning. \n",
    "    data_information['Category Distribution'][variable_name] = (list(distribution.keys()), list(distribution.values()))\n",
    "\n",
    "    \n",
    "# Create number of distict events for each category in categorical numeric variables\n",
    "for variable_name, test in categorical_numeric.iterrows():\n",
    "    distribution = data[variable_name].value_counts(dropna= False).to_dict()\n",
    "    \n",
    "    if np.nan in list(distribution.keys()):\n",
    "        #Count NaN elements and add to distribution\n",
    "        data_information['Nan_count'][variable_name] = distribution[np.nan]\n",
    "    else:\n",
    "        data_information['Nan_count'][variable_name] = 0\n",
    "    \n",
    "    # This line of code works but throws a warning. \n",
    "    data_information['Category Distribution'][variable_name] = (list(distribution.keys()), list(distribution.values()))\n",
    "\n",
    "    \n",
    "# Determine the percentage of missing data in each variable \n",
    "data_information['Nan_percent'] = data_information['Nan_count']/len(data)\n"
   ]
  },
  {
   "cell_type": "markdown",
   "metadata": {},
   "source": [
    "For each numeric variable, summary statistics were created and stored. "
   ]
  },
  {
   "cell_type": "code",
   "execution_count": 4,
   "metadata": {},
   "outputs": [
    {
     "name": "stderr",
     "output_type": "stream",
     "text": [
      "/opt/anaconda3/lib/python3.7/site-packages/ipykernel_launcher.py:5: SettingWithCopyWarning: \n",
      "A value is trying to be set on a copy of a slice from a DataFrame\n",
      "\n",
      "See the caveats in the documentation: http://pandas.pydata.org/pandas-docs/stable/user_guide/indexing.html#returning-a-view-versus-a-copy\n",
      "  \"\"\"\n"
     ]
    }
   ],
   "source": [
    "# Create summary statistics for numeric variables\n",
    "for variable_name, test in numeric.iterrows():\n",
    "    #Sore summary statistics\n",
    "    statistics = data[variable_name].describe().to_dict()\n",
    "    data_information['Summary Statistics'][variable_name] = (list(statistics.keys()), list(statistics.values()))\n"
   ]
  },
  {
   "cell_type": "code",
   "execution_count": 5,
   "metadata": {},
   "outputs": [
    {
     "data": {
      "text/html": [
       "<div>\n",
       "<style scoped>\n",
       "    .dataframe tbody tr th:only-of-type {\n",
       "        vertical-align: middle;\n",
       "    }\n",
       "\n",
       "    .dataframe tbody tr th {\n",
       "        vertical-align: top;\n",
       "    }\n",
       "\n",
       "    .dataframe thead th {\n",
       "        text-align: right;\n",
       "    }\n",
       "</style>\n",
       "<table border=\"1\" class=\"dataframe\">\n",
       "  <thead>\n",
       "    <tr style=\"text-align: right;\">\n",
       "      <th></th>\n",
       "      <th>Type</th>\n",
       "      <th>Category Distribution</th>\n",
       "      <th>Nan_count</th>\n",
       "      <th>Nan_percent</th>\n",
       "      <th>Summary Statistics</th>\n",
       "    </tr>\n",
       "    <tr>\n",
       "      <th>Column Name</th>\n",
       "      <th></th>\n",
       "      <th></th>\n",
       "      <th></th>\n",
       "      <th></th>\n",
       "      <th></th>\n",
       "    </tr>\n",
       "  </thead>\n",
       "  <tbody>\n",
       "    <tr>\n",
       "      <td>MSSubClass</td>\n",
       "      <td>Categorical Numeric</td>\n",
       "      <td>([20, 60, 50, 120, 30, 160, 70, 80, 90, 190, 8...</td>\n",
       "      <td>0.0</td>\n",
       "      <td>0.0</td>\n",
       "      <td>NaN</td>\n",
       "    </tr>\n",
       "    <tr>\n",
       "      <td>MSZoning</td>\n",
       "      <td>Categorical String</td>\n",
       "      <td>([RL, RM, FV, RH, C (all)], [1151, 218, 65, 16...</td>\n",
       "      <td>0.0</td>\n",
       "      <td>0.0</td>\n",
       "      <td>NaN</td>\n",
       "    </tr>\n",
       "    <tr>\n",
       "      <td>LotFrontage</td>\n",
       "      <td>Numeric</td>\n",
       "      <td>NaN</td>\n",
       "      <td>NaN</td>\n",
       "      <td>NaN</td>\n",
       "      <td>([count, mean, std, min, 25%, 50%, 75%, max], ...</td>\n",
       "    </tr>\n",
       "    <tr>\n",
       "      <td>LotArea</td>\n",
       "      <td>Numeric</td>\n",
       "      <td>NaN</td>\n",
       "      <td>NaN</td>\n",
       "      <td>NaN</td>\n",
       "      <td>([count, mean, std, min, 25%, 50%, 75%, max], ...</td>\n",
       "    </tr>\n",
       "    <tr>\n",
       "      <td>Street</td>\n",
       "      <td>Categorical String</td>\n",
       "      <td>([Pave, Grvl], [1454, 6])</td>\n",
       "      <td>0.0</td>\n",
       "      <td>0.0</td>\n",
       "      <td>NaN</td>\n",
       "    </tr>\n",
       "  </tbody>\n",
       "</table>\n",
       "</div>"
      ],
      "text/plain": [
       "                            Type  \\\n",
       "Column Name                        \n",
       "MSSubClass   Categorical Numeric   \n",
       "MSZoning      Categorical String   \n",
       "LotFrontage              Numeric   \n",
       "LotArea                  Numeric   \n",
       "Street        Categorical String   \n",
       "\n",
       "                                         Category Distribution  Nan_count  \\\n",
       "Column Name                                                                 \n",
       "MSSubClass   ([20, 60, 50, 120, 30, 160, 70, 80, 90, 190, 8...        0.0   \n",
       "MSZoning     ([RL, RM, FV, RH, C (all)], [1151, 218, 65, 16...        0.0   \n",
       "LotFrontage                                                NaN        NaN   \n",
       "LotArea                                                    NaN        NaN   \n",
       "Street                               ([Pave, Grvl], [1454, 6])        0.0   \n",
       "\n",
       "             Nan_percent                                 Summary Statistics  \n",
       "Column Name                                                                  \n",
       "MSSubClass           0.0                                                NaN  \n",
       "MSZoning             0.0                                                NaN  \n",
       "LotFrontage          NaN  ([count, mean, std, min, 25%, 50%, 75%, max], ...  \n",
       "LotArea              NaN  ([count, mean, std, min, 25%, 50%, 75%, max], ...  \n",
       "Street               0.0                                                NaN  "
      ]
     },
     "execution_count": 5,
     "metadata": {},
     "output_type": "execute_result"
    }
   ],
   "source": [
    "# View the dataframe created\n",
    "data_information.head()"
   ]
  },
  {
   "cell_type": "code",
   "execution_count": 6,
   "metadata": {},
   "outputs": [],
   "source": [
    "# Save off data and data_information"
   ]
  }
 ],
 "metadata": {
  "kernelspec": {
   "display_name": "Python 3",
   "language": "python",
   "name": "python3"
  },
  "language_info": {
   "codemirror_mode": {
    "name": "ipython",
    "version": 3
   },
   "file_extension": ".py",
   "mimetype": "text/x-python",
   "name": "python",
   "nbconvert_exporter": "python",
   "pygments_lexer": "ipython3",
   "version": "3.7.4"
  }
 },
 "nbformat": 4,
 "nbformat_minor": 2
}
