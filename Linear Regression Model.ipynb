{
 "cells": [
  {
   "cell_type": "code",
   "execution_count": null,
   "metadata": {},
   "outputs": [],
   "source": []
  },
  {
   "cell_type": "code",
   "execution_count": 1,
   "metadata": {},
   "outputs": [],
   "source": [
    "#Import packages to be used\n",
    "import pandas as pd\n",
    "import numpy as np\n",
    "import seaborn as sns\n",
    "import matplotlib.pyplot as plt\n",
    "from scipy import stats\n",
    "import pickle\n",
    "from sklearn.linear_model import LinearRegression\n",
    "from sklearn.model_selection import train_test_split\n",
    "from sklearn.metrics import mean_squared_error\n",
    "from sklearn.linear_model import Ridge\n",
    "from sklearn.linear_model import Lasso\n",
    "from sklearn.model_selection import GridSearchCV"
   ]
  },
  {
   "cell_type": "code",
   "execution_count": 2,
   "metadata": {},
   "outputs": [],
   "source": [
    "# Imports raw data\n",
    "housing_import = pd.read_csv('trimmed_data.csv', index_col='Id')"
   ]
  },
  {
   "cell_type": "code",
   "execution_count": null,
   "metadata": {},
   "outputs": [],
   "source": []
  },
  {
   "cell_type": "code",
   "execution_count": 3,
   "metadata": {},
   "outputs": [],
   "source": [
    "# Cleaning out NaN values remaining\n",
    "housing_import = housing_import[housing_import.MasVnrType.isnull() == False]\n",
    "housing = housing_import.drop('MiscFeature', axis=1)"
   ]
  },
  {
   "cell_type": "code",
   "execution_count": null,
   "metadata": {},
   "outputs": [],
   "source": []
  },
  {
   "cell_type": "code",
   "execution_count": 4,
   "metadata": {},
   "outputs": [
    {
     "data": {
      "text/html": [
       "<div>\n",
       "<style scoped>\n",
       "    .dataframe tbody tr th:only-of-type {\n",
       "        vertical-align: middle;\n",
       "    }\n",
       "\n",
       "    .dataframe tbody tr th {\n",
       "        vertical-align: top;\n",
       "    }\n",
       "\n",
       "    .dataframe thead th {\n",
       "        text-align: right;\n",
       "    }\n",
       "</style>\n",
       "<table border=\"1\" class=\"dataframe\">\n",
       "  <thead>\n",
       "    <tr style=\"text-align: right;\">\n",
       "      <th></th>\n",
       "      <th>MSSubClass</th>\n",
       "      <th>LotFrontage</th>\n",
       "      <th>LotArea</th>\n",
       "      <th>OverallQual</th>\n",
       "      <th>OverallCond</th>\n",
       "      <th>YearBuilt</th>\n",
       "      <th>YearRemodAdd</th>\n",
       "      <th>MasVnrArea</th>\n",
       "      <th>1stFlrSF</th>\n",
       "      <th>LowQualFinSF</th>\n",
       "      <th>...</th>\n",
       "      <th>SaleType_ConLw</th>\n",
       "      <th>SaleType_New</th>\n",
       "      <th>SaleType_Oth</th>\n",
       "      <th>SaleType_WD</th>\n",
       "      <th>SaleCondition_Abnorml</th>\n",
       "      <th>SaleCondition_AdjLand</th>\n",
       "      <th>SaleCondition_Alloca</th>\n",
       "      <th>SaleCondition_Family</th>\n",
       "      <th>SaleCondition_Normal</th>\n",
       "      <th>SaleCondition_Partial</th>\n",
       "    </tr>\n",
       "    <tr>\n",
       "      <th>Id</th>\n",
       "      <th></th>\n",
       "      <th></th>\n",
       "      <th></th>\n",
       "      <th></th>\n",
       "      <th></th>\n",
       "      <th></th>\n",
       "      <th></th>\n",
       "      <th></th>\n",
       "      <th></th>\n",
       "      <th></th>\n",
       "      <th></th>\n",
       "      <th></th>\n",
       "      <th></th>\n",
       "      <th></th>\n",
       "      <th></th>\n",
       "      <th></th>\n",
       "      <th></th>\n",
       "      <th></th>\n",
       "      <th></th>\n",
       "      <th></th>\n",
       "      <th></th>\n",
       "    </tr>\n",
       "  </thead>\n",
       "  <tbody>\n",
       "    <tr>\n",
       "      <td>1</td>\n",
       "      <td>60</td>\n",
       "      <td>65.0</td>\n",
       "      <td>8450</td>\n",
       "      <td>7</td>\n",
       "      <td>5</td>\n",
       "      <td>2003</td>\n",
       "      <td>2003</td>\n",
       "      <td>196.0</td>\n",
       "      <td>856</td>\n",
       "      <td>0</td>\n",
       "      <td>...</td>\n",
       "      <td>0</td>\n",
       "      <td>0</td>\n",
       "      <td>0</td>\n",
       "      <td>1</td>\n",
       "      <td>0</td>\n",
       "      <td>0</td>\n",
       "      <td>0</td>\n",
       "      <td>0</td>\n",
       "      <td>1</td>\n",
       "      <td>0</td>\n",
       "    </tr>\n",
       "    <tr>\n",
       "      <td>2</td>\n",
       "      <td>20</td>\n",
       "      <td>80.0</td>\n",
       "      <td>9600</td>\n",
       "      <td>6</td>\n",
       "      <td>8</td>\n",
       "      <td>1976</td>\n",
       "      <td>1976</td>\n",
       "      <td>0.0</td>\n",
       "      <td>1262</td>\n",
       "      <td>0</td>\n",
       "      <td>...</td>\n",
       "      <td>0</td>\n",
       "      <td>0</td>\n",
       "      <td>0</td>\n",
       "      <td>1</td>\n",
       "      <td>0</td>\n",
       "      <td>0</td>\n",
       "      <td>0</td>\n",
       "      <td>0</td>\n",
       "      <td>1</td>\n",
       "      <td>0</td>\n",
       "    </tr>\n",
       "    <tr>\n",
       "      <td>3</td>\n",
       "      <td>60</td>\n",
       "      <td>68.0</td>\n",
       "      <td>11250</td>\n",
       "      <td>7</td>\n",
       "      <td>5</td>\n",
       "      <td>2001</td>\n",
       "      <td>2002</td>\n",
       "      <td>162.0</td>\n",
       "      <td>920</td>\n",
       "      <td>0</td>\n",
       "      <td>...</td>\n",
       "      <td>0</td>\n",
       "      <td>0</td>\n",
       "      <td>0</td>\n",
       "      <td>1</td>\n",
       "      <td>0</td>\n",
       "      <td>0</td>\n",
       "      <td>0</td>\n",
       "      <td>0</td>\n",
       "      <td>1</td>\n",
       "      <td>0</td>\n",
       "    </tr>\n",
       "    <tr>\n",
       "      <td>4</td>\n",
       "      <td>70</td>\n",
       "      <td>60.0</td>\n",
       "      <td>9550</td>\n",
       "      <td>7</td>\n",
       "      <td>5</td>\n",
       "      <td>1915</td>\n",
       "      <td>1970</td>\n",
       "      <td>0.0</td>\n",
       "      <td>961</td>\n",
       "      <td>0</td>\n",
       "      <td>...</td>\n",
       "      <td>0</td>\n",
       "      <td>0</td>\n",
       "      <td>0</td>\n",
       "      <td>1</td>\n",
       "      <td>1</td>\n",
       "      <td>0</td>\n",
       "      <td>0</td>\n",
       "      <td>0</td>\n",
       "      <td>0</td>\n",
       "      <td>0</td>\n",
       "    </tr>\n",
       "    <tr>\n",
       "      <td>5</td>\n",
       "      <td>60</td>\n",
       "      <td>84.0</td>\n",
       "      <td>14260</td>\n",
       "      <td>8</td>\n",
       "      <td>5</td>\n",
       "      <td>2000</td>\n",
       "      <td>2000</td>\n",
       "      <td>350.0</td>\n",
       "      <td>1145</td>\n",
       "      <td>0</td>\n",
       "      <td>...</td>\n",
       "      <td>0</td>\n",
       "      <td>0</td>\n",
       "      <td>0</td>\n",
       "      <td>1</td>\n",
       "      <td>0</td>\n",
       "      <td>0</td>\n",
       "      <td>0</td>\n",
       "      <td>0</td>\n",
       "      <td>1</td>\n",
       "      <td>0</td>\n",
       "    </tr>\n",
       "    <tr>\n",
       "      <td>...</td>\n",
       "      <td>...</td>\n",
       "      <td>...</td>\n",
       "      <td>...</td>\n",
       "      <td>...</td>\n",
       "      <td>...</td>\n",
       "      <td>...</td>\n",
       "      <td>...</td>\n",
       "      <td>...</td>\n",
       "      <td>...</td>\n",
       "      <td>...</td>\n",
       "      <td>...</td>\n",
       "      <td>...</td>\n",
       "      <td>...</td>\n",
       "      <td>...</td>\n",
       "      <td>...</td>\n",
       "      <td>...</td>\n",
       "      <td>...</td>\n",
       "      <td>...</td>\n",
       "      <td>...</td>\n",
       "      <td>...</td>\n",
       "      <td>...</td>\n",
       "    </tr>\n",
       "    <tr>\n",
       "      <td>1456</td>\n",
       "      <td>60</td>\n",
       "      <td>62.0</td>\n",
       "      <td>7917</td>\n",
       "      <td>6</td>\n",
       "      <td>5</td>\n",
       "      <td>1999</td>\n",
       "      <td>2000</td>\n",
       "      <td>0.0</td>\n",
       "      <td>953</td>\n",
       "      <td>0</td>\n",
       "      <td>...</td>\n",
       "      <td>0</td>\n",
       "      <td>0</td>\n",
       "      <td>0</td>\n",
       "      <td>1</td>\n",
       "      <td>0</td>\n",
       "      <td>0</td>\n",
       "      <td>0</td>\n",
       "      <td>0</td>\n",
       "      <td>1</td>\n",
       "      <td>0</td>\n",
       "    </tr>\n",
       "    <tr>\n",
       "      <td>1457</td>\n",
       "      <td>20</td>\n",
       "      <td>85.0</td>\n",
       "      <td>13175</td>\n",
       "      <td>6</td>\n",
       "      <td>6</td>\n",
       "      <td>1978</td>\n",
       "      <td>1988</td>\n",
       "      <td>119.0</td>\n",
       "      <td>2073</td>\n",
       "      <td>0</td>\n",
       "      <td>...</td>\n",
       "      <td>0</td>\n",
       "      <td>0</td>\n",
       "      <td>0</td>\n",
       "      <td>1</td>\n",
       "      <td>0</td>\n",
       "      <td>0</td>\n",
       "      <td>0</td>\n",
       "      <td>0</td>\n",
       "      <td>1</td>\n",
       "      <td>0</td>\n",
       "    </tr>\n",
       "    <tr>\n",
       "      <td>1458</td>\n",
       "      <td>70</td>\n",
       "      <td>66.0</td>\n",
       "      <td>9042</td>\n",
       "      <td>7</td>\n",
       "      <td>9</td>\n",
       "      <td>1941</td>\n",
       "      <td>2006</td>\n",
       "      <td>0.0</td>\n",
       "      <td>1188</td>\n",
       "      <td>0</td>\n",
       "      <td>...</td>\n",
       "      <td>0</td>\n",
       "      <td>0</td>\n",
       "      <td>0</td>\n",
       "      <td>1</td>\n",
       "      <td>0</td>\n",
       "      <td>0</td>\n",
       "      <td>0</td>\n",
       "      <td>0</td>\n",
       "      <td>1</td>\n",
       "      <td>0</td>\n",
       "    </tr>\n",
       "    <tr>\n",
       "      <td>1459</td>\n",
       "      <td>20</td>\n",
       "      <td>68.0</td>\n",
       "      <td>9717</td>\n",
       "      <td>5</td>\n",
       "      <td>6</td>\n",
       "      <td>1950</td>\n",
       "      <td>1996</td>\n",
       "      <td>0.0</td>\n",
       "      <td>1078</td>\n",
       "      <td>0</td>\n",
       "      <td>...</td>\n",
       "      <td>0</td>\n",
       "      <td>0</td>\n",
       "      <td>0</td>\n",
       "      <td>1</td>\n",
       "      <td>0</td>\n",
       "      <td>0</td>\n",
       "      <td>0</td>\n",
       "      <td>0</td>\n",
       "      <td>1</td>\n",
       "      <td>0</td>\n",
       "    </tr>\n",
       "    <tr>\n",
       "      <td>1460</td>\n",
       "      <td>20</td>\n",
       "      <td>75.0</td>\n",
       "      <td>9937</td>\n",
       "      <td>5</td>\n",
       "      <td>6</td>\n",
       "      <td>1965</td>\n",
       "      <td>1965</td>\n",
       "      <td>0.0</td>\n",
       "      <td>1256</td>\n",
       "      <td>0</td>\n",
       "      <td>...</td>\n",
       "      <td>0</td>\n",
       "      <td>0</td>\n",
       "      <td>0</td>\n",
       "      <td>1</td>\n",
       "      <td>0</td>\n",
       "      <td>0</td>\n",
       "      <td>0</td>\n",
       "      <td>0</td>\n",
       "      <td>1</td>\n",
       "      <td>0</td>\n",
       "    </tr>\n",
       "  </tbody>\n",
       "</table>\n",
       "<p>1452 rows × 274 columns</p>\n",
       "</div>"
      ],
      "text/plain": [
       "      MSSubClass  LotFrontage  LotArea  OverallQual  OverallCond  YearBuilt  \\\n",
       "Id                                                                            \n",
       "1             60         65.0     8450            7            5       2003   \n",
       "2             20         80.0     9600            6            8       1976   \n",
       "3             60         68.0    11250            7            5       2001   \n",
       "4             70         60.0     9550            7            5       1915   \n",
       "5             60         84.0    14260            8            5       2000   \n",
       "...          ...          ...      ...          ...          ...        ...   \n",
       "1456          60         62.0     7917            6            5       1999   \n",
       "1457          20         85.0    13175            6            6       1978   \n",
       "1458          70         66.0     9042            7            9       1941   \n",
       "1459          20         68.0     9717            5            6       1950   \n",
       "1460          20         75.0     9937            5            6       1965   \n",
       "\n",
       "      YearRemodAdd  MasVnrArea  1stFlrSF  LowQualFinSF  ...  SaleType_ConLw  \\\n",
       "Id                                                      ...                   \n",
       "1             2003       196.0       856             0  ...               0   \n",
       "2             1976         0.0      1262             0  ...               0   \n",
       "3             2002       162.0       920             0  ...               0   \n",
       "4             1970         0.0       961             0  ...               0   \n",
       "5             2000       350.0      1145             0  ...               0   \n",
       "...            ...         ...       ...           ...  ...             ...   \n",
       "1456          2000         0.0       953             0  ...               0   \n",
       "1457          1988       119.0      2073             0  ...               0   \n",
       "1458          2006         0.0      1188             0  ...               0   \n",
       "1459          1996         0.0      1078             0  ...               0   \n",
       "1460          1965         0.0      1256             0  ...               0   \n",
       "\n",
       "      SaleType_New  SaleType_Oth  SaleType_WD  SaleCondition_Abnorml  \\\n",
       "Id                                                                     \n",
       "1                0             0            1                      0   \n",
       "2                0             0            1                      0   \n",
       "3                0             0            1                      0   \n",
       "4                0             0            1                      1   \n",
       "5                0             0            1                      0   \n",
       "...            ...           ...          ...                    ...   \n",
       "1456             0             0            1                      0   \n",
       "1457             0             0            1                      0   \n",
       "1458             0             0            1                      0   \n",
       "1459             0             0            1                      0   \n",
       "1460             0             0            1                      0   \n",
       "\n",
       "      SaleCondition_AdjLand  SaleCondition_Alloca  SaleCondition_Family  \\\n",
       "Id                                                                        \n",
       "1                         0                     0                     0   \n",
       "2                         0                     0                     0   \n",
       "3                         0                     0                     0   \n",
       "4                         0                     0                     0   \n",
       "5                         0                     0                     0   \n",
       "...                     ...                   ...                   ...   \n",
       "1456                      0                     0                     0   \n",
       "1457                      0                     0                     0   \n",
       "1458                      0                     0                     0   \n",
       "1459                      0                     0                     0   \n",
       "1460                      0                     0                     0   \n",
       "\n",
       "      SaleCondition_Normal  SaleCondition_Partial  \n",
       "Id                                                 \n",
       "1                        1                      0  \n",
       "2                        1                      0  \n",
       "3                        1                      0  \n",
       "4                        0                      0  \n",
       "5                        1                      0  \n",
       "...                    ...                    ...  \n",
       "1456                     1                      0  \n",
       "1457                     1                      0  \n",
       "1458                     1                      0  \n",
       "1459                     1                      0  \n",
       "1460                     1                      0  \n",
       "\n",
       "[1452 rows x 274 columns]"
      ]
     },
     "execution_count": 4,
     "metadata": {},
     "output_type": "execute_result"
    }
   ],
   "source": [
    "pd.get_dummies(housing)"
   ]
  },
  {
   "cell_type": "markdown",
   "metadata": {},
   "source": [
    "My interpretation of the get dummies function is that it took each categorical variable and added a variable to the dataframe for each category and populated that variable with a binary to capture datapoints from that category. "
   ]
  },
  {
   "cell_type": "code",
   "execution_count": 5,
   "metadata": {},
   "outputs": [],
   "source": [
    "housing_dummies = pd.get_dummies(housing)"
   ]
  },
  {
   "cell_type": "code",
   "execution_count": null,
   "metadata": {},
   "outputs": [],
   "source": []
  },
  {
   "cell_type": "code",
   "execution_count": 6,
   "metadata": {},
   "outputs": [],
   "source": [
    "# Creating Target and Feature Arrays\n",
    "# .values returns numpy array instead of dataframe\n",
    "X = housing_dummies.drop('SalePrice', axis=1).values\n",
    "y = housing_dummies.SalePrice.values"
   ]
  },
  {
   "cell_type": "code",
   "execution_count": 7,
   "metadata": {},
   "outputs": [],
   "source": [
    "# Unsure as what I need as far as reshaping goes\n",
    "X.shape\n",
    "y.shape\n",
    "\n",
    "y = y.reshape(-1, 1)"
   ]
  },
  {
   "cell_type": "code",
   "execution_count": 8,
   "metadata": {},
   "outputs": [],
   "source": [
    "# Train test split\n",
    "X_train, X_test, y_train, y_test = train_test_split(X, y, test_size = 0.25, random_state=42)"
   ]
  },
  {
   "cell_type": "code",
   "execution_count": 9,
   "metadata": {},
   "outputs": [
    {
     "data": {
      "text/plain": [
       "(1089, 273)"
      ]
     },
     "execution_count": 9,
     "metadata": {},
     "output_type": "execute_result"
    }
   ],
   "source": [
    "X_train.shape"
   ]
  },
  {
   "cell_type": "code",
   "execution_count": 10,
   "metadata": {},
   "outputs": [
    {
     "data": {
      "text/html": [
       "<div>\n",
       "<style scoped>\n",
       "    .dataframe tbody tr th:only-of-type {\n",
       "        vertical-align: middle;\n",
       "    }\n",
       "\n",
       "    .dataframe tbody tr th {\n",
       "        vertical-align: top;\n",
       "    }\n",
       "\n",
       "    .dataframe thead th {\n",
       "        text-align: right;\n",
       "    }\n",
       "</style>\n",
       "<table border=\"1\" class=\"dataframe\">\n",
       "  <thead>\n",
       "    <tr style=\"text-align: right;\">\n",
       "      <th></th>\n",
       "      <th>R_Squared</th>\n",
       "      <th>RMSE</th>\n",
       "      <th>MAPE (%)</th>\n",
       "      <th>Worst Underestimate</th>\n",
       "      <th>Worst Overestimate</th>\n",
       "    </tr>\n",
       "    <tr>\n",
       "      <th>Model</th>\n",
       "      <th></th>\n",
       "      <th></th>\n",
       "      <th></th>\n",
       "      <th></th>\n",
       "      <th></th>\n",
       "    </tr>\n",
       "  </thead>\n",
       "  <tbody>\n",
       "  </tbody>\n",
       "</table>\n",
       "</div>"
      ],
      "text/plain": [
       "Empty DataFrame\n",
       "Columns: [R_Squared, RMSE, MAPE (%), Worst Underestimate, Worst Overestimate]\n",
       "Index: []"
      ]
     },
     "execution_count": 10,
     "metadata": {},
     "output_type": "execute_result"
    }
   ],
   "source": [
    "# Creating a dataframe for performance metrics\n",
    "d = {'R_Squared': [], 'RMSE': [], 'MAPE (%)': [], 'Worst Underestimate':[], 'Worst Overestimate':[]}\n",
    "metrics = pd.DataFrame(data=d)\n",
    "metrics.index.name = 'Model'\n",
    "metrics"
   ]
  },
  {
   "cell_type": "code",
   "execution_count": 11,
   "metadata": {},
   "outputs": [],
   "source": [
    "# Create LinearRegression Object\n",
    "reg = LinearRegression()"
   ]
  },
  {
   "cell_type": "code",
   "execution_count": 12,
   "metadata": {},
   "outputs": [
    {
     "data": {
      "text/plain": [
       "LinearRegression(copy_X=True, fit_intercept=True, n_jobs=None, normalize=False)"
      ]
     },
     "execution_count": 12,
     "metadata": {},
     "output_type": "execute_result"
    }
   ],
   "source": [
    "# Fit the data\n",
    "reg.fit(X_train, y_train)"
   ]
  },
  {
   "cell_type": "code",
   "execution_count": 13,
   "metadata": {},
   "outputs": [],
   "source": [
    "# Create Predictions based on fit\n",
    "y_pred_test = reg.predict(X_test)\n",
    "y_pred_train = reg.predict(X_train)\n",
    "y_pred_all = reg.predict(X)"
   ]
  },
  {
   "cell_type": "code",
   "execution_count": 14,
   "metadata": {},
   "outputs": [
    {
     "name": "stdout",
     "output_type": "stream",
     "text": [
      "R^2: 0.930668487832045\n",
      "Root Mean Squared Error: 20867.61910938707\n",
      "Mean Absolute Percent Error: 8.179160424146515\n"
     ]
    }
   ],
   "source": [
    "# Performance Metrics for training set\n",
    "print(\"R^2: {}\".format(reg.score(X_train, y_train)))\n",
    "rmse = np.sqrt(mean_squared_error(y_train, y_pred_train))\n",
    "print(\"Root Mean Squared Error: {}\".format(rmse))\n",
    "error = (y_train-y_pred_train)/y_train * 100\n",
    "mape = abs(error).mean()\n",
    "print('Mean Absolute Percent Error: {}'.format(mape))"
   ]
  },
  {
   "cell_type": "code",
   "execution_count": null,
   "metadata": {},
   "outputs": [],
   "source": []
  },
  {
   "cell_type": "code",
   "execution_count": 15,
   "metadata": {},
   "outputs": [],
   "source": [
    "# Adding metrics to the metrics dataframe\n",
    "d = {'R_Squared': [reg.score(X_train, y_train)], 'RMSE': [rmse], 'MAPE (%)': [mape], \n",
    "     'Worst Underestimate':['N/A'], 'Worst Overestimate':['N/A']}\n",
    "temp = pd.DataFrame(data=d, index=['Linear_Train'])\n",
    "temp.index.name = 'Model'\n",
    "metrics = metrics.append(temp)"
   ]
  },
  {
   "cell_type": "code",
   "execution_count": 16,
   "metadata": {
    "scrolled": true
   },
   "outputs": [
    {
     "data": {
      "text/html": [
       "<div>\n",
       "<style scoped>\n",
       "    .dataframe tbody tr th:only-of-type {\n",
       "        vertical-align: middle;\n",
       "    }\n",
       "\n",
       "    .dataframe tbody tr th {\n",
       "        vertical-align: top;\n",
       "    }\n",
       "\n",
       "    .dataframe thead th {\n",
       "        text-align: right;\n",
       "    }\n",
       "</style>\n",
       "<table border=\"1\" class=\"dataframe\">\n",
       "  <thead>\n",
       "    <tr style=\"text-align: right;\">\n",
       "      <th></th>\n",
       "      <th>R_Squared</th>\n",
       "      <th>RMSE</th>\n",
       "      <th>MAPE (%)</th>\n",
       "      <th>Worst Underestimate</th>\n",
       "      <th>Worst Overestimate</th>\n",
       "    </tr>\n",
       "    <tr>\n",
       "      <th>Model</th>\n",
       "      <th></th>\n",
       "      <th></th>\n",
       "      <th></th>\n",
       "      <th></th>\n",
       "      <th></th>\n",
       "    </tr>\n",
       "  </thead>\n",
       "  <tbody>\n",
       "    <tr>\n",
       "      <td>Linear_Train</td>\n",
       "      <td>0.930668</td>\n",
       "      <td>20867.619109</td>\n",
       "      <td>8.17916</td>\n",
       "      <td>N/A</td>\n",
       "      <td>N/A</td>\n",
       "    </tr>\n",
       "  </tbody>\n",
       "</table>\n",
       "</div>"
      ],
      "text/plain": [
       "              R_Squared          RMSE  MAPE (%) Worst Underestimate  \\\n",
       "Model                                                                 \n",
       "Linear_Train   0.930668  20867.619109   8.17916                 N/A   \n",
       "\n",
       "             Worst Overestimate  \n",
       "Model                            \n",
       "Linear_Train                N/A  "
      ]
     },
     "execution_count": 16,
     "metadata": {},
     "output_type": "execute_result"
    }
   ],
   "source": [
    "metrics"
   ]
  },
  {
   "cell_type": "code",
   "execution_count": 17,
   "metadata": {},
   "outputs": [
    {
     "name": "stdout",
     "output_type": "stream",
     "text": [
      "R^2: 0.8770252691748901\n",
      "Root Mean Squared Error: 27774.277800625732\n",
      "Mean Absolute Percent Error: 11.10724000427329\n"
     ]
    }
   ],
   "source": [
    "# Performance Metrics for test set\n",
    "print(\"R^2: {}\".format(reg.score(X_test, y_test)))\n",
    "rmse = np.sqrt(mean_squared_error(y_test, y_pred_test))\n",
    "print(\"Root Mean Squared Error: {}\".format(rmse))\n",
    "error = (y_test-y_pred_test)/y_test * 100\n",
    "mape = abs(error).mean()\n",
    "print('Mean Absolute Percent Error: {}'.format(mape))"
   ]
  },
  {
   "cell_type": "code",
   "execution_count": null,
   "metadata": {},
   "outputs": [],
   "source": []
  },
  {
   "cell_type": "code",
   "execution_count": 18,
   "metadata": {},
   "outputs": [],
   "source": [
    "# Finding worst residuals for 95% \n",
    "residuals = y_test - y_pred_test\n",
    "residuals_trimmed = residuals[abs(residuals) < np.mean(residuals)+2*np.std(residuals)]\n",
    "r_pos = max(residuals_trimmed)\n",
    "r_neg = abs(min(residuals_trimmed))"
   ]
  },
  {
   "cell_type": "markdown",
   "metadata": {},
   "source": [
    "Given a prediction \"p\" computed by my model, the worst case scenarios according to the tests I performed, are"
   ]
  },
  {
   "cell_type": "code",
   "execution_count": 19,
   "metadata": {},
   "outputs": [
    {
     "name": "stdout",
     "output_type": "stream",
     "text": [
      "p - 55049.22390020732\n",
      "p + 54799.052583360346\n"
     ]
    }
   ],
   "source": [
    "print('p - {}'.format(r_neg))\n",
    "print('p + {}'.format(r_pos))"
   ]
  },
  {
   "cell_type": "code",
   "execution_count": 20,
   "metadata": {
    "scrolled": true
   },
   "outputs": [],
   "source": [
    "# Adding metrics to the metrics dataframe\n",
    "d = {'R_Squared': [reg.score(X_test, y_test)], 'RMSE': [rmse], 'MAPE (%)': [mape],  \n",
    "     'Worst Underestimate':[r_pos], 'Worst Overestimate':[r_neg]}\n",
    "temp = pd.DataFrame(data=d, index=['Linear_Test'])\n",
    "temp.index.name = 'Model'\n",
    "metrics = metrics.append(temp)"
   ]
  },
  {
   "cell_type": "code",
   "execution_count": 21,
   "metadata": {},
   "outputs": [
    {
     "data": {
      "text/html": [
       "<div>\n",
       "<style scoped>\n",
       "    .dataframe tbody tr th:only-of-type {\n",
       "        vertical-align: middle;\n",
       "    }\n",
       "\n",
       "    .dataframe tbody tr th {\n",
       "        vertical-align: top;\n",
       "    }\n",
       "\n",
       "    .dataframe thead th {\n",
       "        text-align: right;\n",
       "    }\n",
       "</style>\n",
       "<table border=\"1\" class=\"dataframe\">\n",
       "  <thead>\n",
       "    <tr style=\"text-align: right;\">\n",
       "      <th></th>\n",
       "      <th>R_Squared</th>\n",
       "      <th>RMSE</th>\n",
       "      <th>MAPE (%)</th>\n",
       "      <th>Worst Underestimate</th>\n",
       "      <th>Worst Overestimate</th>\n",
       "    </tr>\n",
       "    <tr>\n",
       "      <th>Model</th>\n",
       "      <th></th>\n",
       "      <th></th>\n",
       "      <th></th>\n",
       "      <th></th>\n",
       "      <th></th>\n",
       "    </tr>\n",
       "  </thead>\n",
       "  <tbody>\n",
       "    <tr>\n",
       "      <td>Linear_Train</td>\n",
       "      <td>0.930668</td>\n",
       "      <td>20867.619109</td>\n",
       "      <td>8.17916</td>\n",
       "      <td>N/A</td>\n",
       "      <td>N/A</td>\n",
       "    </tr>\n",
       "    <tr>\n",
       "      <td>Linear_Test</td>\n",
       "      <td>0.877025</td>\n",
       "      <td>27774.277801</td>\n",
       "      <td>11.10724</td>\n",
       "      <td>54799.1</td>\n",
       "      <td>55049.2</td>\n",
       "    </tr>\n",
       "  </tbody>\n",
       "</table>\n",
       "</div>"
      ],
      "text/plain": [
       "              R_Squared          RMSE  MAPE (%) Worst Underestimate  \\\n",
       "Model                                                                 \n",
       "Linear_Train   0.930668  20867.619109   8.17916                 N/A   \n",
       "Linear_Test    0.877025  27774.277801  11.10724             54799.1   \n",
       "\n",
       "             Worst Overestimate  \n",
       "Model                            \n",
       "Linear_Train                N/A  \n",
       "Linear_Test             55049.2  "
      ]
     },
     "execution_count": 21,
     "metadata": {},
     "output_type": "execute_result"
    }
   ],
   "source": [
    "metrics"
   ]
  },
  {
   "cell_type": "markdown",
   "metadata": {},
   "source": [
    "# Overfitting\n",
    "\n",
    "The performance metrics suggest some overfitting. Differences in R squared and MAPE between the training and test sets suggest some overfitting. Errors in the test set also increased by roughly 33%. \n",
    "\n",
    "Models to be explored for less overfitting include ridge and lasso. Once baselines have been tested, hyperparamaters will be tuned. \n"
   ]
  },
  {
   "cell_type": "code",
   "execution_count": 22,
   "metadata": {},
   "outputs": [],
   "source": [
    "# Applying Ridge Regression\n",
    "\n",
    "# Train test split -- Random state 42 should produce same split as above\n",
    "X_train, X_test, y_train, y_test = train_test_split(X, y, test_size = 0.25, random_state=42)\n",
    "\n",
    "# Creating Ridge object, fitting, and predicting. Normalize = true ensures all variables are on the same scale\n",
    "ridge = Ridge(alpha=0.1, normalize = True)\n",
    "ridge.fit(X_train, y_train)\n",
    "ridge_pred_test = ridge.predict(X_test)\n",
    "ridge_pred_train = ridge.predict(X_train)"
   ]
  },
  {
   "cell_type": "code",
   "execution_count": 23,
   "metadata": {},
   "outputs": [
    {
     "name": "stdout",
     "output_type": "stream",
     "text": [
      "R^2: 0.9247829736114249\n",
      "Root Mean Squared Error: 21735.300298706716\n",
      "Mean Absolute Percent Error: 8.211178219406166\n"
     ]
    }
   ],
   "source": [
    "# Metrics for train set\n",
    "print(\"R^2: {}\".format(ridge.score(X_train, y_train)))\n",
    "rmse = np.sqrt(mean_squared_error(y_train, ridge_pred_train))\n",
    "print(\"Root Mean Squared Error: {}\".format(rmse))\n",
    "error = (y_train-ridge_pred_train)/y_train * 100\n",
    "mape = abs(error).mean()\n",
    "print('Mean Absolute Percent Error: {}'.format(mape))"
   ]
  },
  {
   "cell_type": "code",
   "execution_count": 24,
   "metadata": {},
   "outputs": [],
   "source": [
    "# Adding metrics to the metrics dataframe\n",
    "d = {'R_Squared': [ridge.score(X_train, y_train)], 'RMSE': [rmse], 'MAPE (%)': [mape], \n",
    "     'Worst Underestimate':['N/A'], 'Worst Overestimate':['N/A']}\n",
    "temp = pd.DataFrame(data=d, index=['Ridge_Train'])\n",
    "temp.index.name = 'Model'\n",
    "metrics = metrics.append(temp)"
   ]
  },
  {
   "cell_type": "code",
   "execution_count": 25,
   "metadata": {},
   "outputs": [
    {
     "name": "stdout",
     "output_type": "stream",
     "text": [
      "R^2: 0.8946196664700052\n",
      "Root Mean Squared Error: 25710.742518631756\n",
      "Mean Absolute Percent Error: 9.869781484030518\n"
     ]
    }
   ],
   "source": [
    "# Performance Metrics for test set\n",
    "print(\"R^2: {}\".format(ridge.score(X_test, y_test)))\n",
    "rmse = np.sqrt(mean_squared_error(y_test, ridge_pred_test))\n",
    "print(\"Root Mean Squared Error: {}\".format(rmse))\n",
    "error = (y_test-ridge_pred_test)/y_test * 100\n",
    "mape = abs(error).mean()\n",
    "print('Mean Absolute Percent Error: {}'.format(mape))"
   ]
  },
  {
   "cell_type": "code",
   "execution_count": null,
   "metadata": {},
   "outputs": [],
   "source": []
  },
  {
   "cell_type": "code",
   "execution_count": 26,
   "metadata": {},
   "outputs": [],
   "source": [
    "# Finding worst residuals for 95% \n",
    "residuals = y_test - ridge_pred_test\n",
    "residuals_trimmed = residuals[abs(residuals) < np.mean(residuals)+2*np.std(residuals)]\n",
    "r_pos = max(residuals_trimmed)\n",
    "r_neg = abs(min(residuals_trimmed))"
   ]
  },
  {
   "cell_type": "markdown",
   "metadata": {},
   "source": [
    "Given a prediction \"p\" computed by my model, the worst case scenarios according to the tests I performed, are"
   ]
  },
  {
   "cell_type": "code",
   "execution_count": 27,
   "metadata": {},
   "outputs": [
    {
     "name": "stdout",
     "output_type": "stream",
     "text": [
      "p - 47665.922990396735\n",
      "p + 40291.02307466068\n"
     ]
    }
   ],
   "source": [
    "print('p - {}'.format(r_neg))\n",
    "print('p + {}'.format(r_pos))"
   ]
  },
  {
   "cell_type": "code",
   "execution_count": 28,
   "metadata": {},
   "outputs": [],
   "source": [
    "# Adding metrics to the metrics dataframe\n",
    "d = {'R_Squared': [ridge.score(X_test, y_test)], 'RMSE': [rmse], 'MAPE (%)': [mape],\n",
    "    'Worst Underestimate':[r_pos], 'Worst Overestimate':[r_neg]}\n",
    "temp = pd.DataFrame(data=d, index=['Ridge_Test'])\n",
    "temp.index.name = 'Model'\n",
    "metrics = metrics.append(temp)"
   ]
  },
  {
   "cell_type": "code",
   "execution_count": 29,
   "metadata": {},
   "outputs": [
    {
     "data": {
      "text/html": [
       "<div>\n",
       "<style scoped>\n",
       "    .dataframe tbody tr th:only-of-type {\n",
       "        vertical-align: middle;\n",
       "    }\n",
       "\n",
       "    .dataframe tbody tr th {\n",
       "        vertical-align: top;\n",
       "    }\n",
       "\n",
       "    .dataframe thead th {\n",
       "        text-align: right;\n",
       "    }\n",
       "</style>\n",
       "<table border=\"1\" class=\"dataframe\">\n",
       "  <thead>\n",
       "    <tr style=\"text-align: right;\">\n",
       "      <th></th>\n",
       "      <th>R_Squared</th>\n",
       "      <th>RMSE</th>\n",
       "      <th>MAPE (%)</th>\n",
       "      <th>Worst Underestimate</th>\n",
       "      <th>Worst Overestimate</th>\n",
       "    </tr>\n",
       "    <tr>\n",
       "      <th>Model</th>\n",
       "      <th></th>\n",
       "      <th></th>\n",
       "      <th></th>\n",
       "      <th></th>\n",
       "      <th></th>\n",
       "    </tr>\n",
       "  </thead>\n",
       "  <tbody>\n",
       "    <tr>\n",
       "      <td>Linear_Train</td>\n",
       "      <td>0.930668</td>\n",
       "      <td>20867.619109</td>\n",
       "      <td>8.179160</td>\n",
       "      <td>N/A</td>\n",
       "      <td>N/A</td>\n",
       "    </tr>\n",
       "    <tr>\n",
       "      <td>Linear_Test</td>\n",
       "      <td>0.877025</td>\n",
       "      <td>27774.277801</td>\n",
       "      <td>11.107240</td>\n",
       "      <td>54799.1</td>\n",
       "      <td>55049.2</td>\n",
       "    </tr>\n",
       "    <tr>\n",
       "      <td>Ridge_Train</td>\n",
       "      <td>0.924783</td>\n",
       "      <td>21735.300299</td>\n",
       "      <td>8.211178</td>\n",
       "      <td>N/A</td>\n",
       "      <td>N/A</td>\n",
       "    </tr>\n",
       "    <tr>\n",
       "      <td>Ridge_Test</td>\n",
       "      <td>0.894620</td>\n",
       "      <td>25710.742519</td>\n",
       "      <td>9.869781</td>\n",
       "      <td>40291</td>\n",
       "      <td>47665.9</td>\n",
       "    </tr>\n",
       "  </tbody>\n",
       "</table>\n",
       "</div>"
      ],
      "text/plain": [
       "              R_Squared          RMSE   MAPE (%) Worst Underestimate  \\\n",
       "Model                                                                  \n",
       "Linear_Train   0.930668  20867.619109   8.179160                 N/A   \n",
       "Linear_Test    0.877025  27774.277801  11.107240             54799.1   \n",
       "Ridge_Train    0.924783  21735.300299   8.211178                 N/A   \n",
       "Ridge_Test     0.894620  25710.742519   9.869781               40291   \n",
       "\n",
       "             Worst Overestimate  \n",
       "Model                            \n",
       "Linear_Train                N/A  \n",
       "Linear_Test             55049.2  \n",
       "Ridge_Train                 N/A  \n",
       "Ridge_Test              47665.9  "
      ]
     },
     "execution_count": 29,
     "metadata": {},
     "output_type": "execute_result"
    }
   ],
   "source": [
    "metrics"
   ]
  },
  {
   "cell_type": "code",
   "execution_count": null,
   "metadata": {},
   "outputs": [],
   "source": []
  },
  {
   "cell_type": "code",
   "execution_count": 30,
   "metadata": {},
   "outputs": [
    {
     "name": "stderr",
     "output_type": "stream",
     "text": [
      "/opt/anaconda3/lib/python3.7/site-packages/sklearn/linear_model/coordinate_descent.py:475: ConvergenceWarning: Objective did not converge. You might want to increase the number of iterations. Duality gap: 27038030845.835327, tolerance: 683979380.2201886\n",
      "  positive)\n"
     ]
    }
   ],
   "source": [
    "# Applying Lasso Regression\n",
    "\n",
    "# Train test split -- Random state 42 should produce same split as above\n",
    "X_train, X_test, y_train, y_test = train_test_split(X, y, test_size = 0.25, random_state=42)\n",
    "\n",
    "lasso = Lasso(alpha = 0.1, normalize = True)\n",
    "lasso.fit(X_train, y_train)\n",
    "lasso_pred_test = lasso.predict(X_test)\n",
    "lasso_pred_train = lasso.predict(X_train)"
   ]
  },
  {
   "cell_type": "code",
   "execution_count": 31,
   "metadata": {},
   "outputs": [
    {
     "name": "stdout",
     "output_type": "stream",
     "text": [
      "R^2: 0.9306625361304\n",
      "Root Mean Squared Error: 20868.514771213853\n",
      "Mean Absolute Percent Error: 49.564077550621406\n"
     ]
    }
   ],
   "source": [
    "# Performance metrics for train set\n",
    "print(\"R^2: {}\".format(lasso.score(X_train, y_train)))\n",
    "rmse = np.sqrt(mean_squared_error(y_train, lasso_pred_train))\n",
    "print(\"Root Mean Squared Error: {}\".format(rmse))\n",
    "error = (y_train-lasso_pred_train)/y_train * 100\n",
    "mape = abs(error).mean()\n",
    "print('Mean Absolute Percent Error: {}'.format(mape))"
   ]
  },
  {
   "cell_type": "code",
   "execution_count": 32,
   "metadata": {},
   "outputs": [],
   "source": [
    "# Adding metrics to the metrics dataframe\n",
    "d = {'R_Squared': [lasso.score(X_train, y_train)], 'RMSE': [rmse], 'MAPE (%)': [mape],\n",
    "    'Worst Underestimate':['N/A'], 'Worst Overestimate':['N/A']}\n",
    "temp = pd.DataFrame(data=d, index=['Lasso_Train'])\n",
    "temp.index.name = 'Model'\n",
    "metrics = metrics.append(temp)"
   ]
  },
  {
   "cell_type": "code",
   "execution_count": 33,
   "metadata": {},
   "outputs": [
    {
     "name": "stdout",
     "output_type": "stream",
     "text": [
      "R^2: 0.8870814680713186\n",
      "Root Mean Squared Error: 26614.44697352724\n",
      "Mean Absolute Percent Error: 50.80983987084027\n"
     ]
    }
   ],
   "source": [
    "# Performance Metrics for test set\n",
    "print(\"R^2: {}\".format(lasso.score(X_test, y_test)))\n",
    "rmse = np.sqrt(mean_squared_error(y_test, lasso_pred_test))\n",
    "print(\"Root Mean Squared Error: {}\".format(rmse))\n",
    "error = (y_test-lasso_pred_test)/y_test * 100\n",
    "mape = abs(error).mean()\n",
    "print('Mean Absolute Percent Error: {}'.format(mape))"
   ]
  },
  {
   "cell_type": "code",
   "execution_count": 34,
   "metadata": {},
   "outputs": [],
   "source": [
    "# Finding worst residuals for 95% \n",
    "residuals = y_test - lasso_pred_test\n",
    "residuals_trimmed = residuals[abs(residuals) < np.mean(residuals)+2*np.std(residuals)]\n",
    "r_pos = max(residuals_trimmed)\n",
    "r_neg = abs(min(residuals_trimmed))"
   ]
  },
  {
   "cell_type": "markdown",
   "metadata": {},
   "source": [
    "Given a prediction \"p\" computed by my model, the worst case scenarios according to the tests I performed, are"
   ]
  },
  {
   "cell_type": "code",
   "execution_count": 35,
   "metadata": {},
   "outputs": [
    {
     "name": "stdout",
     "output_type": "stream",
     "text": [
      "p - 219698.17423126614\n",
      "p + 219702.31302821194\n"
     ]
    }
   ],
   "source": [
    "print('p - {}'.format(r_neg))\n",
    "print('p + {}'.format(r_pos))"
   ]
  },
  {
   "cell_type": "code",
   "execution_count": 36,
   "metadata": {},
   "outputs": [],
   "source": [
    "# Adding metrics to the metrics dataframe\n",
    "d = {'R_Squared': [lasso.score(X_test, y_test)], 'RMSE': [rmse], 'MAPE (%)': [mape],\n",
    "    'Worst Underestimate':[r_pos], 'Worst Overestimate':[r_neg]}\n",
    "temp = pd.DataFrame(data=d, index=['Lasso_Test'])\n",
    "temp.index.name = 'Model'\n",
    "metrics = metrics.append(temp)"
   ]
  },
  {
   "cell_type": "code",
   "execution_count": null,
   "metadata": {},
   "outputs": [],
   "source": []
  },
  {
   "cell_type": "code",
   "execution_count": 37,
   "metadata": {},
   "outputs": [
    {
     "data": {
      "text/html": [
       "<div>\n",
       "<style scoped>\n",
       "    .dataframe tbody tr th:only-of-type {\n",
       "        vertical-align: middle;\n",
       "    }\n",
       "\n",
       "    .dataframe tbody tr th {\n",
       "        vertical-align: top;\n",
       "    }\n",
       "\n",
       "    .dataframe thead th {\n",
       "        text-align: right;\n",
       "    }\n",
       "</style>\n",
       "<table border=\"1\" class=\"dataframe\">\n",
       "  <thead>\n",
       "    <tr style=\"text-align: right;\">\n",
       "      <th></th>\n",
       "      <th>R_Squared</th>\n",
       "      <th>RMSE</th>\n",
       "      <th>MAPE (%)</th>\n",
       "      <th>Worst Underestimate</th>\n",
       "      <th>Worst Overestimate</th>\n",
       "    </tr>\n",
       "    <tr>\n",
       "      <th>Model</th>\n",
       "      <th></th>\n",
       "      <th></th>\n",
       "      <th></th>\n",
       "      <th></th>\n",
       "      <th></th>\n",
       "    </tr>\n",
       "  </thead>\n",
       "  <tbody>\n",
       "    <tr>\n",
       "      <td>Linear_Train</td>\n",
       "      <td>0.930668</td>\n",
       "      <td>20867.619109</td>\n",
       "      <td>8.179160</td>\n",
       "      <td>N/A</td>\n",
       "      <td>N/A</td>\n",
       "    </tr>\n",
       "    <tr>\n",
       "      <td>Linear_Test</td>\n",
       "      <td>0.877025</td>\n",
       "      <td>27774.277801</td>\n",
       "      <td>11.107240</td>\n",
       "      <td>54799.1</td>\n",
       "      <td>55049.2</td>\n",
       "    </tr>\n",
       "    <tr>\n",
       "      <td>Ridge_Train</td>\n",
       "      <td>0.924783</td>\n",
       "      <td>21735.300299</td>\n",
       "      <td>8.211178</td>\n",
       "      <td>N/A</td>\n",
       "      <td>N/A</td>\n",
       "    </tr>\n",
       "    <tr>\n",
       "      <td>Ridge_Test</td>\n",
       "      <td>0.894620</td>\n",
       "      <td>25710.742519</td>\n",
       "      <td>9.869781</td>\n",
       "      <td>40291</td>\n",
       "      <td>47665.9</td>\n",
       "    </tr>\n",
       "    <tr>\n",
       "      <td>Lasso_Train</td>\n",
       "      <td>0.930663</td>\n",
       "      <td>20868.514771</td>\n",
       "      <td>49.564078</td>\n",
       "      <td>N/A</td>\n",
       "      <td>N/A</td>\n",
       "    </tr>\n",
       "    <tr>\n",
       "      <td>Lasso_Test</td>\n",
       "      <td>0.887081</td>\n",
       "      <td>26614.446974</td>\n",
       "      <td>50.809840</td>\n",
       "      <td>219702</td>\n",
       "      <td>219698</td>\n",
       "    </tr>\n",
       "  </tbody>\n",
       "</table>\n",
       "</div>"
      ],
      "text/plain": [
       "              R_Squared          RMSE   MAPE (%) Worst Underestimate  \\\n",
       "Model                                                                  \n",
       "Linear_Train   0.930668  20867.619109   8.179160                 N/A   \n",
       "Linear_Test    0.877025  27774.277801  11.107240             54799.1   \n",
       "Ridge_Train    0.924783  21735.300299   8.211178                 N/A   \n",
       "Ridge_Test     0.894620  25710.742519   9.869781               40291   \n",
       "Lasso_Train    0.930663  20868.514771  49.564078                 N/A   \n",
       "Lasso_Test     0.887081  26614.446974  50.809840              219702   \n",
       "\n",
       "             Worst Overestimate  \n",
       "Model                            \n",
       "Linear_Train                N/A  \n",
       "Linear_Test             55049.2  \n",
       "Ridge_Train                 N/A  \n",
       "Ridge_Test              47665.9  \n",
       "Lasso_Train                 N/A  \n",
       "Lasso_Test               219698  "
      ]
     },
     "execution_count": 37,
     "metadata": {},
     "output_type": "execute_result"
    }
   ],
   "source": [
    "metrics"
   ]
  },
  {
   "cell_type": "markdown",
   "metadata": {},
   "source": [
    "# Overfitting\n",
    "\n",
    "The performance metrics for ridge regression provided less overfitting. Distance between train and test statistics was reduced for R squared, raw error, mean percent error. The metrics for lasso provided a much higher percent error. "
   ]
  },
  {
   "cell_type": "code",
   "execution_count": null,
   "metadata": {},
   "outputs": [],
   "source": []
  },
  {
   "cell_type": "code",
   "execution_count": 38,
   "metadata": {},
   "outputs": [
    {
     "name": "stdout",
     "output_type": "stream",
     "text": [
      "Tuned Logistic Regression Parameters: {'alpha': 10}\n",
      "Best score is 0.8468218166699397\n"
     ]
    },
    {
     "name": "stderr",
     "output_type": "stream",
     "text": [
      "/opt/anaconda3/lib/python3.7/site-packages/sklearn/model_selection/_search.py:814: DeprecationWarning: The default of the `iid` parameter will change from True to False in version 0.22 and will be removed in 0.24. This will change numeric results when test-set sizes are unequal.\n",
      "  DeprecationWarning)\n"
     ]
    }
   ],
   "source": [
    "# Setup the hyperparameter grid\n",
    "alpha_space = list(np.arange(11)/10)\n",
    "alpha_space.append(5)\n",
    "alpha_space.append(10)\n",
    "alpha_space.append(50)\n",
    "alpha_space.append(100)\n",
    "alpha_space.append(500)\n",
    "alpha_space.append(1000)\n",
    "alpha_space.append(5000)\n",
    "alpha_space.append(10000)\n",
    "param_grid = {'alpha': alpha_space}\n",
    "\n",
    "# Instantiate a ridge regression classifier: ridge\n",
    "ridge = Ridge()\n",
    "\n",
    "# Instantiate the GridSearchCV object: logreg_cv\n",
    "ridge_cv = GridSearchCV(ridge, param_grid, cv=5)\n",
    "\n",
    "# Fit it to the data\n",
    "ridge_cv.fit(X, y)\n",
    "\n",
    "# Print the tuned parameters and score\n",
    "print(\"Tuned Logistic Regression Parameters: {}\".format(ridge_cv.best_params_)) \n",
    "print(\"Best score is {}\".format(ridge_cv.best_score_))"
   ]
  },
  {
   "cell_type": "code",
   "execution_count": 39,
   "metadata": {},
   "outputs": [
    {
     "data": {
      "text/plain": [
       "{'mean_fit_time': array([0.07036781, 0.0102428 , 0.00963421, 0.01024599, 0.01076455,\n",
       "        0.01143718, 0.01179361, 0.01119118, 0.01149983, 0.01149397,\n",
       "        0.01192002, 0.01424971, 0.01098604, 0.0113008 , 0.01545572,\n",
       "        0.0134758 , 0.01104002, 0.01087842, 0.01060081]),\n",
       " 'std_fit_time': array([0.03858205, 0.00118485, 0.00085629, 0.00078151, 0.00068728,\n",
       "        0.0003909 , 0.00106445, 0.00105792, 0.00087775, 0.0005134 ,\n",
       "        0.00137886, 0.00332502, 0.00039708, 0.00189313, 0.00395649,\n",
       "        0.00168521, 0.00135932, 0.00053543, 0.0010053 ]),\n",
       " 'mean_score_time': array([0.00119524, 0.00093699, 0.00100598, 0.000877  , 0.00094709,\n",
       "        0.00116324, 0.00136089, 0.00117521, 0.00097203, 0.00106349,\n",
       "        0.00176172, 0.00112133, 0.00099506, 0.00110583, 0.00148039,\n",
       "        0.00152607, 0.00105934, 0.00091653, 0.00083437]),\n",
       " 'std_score_time': array([0.00015812, 0.00019255, 0.00025742, 0.00020292, 0.00016432,\n",
       "        0.00026484, 0.00049072, 0.00045545, 0.00018929, 0.00032278,\n",
       "        0.00080949, 0.00016406, 0.00010894, 0.00041055, 0.0007286 ,\n",
       "        0.00089225, 0.00018884, 0.00021344, 0.00012418]),\n",
       " 'param_alpha': masked_array(data=[0.0, 0.1, 0.2, 0.3, 0.4, 0.5, 0.6, 0.7, 0.8, 0.9, 1.0,\n",
       "                    5, 10, 50, 100, 500, 1000, 5000, 10000],\n",
       "              mask=[False, False, False, False, False, False, False, False,\n",
       "                    False, False, False, False, False, False, False, False,\n",
       "                    False, False, False],\n",
       "        fill_value='?',\n",
       "             dtype=object),\n",
       " 'params': [{'alpha': 0.0},\n",
       "  {'alpha': 0.1},\n",
       "  {'alpha': 0.2},\n",
       "  {'alpha': 0.3},\n",
       "  {'alpha': 0.4},\n",
       "  {'alpha': 0.5},\n",
       "  {'alpha': 0.6},\n",
       "  {'alpha': 0.7},\n",
       "  {'alpha': 0.8},\n",
       "  {'alpha': 0.9},\n",
       "  {'alpha': 1.0},\n",
       "  {'alpha': 5},\n",
       "  {'alpha': 10},\n",
       "  {'alpha': 50},\n",
       "  {'alpha': 100},\n",
       "  {'alpha': 500},\n",
       "  {'alpha': 1000},\n",
       "  {'alpha': 5000},\n",
       "  {'alpha': 10000}],\n",
       " 'split0_test_score': array([-1.37514193e+21,  8.55923036e-01,  8.65908790e-01,  8.72763583e-01,\n",
       "         8.77784543e-01,  8.81606309e-01,  8.84592389e-01,  8.86971175e-01,\n",
       "         8.88895198e-01,  8.90470822e-01,  8.91774658e-01,  9.00056520e-01,\n",
       "         9.00679804e-01,  8.99137129e-01,  8.93353869e-01,  8.61583822e-01,\n",
       "         8.39619893e-01,  7.85321049e-01,  7.70152479e-01]),\n",
       " 'split1_test_score': array([-1.01270707e+22,  8.24862007e-01,  8.26858170e-01,  8.27951269e-01,\n",
       "         8.28686255e-01,  8.29238703e-01,  8.29682839e-01,  8.30055800e-01,\n",
       "         8.30378487e-01,  8.30663740e-01,  8.30919988e-01,  8.35096134e-01,\n",
       "         8.36599984e-01,  8.34793717e-01,  8.30680019e-01,  8.09082946e-01,\n",
       "         7.91858922e-01,  7.45299994e-01,  7.31679714e-01]),\n",
       " 'split2_test_score': array([-6.16109435e+21,  8.42617794e-01,  8.51837711e-01,  8.57789274e-01,\n",
       "         8.62031405e-01,  8.65209458e-01,  8.67670287e-01,  8.69623376e-01,\n",
       "         8.71204123e-01,  8.72504213e-01,  8.73587953e-01,  8.81032233e-01,\n",
       "         8.79931537e-01,  8.69540967e-01,  8.62682756e-01,  8.43075482e-01,\n",
       "         8.31976074e-01,  8.04595051e-01,  7.96702932e-01]),\n",
       " 'split3_test_score': array([-1.41829290e+22,  8.83119382e-01,  8.81867747e-01,  8.80865184e-01,\n",
       "         8.80065593e-01,  8.79422897e-01,  8.78901492e-01,  8.78475050e-01,\n",
       "         8.78124092e-01,  8.77834022e-01,  8.77593722e-01,  8.77742801e-01,\n",
       "         8.79761658e-01,  8.80344603e-01,  8.75625106e-01,  8.45210101e-01,\n",
       "         8.22978663e-01,  7.67118031e-01,  7.51199708e-01]),\n",
       " 'split4_test_score': array([-2.33882718e+22,  6.97358545e-01,  7.01252747e-01,  7.04356644e-01,\n",
       "         7.06911051e-01,  7.09064709e-01,  7.10915326e-01,  7.12530105e-01,\n",
       "         7.13956968e-01,  7.15231122e-01,  7.16379086e-01,  7.32632235e-01,\n",
       "         7.36985631e-01,  7.31703856e-01,  7.21845621e-01,  6.85202580e-01,\n",
       "         6.63544521e-01,  6.13307749e-01,  5.99843572e-01]),\n",
       " 'mean_test_score': array([-1.10396071e+22,  8.20803173e-01,  8.25573736e-01,  8.28774960e-01,\n",
       "         8.31126265e-01,  8.32939426e-01,  8.34383851e-01,  8.35562757e-01,\n",
       "         8.36543626e-01,  8.37372776e-01,  8.38083170e-01,  8.45342652e-01,\n",
       "         8.46821817e-01,  8.43136921e-01,  8.36872157e-01,  8.08867491e-01,\n",
       "         7.90031074e-01,  7.43158929e-01,  7.29944607e-01]),\n",
       " 'std_test_score': array([7.48789365e+21, 6.45340698e-02, 6.46836107e-02, 6.47280415e-02,\n",
       "        6.47166073e-02, 6.46661418e-02, 6.45868112e-02, 6.44861456e-02,\n",
       "        6.43699865e-02, 6.42428855e-02, 6.41083739e-02, 6.01854733e-02,\n",
       "        5.87146156e-02, 5.94831032e-02, 6.10132251e-02, 6.41003684e-02,\n",
       "        6.52461474e-02, 6.77738311e-02, 6.84509858e-02]),\n",
       " 'rank_test_score': array([19, 14, 13, 12, 11, 10,  9,  8,  7,  5,  4,  2,  1,  3,  6, 15, 16,\n",
       "        17, 18], dtype=int32)}"
      ]
     },
     "execution_count": 39,
     "metadata": {},
     "output_type": "execute_result"
    }
   ],
   "source": [
    "ridge_cv.cv_results_"
   ]
  },
  {
   "cell_type": "code",
   "execution_count": 40,
   "metadata": {},
   "outputs": [
    {
     "data": {
      "image/png": "[encoded data removed]",
      "text/plain": [
       "<Figure size 432x288 with 1 Axes>"
      ]
     },
     "metadata": {
      "needs_background": "light"
     },
     "output_type": "display_data"
    }
   ],
   "source": [
    "# Create some plots showing cv score over different alpha values\n",
    "\n",
    "plt.plot(alpha_space[1:], ridge_cv.cv_results_['mean_test_score'][1:])\n",
    "plt.xlabel('Alpha')\n",
    "plt.ylabel('CV Score')\n",
    "plt.show()"
   ]
  },
  {
   "cell_type": "code",
   "execution_count": 41,
   "metadata": {},
   "outputs": [
    {
     "data": {
      "image/png": "[encoded data removed]",
      "text/plain": [
       "<Figure size 432x288 with 1 Axes>"
      ]
     },
     "metadata": {
      "needs_background": "light"
     },
     "output_type": "display_data"
    }
   ],
   "source": [
    "plt.plot(alpha_space[1:-4], ridge_cv.cv_results_['mean_test_score'][1:-4])\n",
    "plt.xlabel('Alpha')\n",
    "plt.ylabel('CV Score')\n",
    "plt.show()"
   ]
  },
  {
   "cell_type": "markdown",
   "metadata": {},
   "source": [
    "# Alpha optimization\n",
    "\n",
    "The alpha that produces the best score is alpha=10 so that will be used in future Ridge iterations"
   ]
  },
  {
   "cell_type": "code",
   "execution_count": 42,
   "metadata": {},
   "outputs": [],
   "source": [
    "# Applying Ridge Regression with different alpha based on grid search CV results\n",
    "\n",
    "# Train test split -- Random state 42 should produce same split as above\n",
    "X_train, X_test, y_train, y_test = train_test_split(X, y, test_size = 0.25, random_state=42)\n",
    "\n",
    "# Creating Ridge object, fitting, and predicting. Normalize = true ensures all variables are on the same scale\n",
    "ridge = Ridge(alpha=10, normalize = True)\n",
    "ridge.fit(X_train, y_train)\n",
    "ridge_pred_test = ridge.predict(X_test)\n",
    "ridge_pred_train = ridge.predict(X_train)\n"
   ]
  },
  {
   "cell_type": "code",
   "execution_count": 43,
   "metadata": {},
   "outputs": [
    {
     "name": "stdout",
     "output_type": "stream",
     "text": [
      "R^2: 0.6517879314718458\n",
      "Root Mean Squared Error: 46765.919130024624\n",
      "Mean Absolute Percent Error: 17.718179610349083\n"
     ]
    }
   ],
   "source": [
    "# Metrics for train set\n",
    "print(\"R^2: {}\".format(ridge.score(X_train, y_train)))\n",
    "rmse = np.sqrt(mean_squared_error(y_train, ridge_pred_train))\n",
    "print(\"Root Mean Squared Error: {}\".format(rmse))\n",
    "error = (y_train-ridge_pred_train)/y_train * 100\n",
    "mape = abs(error).mean()\n",
    "print('Mean Absolute Percent Error: {}'.format(mape))"
   ]
  },
  {
   "cell_type": "code",
   "execution_count": 44,
   "metadata": {},
   "outputs": [],
   "source": [
    "# Adding metrics to the metrics dataframe\n",
    "d = {'R_Squared': [ridge.score(X_train, y_train)], 'RMSE': [rmse], 'MAPE (%)': [mape],\n",
    "    'Worst Underestimate':['N/A'], 'Worst Overestimate':['N/A']}\n",
    "temp = pd.DataFrame(data=d, index=['Ridge_Train_a=10'])\n",
    "temp.index.name = 'Model'\n",
    "metrics = metrics.append(temp)"
   ]
  },
  {
   "cell_type": "code",
   "execution_count": 45,
   "metadata": {},
   "outputs": [
    {
     "name": "stdout",
     "output_type": "stream",
     "text": [
      "R^2: 0.6595012903843489\n",
      "Root Mean Squared Error: 46216.0229219638\n",
      "Mean Absolute Percent Error: 18.51675793095249\n"
     ]
    }
   ],
   "source": [
    "# Performance Metrics for test set\n",
    "print(\"R^2: {}\".format(ridge.score(X_test, y_test)))\n",
    "rmse = np.sqrt(mean_squared_error(y_test, ridge_pred_test))\n",
    "print(\"Root Mean Squared Error: {}\".format(rmse))\n",
    "error = (y_test-ridge_pred_test)/y_test * 100\n",
    "mape = abs(error).mean()\n",
    "print('Mean Absolute Percent Error: {}'.format(mape))"
   ]
  },
  {
   "cell_type": "code",
   "execution_count": 46,
   "metadata": {},
   "outputs": [],
   "source": [
    "# Finding worst residuals for 95% \n",
    "residuals = y_test - ridge_pred_test\n",
    "residuals_trimmed = residuals[abs(residuals) < np.mean(residuals)+2*np.std(residuals)]\n",
    "r_pos = max(residuals_trimmed)\n",
    "r_neg = abs(min(residuals_trimmed))"
   ]
  },
  {
   "cell_type": "markdown",
   "metadata": {},
   "source": [
    "Given a prediction \"p\" computed by my model, the worst case scenarios according to the tests I performed, are"
   ]
  },
  {
   "cell_type": "code",
   "execution_count": 47,
   "metadata": {},
   "outputs": [
    {
     "name": "stdout",
     "output_type": "stream",
     "text": [
      "p - 75831.47574704856\n",
      "p + 90024.51869082573\n"
     ]
    }
   ],
   "source": [
    "print('p - {}'.format(r_neg))\n",
    "print('p + {}'.format(r_pos))"
   ]
  },
  {
   "cell_type": "code",
   "execution_count": 48,
   "metadata": {},
   "outputs": [],
   "source": [
    "# Adding metrics to the metrics dataframe\n",
    "d = {'R_Squared': [ridge.score(X_test, y_test)], 'RMSE': [rmse], 'MAPE (%)': [mape],\n",
    "    'Worst Underestimate':[r_pos], 'Worst Overestimate':[r_neg]}\n",
    "temp = pd.DataFrame(data=d, index=['Ridge_Test_a=10'])\n",
    "temp.index.name = 'Model'\n",
    "metrics = metrics.append(temp)"
   ]
  },
  {
   "cell_type": "code",
   "execution_count": 49,
   "metadata": {},
   "outputs": [
    {
     "data": {
      "text/html": [
       "<div>\n",
       "<style scoped>\n",
       "    .dataframe tbody tr th:only-of-type {\n",
       "        vertical-align: middle;\n",
       "    }\n",
       "\n",
       "    .dataframe tbody tr th {\n",
       "        vertical-align: top;\n",
       "    }\n",
       "\n",
       "    .dataframe thead th {\n",
       "        text-align: right;\n",
       "    }\n",
       "</style>\n",
       "<table border=\"1\" class=\"dataframe\">\n",
       "  <thead>\n",
       "    <tr style=\"text-align: right;\">\n",
       "      <th></th>\n",
       "      <th>R_Squared</th>\n",
       "      <th>RMSE</th>\n",
       "      <th>MAPE (%)</th>\n",
       "      <th>Worst Underestimate</th>\n",
       "      <th>Worst Overestimate</th>\n",
       "    </tr>\n",
       "    <tr>\n",
       "      <th>Model</th>\n",
       "      <th></th>\n",
       "      <th></th>\n",
       "      <th></th>\n",
       "      <th></th>\n",
       "      <th></th>\n",
       "    </tr>\n",
       "  </thead>\n",
       "  <tbody>\n",
       "    <tr>\n",
       "      <td>Linear_Train</td>\n",
       "      <td>0.930668</td>\n",
       "      <td>20867.619109</td>\n",
       "      <td>8.179160</td>\n",
       "      <td>N/A</td>\n",
       "      <td>N/A</td>\n",
       "    </tr>\n",
       "    <tr>\n",
       "      <td>Linear_Test</td>\n",
       "      <td>0.877025</td>\n",
       "      <td>27774.277801</td>\n",
       "      <td>11.107240</td>\n",
       "      <td>54799.1</td>\n",
       "      <td>55049.2</td>\n",
       "    </tr>\n",
       "    <tr>\n",
       "      <td>Ridge_Train</td>\n",
       "      <td>0.924783</td>\n",
       "      <td>21735.300299</td>\n",
       "      <td>8.211178</td>\n",
       "      <td>N/A</td>\n",
       "      <td>N/A</td>\n",
       "    </tr>\n",
       "    <tr>\n",
       "      <td>Ridge_Test</td>\n",
       "      <td>0.894620</td>\n",
       "      <td>25710.742519</td>\n",
       "      <td>9.869781</td>\n",
       "      <td>40291</td>\n",
       "      <td>47665.9</td>\n",
       "    </tr>\n",
       "    <tr>\n",
       "      <td>Lasso_Train</td>\n",
       "      <td>0.930663</td>\n",
       "      <td>20868.514771</td>\n",
       "      <td>49.564078</td>\n",
       "      <td>N/A</td>\n",
       "      <td>N/A</td>\n",
       "    </tr>\n",
       "    <tr>\n",
       "      <td>Lasso_Test</td>\n",
       "      <td>0.887081</td>\n",
       "      <td>26614.446974</td>\n",
       "      <td>50.809840</td>\n",
       "      <td>219702</td>\n",
       "      <td>219698</td>\n",
       "    </tr>\n",
       "    <tr>\n",
       "      <td>Ridge_Train_a=10</td>\n",
       "      <td>0.651788</td>\n",
       "      <td>46765.919130</td>\n",
       "      <td>17.718180</td>\n",
       "      <td>N/A</td>\n",
       "      <td>N/A</td>\n",
       "    </tr>\n",
       "    <tr>\n",
       "      <td>Ridge_Test_a=10</td>\n",
       "      <td>0.659501</td>\n",
       "      <td>46216.022922</td>\n",
       "      <td>18.516758</td>\n",
       "      <td>90024.5</td>\n",
       "      <td>75831.5</td>\n",
       "    </tr>\n",
       "  </tbody>\n",
       "</table>\n",
       "</div>"
      ],
      "text/plain": [
       "                  R_Squared          RMSE   MAPE (%) Worst Underestimate  \\\n",
       "Model                                                                      \n",
       "Linear_Train       0.930668  20867.619109   8.179160                 N/A   \n",
       "Linear_Test        0.877025  27774.277801  11.107240             54799.1   \n",
       "Ridge_Train        0.924783  21735.300299   8.211178                 N/A   \n",
       "Ridge_Test         0.894620  25710.742519   9.869781               40291   \n",
       "Lasso_Train        0.930663  20868.514771  49.564078                 N/A   \n",
       "Lasso_Test         0.887081  26614.446974  50.809840              219702   \n",
       "Ridge_Train_a=10   0.651788  46765.919130  17.718180                 N/A   \n",
       "Ridge_Test_a=10    0.659501  46216.022922  18.516758             90024.5   \n",
       "\n",
       "                 Worst Overestimate  \n",
       "Model                                \n",
       "Linear_Train                    N/A  \n",
       "Linear_Test                 55049.2  \n",
       "Ridge_Train                     N/A  \n",
       "Ridge_Test                  47665.9  \n",
       "Lasso_Train                     N/A  \n",
       "Lasso_Test                   219698  \n",
       "Ridge_Train_a=10                N/A  \n",
       "Ridge_Test_a=10             75831.5  "
      ]
     },
     "execution_count": 49,
     "metadata": {},
     "output_type": "execute_result"
    }
   ],
   "source": [
    "metrics"
   ]
  },
  {
   "cell_type": "code",
   "execution_count": 50,
   "metadata": {},
   "outputs": [],
   "source": [
    "# Applying Ridge Regression with different alpha based on earlier testing \n",
    "\n",
    "# Train test split -- Random state 42 should produce same split as above\n",
    "X_train, X_test, y_train, y_test = train_test_split(X, y, test_size = 0.25, random_state=42)\n",
    "\n",
    "# Creating Ridge object, fitting, and predicting. Normalize = true ensures all variables are on the same scale\n",
    "ridge = Ridge(alpha=1, normalize = True)\n",
    "ridge.fit(X_train, y_train)\n",
    "ridge_pred_test = ridge.predict(X_test)\n",
    "ridge_pred_train = ridge.predict(X_train)\n"
   ]
  },
  {
   "cell_type": "code",
   "execution_count": 51,
   "metadata": {},
   "outputs": [
    {
     "name": "stdout",
     "output_type": "stream",
     "text": [
      "R^2: 0.8803963770194232\n",
      "Root Mean Squared Error: 27408.150631030552\n",
      "Mean Absolute Percent Error: 9.480727315879573\n"
     ]
    }
   ],
   "source": [
    "# Metrics for train set\n",
    "print(\"R^2: {}\".format(ridge.score(X_train, y_train)))\n",
    "rmse = np.sqrt(mean_squared_error(y_train, ridge_pred_train))\n",
    "print(\"Root Mean Squared Error: {}\".format(rmse))\n",
    "error = (y_train-ridge_pred_train)/y_train * 100\n",
    "mape = abs(error).mean()\n",
    "print('Mean Absolute Percent Error: {}'.format(mape))"
   ]
  },
  {
   "cell_type": "code",
   "execution_count": 52,
   "metadata": {},
   "outputs": [],
   "source": [
    "# Adding metrics to the metrics dataframe\n",
    "d = {'R_Squared': [ridge.score(X_train, y_train)], 'RMSE': [rmse], 'MAPE (%)': [mape],\n",
    "    'Worst Underestimate':['N/A'], 'Worst Overestimate':['N/A']}\n",
    "temp = pd.DataFrame(data=d, index=['Ridge_Train_a=1'])\n",
    "temp.index.name = 'Model'\n",
    "metrics = metrics.append(temp)"
   ]
  },
  {
   "cell_type": "code",
   "execution_count": 53,
   "metadata": {},
   "outputs": [
    {
     "name": "stdout",
     "output_type": "stream",
     "text": [
      "R^2: 0.8729249000973185\n",
      "Root Mean Squared Error: 28233.5224482231\n",
      "Mean Absolute Percent Error: 9.947499373223314\n"
     ]
    }
   ],
   "source": [
    "# Performance Metrics for test set\n",
    "print(\"R^2: {}\".format(ridge.score(X_test, y_test)))\n",
    "rmse = np.sqrt(mean_squared_error(y_test, ridge_pred_test))\n",
    "print(\"Root Mean Squared Error: {}\".format(rmse))\n",
    "error = (y_test-ridge_pred_test)/y_test * 100\n",
    "mape = abs(error).mean()\n",
    "print('Mean Absolute Percent Error: {}'.format(mape))"
   ]
  },
  {
   "cell_type": "code",
   "execution_count": null,
   "metadata": {},
   "outputs": [],
   "source": []
  },
  {
   "cell_type": "code",
   "execution_count": 54,
   "metadata": {},
   "outputs": [],
   "source": [
    "# Finding worst residuals for 95% \n",
    "residuals = y_test - ridge_pred_test\n",
    "residuals_trimmed = residuals[abs(residuals) < np.mean(residuals)+2*np.std(residuals)]\n",
    "r_pos = max(residuals_trimmed)\n",
    "r_neg = abs(min(residuals_trimmed))"
   ]
  },
  {
   "cell_type": "markdown",
   "metadata": {},
   "source": [
    "Given a prediction \"p\" computed by my model, the worst case scenarios according to the tests I performed, are"
   ]
  },
  {
   "cell_type": "code",
   "execution_count": 55,
   "metadata": {},
   "outputs": [
    {
     "name": "stdout",
     "output_type": "stream",
     "text": [
      "p - 55109.22078857827\n",
      "p + 52153.81173303968\n"
     ]
    }
   ],
   "source": [
    "print('p - {}'.format(r_neg))\n",
    "print('p + {}'.format(r_pos))"
   ]
  },
  {
   "cell_type": "code",
   "execution_count": 56,
   "metadata": {},
   "outputs": [],
   "source": [
    "# Adding metrics to the metrics dataframe\n",
    "d = {'R_Squared': [ridge.score(X_test, y_test)], 'RMSE': [rmse], 'MAPE (%)': [mape],\n",
    "    'Worst Underestimate':[r_pos], 'Worst Overestimate':[r_neg]}\n",
    "temp = pd.DataFrame(data=d, index=['Ridge_Test_a=1'])\n",
    "temp.index.name = 'Model'\n",
    "metrics = metrics.append(temp)"
   ]
  },
  {
   "cell_type": "code",
   "execution_count": 57,
   "metadata": {},
   "outputs": [
    {
     "data": {
      "text/html": [
       "<div>\n",
       "<style scoped>\n",
       "    .dataframe tbody tr th:only-of-type {\n",
       "        vertical-align: middle;\n",
       "    }\n",
       "\n",
       "    .dataframe tbody tr th {\n",
       "        vertical-align: top;\n",
       "    }\n",
       "\n",
       "    .dataframe thead th {\n",
       "        text-align: right;\n",
       "    }\n",
       "</style>\n",
       "<table border=\"1\" class=\"dataframe\">\n",
       "  <thead>\n",
       "    <tr style=\"text-align: right;\">\n",
       "      <th></th>\n",
       "      <th>R_Squared</th>\n",
       "      <th>RMSE</th>\n",
       "      <th>MAPE (%)</th>\n",
       "      <th>Worst Underestimate</th>\n",
       "      <th>Worst Overestimate</th>\n",
       "    </tr>\n",
       "    <tr>\n",
       "      <th>Model</th>\n",
       "      <th></th>\n",
       "      <th></th>\n",
       "      <th></th>\n",
       "      <th></th>\n",
       "      <th></th>\n",
       "    </tr>\n",
       "  </thead>\n",
       "  <tbody>\n",
       "    <tr>\n",
       "      <td>Linear_Train</td>\n",
       "      <td>0.930668</td>\n",
       "      <td>20867.619109</td>\n",
       "      <td>8.179160</td>\n",
       "      <td>N/A</td>\n",
       "      <td>N/A</td>\n",
       "    </tr>\n",
       "    <tr>\n",
       "      <td>Linear_Test</td>\n",
       "      <td>0.877025</td>\n",
       "      <td>27774.277801</td>\n",
       "      <td>11.107240</td>\n",
       "      <td>54799.1</td>\n",
       "      <td>55049.2</td>\n",
       "    </tr>\n",
       "    <tr>\n",
       "      <td>Ridge_Train</td>\n",
       "      <td>0.924783</td>\n",
       "      <td>21735.300299</td>\n",
       "      <td>8.211178</td>\n",
       "      <td>N/A</td>\n",
       "      <td>N/A</td>\n",
       "    </tr>\n",
       "    <tr>\n",
       "      <td>Ridge_Test</td>\n",
       "      <td>0.894620</td>\n",
       "      <td>25710.742519</td>\n",
       "      <td>9.869781</td>\n",
       "      <td>40291</td>\n",
       "      <td>47665.9</td>\n",
       "    </tr>\n",
       "    <tr>\n",
       "      <td>Lasso_Train</td>\n",
       "      <td>0.930663</td>\n",
       "      <td>20868.514771</td>\n",
       "      <td>49.564078</td>\n",
       "      <td>N/A</td>\n",
       "      <td>N/A</td>\n",
       "    </tr>\n",
       "    <tr>\n",
       "      <td>Lasso_Test</td>\n",
       "      <td>0.887081</td>\n",
       "      <td>26614.446974</td>\n",
       "      <td>50.809840</td>\n",
       "      <td>219702</td>\n",
       "      <td>219698</td>\n",
       "    </tr>\n",
       "    <tr>\n",
       "      <td>Ridge_Train_a=10</td>\n",
       "      <td>0.651788</td>\n",
       "      <td>46765.919130</td>\n",
       "      <td>17.718180</td>\n",
       "      <td>N/A</td>\n",
       "      <td>N/A</td>\n",
       "    </tr>\n",
       "    <tr>\n",
       "      <td>Ridge_Test_a=10</td>\n",
       "      <td>0.659501</td>\n",
       "      <td>46216.022922</td>\n",
       "      <td>18.516758</td>\n",
       "      <td>90024.5</td>\n",
       "      <td>75831.5</td>\n",
       "    </tr>\n",
       "    <tr>\n",
       "      <td>Ridge_Train_a=1</td>\n",
       "      <td>0.880396</td>\n",
       "      <td>27408.150631</td>\n",
       "      <td>9.480727</td>\n",
       "      <td>N/A</td>\n",
       "      <td>N/A</td>\n",
       "    </tr>\n",
       "    <tr>\n",
       "      <td>Ridge_Test_a=1</td>\n",
       "      <td>0.872925</td>\n",
       "      <td>28233.522448</td>\n",
       "      <td>9.947499</td>\n",
       "      <td>52153.8</td>\n",
       "      <td>55109.2</td>\n",
       "    </tr>\n",
       "  </tbody>\n",
       "</table>\n",
       "</div>"
      ],
      "text/plain": [
       "                  R_Squared          RMSE   MAPE (%) Worst Underestimate  \\\n",
       "Model                                                                      \n",
       "Linear_Train       0.930668  20867.619109   8.179160                 N/A   \n",
       "Linear_Test        0.877025  27774.277801  11.107240             54799.1   \n",
       "Ridge_Train        0.924783  21735.300299   8.211178                 N/A   \n",
       "Ridge_Test         0.894620  25710.742519   9.869781               40291   \n",
       "Lasso_Train        0.930663  20868.514771  49.564078                 N/A   \n",
       "Lasso_Test         0.887081  26614.446974  50.809840              219702   \n",
       "Ridge_Train_a=10   0.651788  46765.919130  17.718180                 N/A   \n",
       "Ridge_Test_a=10    0.659501  46216.022922  18.516758             90024.5   \n",
       "Ridge_Train_a=1    0.880396  27408.150631   9.480727                 N/A   \n",
       "Ridge_Test_a=1     0.872925  28233.522448   9.947499             52153.8   \n",
       "\n",
       "                 Worst Overestimate  \n",
       "Model                                \n",
       "Linear_Train                    N/A  \n",
       "Linear_Test                 55049.2  \n",
       "Ridge_Train                     N/A  \n",
       "Ridge_Test                  47665.9  \n",
       "Lasso_Train                     N/A  \n",
       "Lasso_Test                   219698  \n",
       "Ridge_Train_a=10                N/A  \n",
       "Ridge_Test_a=10             75831.5  \n",
       "Ridge_Train_a=1                 N/A  \n",
       "Ridge_Test_a=1              55109.2  "
      ]
     },
     "execution_count": 57,
     "metadata": {},
     "output_type": "execute_result"
    }
   ],
   "source": [
    "metrics"
   ]
  },
  {
   "cell_type": "code",
   "execution_count": null,
   "metadata": {},
   "outputs": [],
   "source": []
  },
  {
   "cell_type": "code",
   "execution_count": null,
   "metadata": {},
   "outputs": [],
   "source": []
  },
  {
   "cell_type": "code",
   "execution_count": 58,
   "metadata": {},
   "outputs": [
    {
     "data": {
      "image/png": "[encoded data removed]",
      "text/plain": [
       "<Figure size 432x288 with 1 Axes>"
      ]
     },
     "metadata": {
      "needs_background": "light"
     },
     "output_type": "display_data"
    }
   ],
   "source": [
    "# Predicted vs actual scatterplot\n",
    "plt.scatter(ridge_pred_test, y_test, alpha=0.5, s=4)\n",
    "plt.title('Predicted vs. Actual Sale price')\n",
    "plt.xlabel('Predicted Sale Price')\n",
    "plt.ylabel('Actual Sale Price')\n",
    "plt.plot(list(range(y_test.max())),list(range(y_test.max())), c='r')\n",
    "plt.show()"
   ]
  },
  {
   "cell_type": "code",
   "execution_count": null,
   "metadata": {},
   "outputs": [],
   "source": []
  },
  {
   "cell_type": "code",
   "execution_count": 59,
   "metadata": {},
   "outputs": [
    {
     "data": {
      "image/png": "[encoded data removed]",
      "text/plain": [
       "<Figure size 432x288 with 1 Axes>"
      ]
     },
     "metadata": {
      "needs_background": "light"
     },
     "output_type": "display_data"
    }
   ],
   "source": [
    "# Predicted vs residuals\n",
    "residuals = y_test - ridge_pred_test\n",
    "plt.scatter(ridge_pred_test, residuals, alpha = 0.5, s=4)\n",
    "plt.plot(list(range(y_test.max())),[0]*y_test.max(), c='r')\n",
    "plt.show()"
   ]
  },
  {
   "cell_type": "code",
   "execution_count": null,
   "metadata": {},
   "outputs": [],
   "source": []
  },
  {
   "cell_type": "code",
   "execution_count": 60,
   "metadata": {
    "scrolled": false
   },
   "outputs": [
    {
     "data": {
      "image/png": "[encoded data removed]",
      "text/plain": [
       "<Figure size 432x288 with 1 Axes>"
      ]
     },
     "metadata": {
      "needs_background": "light"
     },
     "output_type": "display_data"
    }
   ],
   "source": [
    "# Histogram of Residuals\n",
    "mean = np.mean(residuals)\n",
    "std_dev = np.std(residuals)\n",
    "\n",
    "plt.hist(residuals, bins=20)\n",
    "plt.axvline(mean, color='r')\n",
    "plt.axvline(mean + std_dev, color='r', linestyle='--')\n",
    "plt.axvline(mean + 2* std_dev, color='r', linestyle='-.')\n",
    "plt.axvline(mean + 3* std_dev, color='r', linestyle=':')\n",
    "plt.axvline(mean - std_dev, color='r', linestyle='--')\n",
    "plt.axvline(mean - 2* std_dev, color='r', linestyle='-.')\n",
    "plt.axvline(mean - 3* std_dev, color='r', linestyle=':')\n",
    "plt.title('Residuals')\n",
    "plt.ylabel('Frequency')\n",
    "plt.show()"
   ]
  },
  {
   "cell_type": "code",
   "execution_count": 61,
   "metadata": {},
   "outputs": [],
   "source": [
    "# Using model on entire data set for residual analysis\n",
    "ridge_pred_all = ridge.predict(X)\n",
    "residu_all = y - ridge_pred_all\n",
    "\n"
   ]
  },
  {
   "cell_type": "code",
   "execution_count": 62,
   "metadata": {},
   "outputs": [
    {
     "data": {
      "text/plain": [
       "3.9204000000000003"
      ]
     },
     "execution_count": 62,
     "metadata": {},
     "output_type": "execute_result"
    }
   ],
   "source": [
    "#Expected number of residuals outside 3 standard devations\n",
    "len(housing)*0.0027"
   ]
  },
  {
   "cell_type": "code",
   "execution_count": 63,
   "metadata": {},
   "outputs": [],
   "source": [
    "# A set of all indicies of high outlier points\n",
    "high_residuals = np.where(abs(residu_all) > mean + 3* std_dev)"
   ]
  },
  {
   "cell_type": "code",
   "execution_count": 64,
   "metadata": {},
   "outputs": [
    {
     "data": {
      "text/plain": [
       "array([ 114393.27786226,  101050.44205769,  -84152.11077988,\n",
       "        -85685.5089314 ,  169388.21426656,  107952.11319829,\n",
       "         98423.0598766 , -191412.8486699 ,  -88053.52323121,\n",
       "        -90502.80934827,   88220.09686655,  128246.63465146,\n",
       "        236407.09054095,  108475.09178958,  103218.00184068,\n",
       "        175950.61122712,  203401.26602261,  172773.21224808,\n",
       "         93309.44691594,  220959.84975065,  234487.12868929,\n",
       "       -159737.89476086, -130341.62409469])"
      ]
     },
     "execution_count": 64,
     "metadata": {},
     "output_type": "execute_result"
    }
   ],
   "source": [
    "residu_all[high_residuals]"
   ]
  },
  {
   "cell_type": "code",
   "execution_count": 65,
   "metadata": {},
   "outputs": [
    {
     "data": {
      "text/plain": [
       "(23,)"
      ]
     },
     "execution_count": 65,
     "metadata": {},
     "output_type": "execute_result"
    }
   ],
   "source": [
    "high_residuals[0].shape"
   ]
  },
  {
   "cell_type": "code",
   "execution_count": 66,
   "metadata": {},
   "outputs": [
    {
     "data": {
      "text/html": [
       "<div>\n",
       "<style scoped>\n",
       "    .dataframe tbody tr th:only-of-type {\n",
       "        vertical-align: middle;\n",
       "    }\n",
       "\n",
       "    .dataframe tbody tr th {\n",
       "        vertical-align: top;\n",
       "    }\n",
       "\n",
       "    .dataframe thead th {\n",
       "        text-align: right;\n",
       "    }\n",
       "</style>\n",
       "<table border=\"1\" class=\"dataframe\">\n",
       "  <thead>\n",
       "    <tr style=\"text-align: right;\">\n",
       "      <th></th>\n",
       "      <th>Neighborhood</th>\n",
       "      <th>BldgType</th>\n",
       "      <th>HouseStyle</th>\n",
       "      <th>OverallQual</th>\n",
       "      <th>OverallCond</th>\n",
       "      <th>YearRemodAdd</th>\n",
       "      <th>ExterQual</th>\n",
       "      <th>ExterCond</th>\n",
       "      <th>BsmtQual</th>\n",
       "      <th>BsmtCond</th>\n",
       "      <th>...</th>\n",
       "      <th>GrLivArea</th>\n",
       "      <th>KitchenQual</th>\n",
       "      <th>TotRmsAbvGrd</th>\n",
       "      <th>GarageType</th>\n",
       "      <th>GarageFinish</th>\n",
       "      <th>WoodDeckSF</th>\n",
       "      <th>OpenPorchSF</th>\n",
       "      <th>EnclosedPorch</th>\n",
       "      <th>YrSold</th>\n",
       "      <th>SalePrice</th>\n",
       "    </tr>\n",
       "    <tr>\n",
       "      <th>Id</th>\n",
       "      <th></th>\n",
       "      <th></th>\n",
       "      <th></th>\n",
       "      <th></th>\n",
       "      <th></th>\n",
       "      <th></th>\n",
       "      <th></th>\n",
       "      <th></th>\n",
       "      <th></th>\n",
       "      <th></th>\n",
       "      <th></th>\n",
       "      <th></th>\n",
       "      <th></th>\n",
       "      <th></th>\n",
       "      <th></th>\n",
       "      <th></th>\n",
       "      <th></th>\n",
       "      <th></th>\n",
       "      <th></th>\n",
       "      <th></th>\n",
       "      <th></th>\n",
       "    </tr>\n",
       "  </thead>\n",
       "  <tbody>\n",
       "    <tr>\n",
       "      <td>178</td>\n",
       "      <td>Sawyer</td>\n",
       "      <td>1Fam</td>\n",
       "      <td>1.5Fin</td>\n",
       "      <td>5</td>\n",
       "      <td>5</td>\n",
       "      <td>1958</td>\n",
       "      <td>Gd</td>\n",
       "      <td>Gd</td>\n",
       "      <td>TA</td>\n",
       "      <td>TA</td>\n",
       "      <td>...</td>\n",
       "      <td>1920</td>\n",
       "      <td>Gd</td>\n",
       "      <td>8</td>\n",
       "      <td>Attchd</td>\n",
       "      <td>Unf</td>\n",
       "      <td>0</td>\n",
       "      <td>0</td>\n",
       "      <td>0</td>\n",
       "      <td>2006</td>\n",
       "      <td>172500</td>\n",
       "    </tr>\n",
       "    <tr>\n",
       "      <td>185</td>\n",
       "      <td>BrkSide</td>\n",
       "      <td>1Fam</td>\n",
       "      <td>1.5Fin</td>\n",
       "      <td>5</td>\n",
       "      <td>8</td>\n",
       "      <td>1991</td>\n",
       "      <td>TA</td>\n",
       "      <td>TA</td>\n",
       "      <td>Fa</td>\n",
       "      <td>TA</td>\n",
       "      <td>...</td>\n",
       "      <td>1252</td>\n",
       "      <td>TA</td>\n",
       "      <td>5</td>\n",
       "      <td>Attchd</td>\n",
       "      <td>Unf</td>\n",
       "      <td>104</td>\n",
       "      <td>0</td>\n",
       "      <td>0</td>\n",
       "      <td>2006</td>\n",
       "      <td>127000</td>\n",
       "    </tr>\n",
       "    <tr>\n",
       "      <td>197</td>\n",
       "      <td>Somerst</td>\n",
       "      <td>1Fam</td>\n",
       "      <td>1Story</td>\n",
       "      <td>7</td>\n",
       "      <td>5</td>\n",
       "      <td>2007</td>\n",
       "      <td>Ex</td>\n",
       "      <td>TA</td>\n",
       "      <td>Ex</td>\n",
       "      <td>TA</td>\n",
       "      <td>...</td>\n",
       "      <td>1726</td>\n",
       "      <td>Ex</td>\n",
       "      <td>8</td>\n",
       "      <td>Attchd</td>\n",
       "      <td>Fin</td>\n",
       "      <td>171</td>\n",
       "      <td>138</td>\n",
       "      <td>0</td>\n",
       "      <td>2007</td>\n",
       "      <td>311872</td>\n",
       "    </tr>\n",
       "    <tr>\n",
       "      <td>411</td>\n",
       "      <td>Edwards</td>\n",
       "      <td>1Fam</td>\n",
       "      <td>1Story</td>\n",
       "      <td>5</td>\n",
       "      <td>3</td>\n",
       "      <td>1958</td>\n",
       "      <td>TA</td>\n",
       "      <td>Fa</td>\n",
       "      <td>TA</td>\n",
       "      <td>Fa</td>\n",
       "      <td>...</td>\n",
       "      <td>1276</td>\n",
       "      <td>TA</td>\n",
       "      <td>5</td>\n",
       "      <td>Attchd</td>\n",
       "      <td>Unf</td>\n",
       "      <td>0</td>\n",
       "      <td>0</td>\n",
       "      <td>0</td>\n",
       "      <td>2009</td>\n",
       "      <td>60000</td>\n",
       "    </tr>\n",
       "    <tr>\n",
       "      <td>439</td>\n",
       "      <td>Crawfor</td>\n",
       "      <td>1Fam</td>\n",
       "      <td>1Story</td>\n",
       "      <td>5</td>\n",
       "      <td>6</td>\n",
       "      <td>2002</td>\n",
       "      <td>TA</td>\n",
       "      <td>TA</td>\n",
       "      <td>TA</td>\n",
       "      <td>TA</td>\n",
       "      <td>...</td>\n",
       "      <td>694</td>\n",
       "      <td>Gd</td>\n",
       "      <td>4</td>\n",
       "      <td>Detchd</td>\n",
       "      <td>Unf</td>\n",
       "      <td>0</td>\n",
       "      <td>0</td>\n",
       "      <td>34</td>\n",
       "      <td>2007</td>\n",
       "      <td>90350</td>\n",
       "    </tr>\n",
       "    <tr>\n",
       "      <td>472</td>\n",
       "      <td>NWAmes</td>\n",
       "      <td>1Fam</td>\n",
       "      <td>2Story</td>\n",
       "      <td>7</td>\n",
       "      <td>6</td>\n",
       "      <td>1977</td>\n",
       "      <td>TA</td>\n",
       "      <td>TA</td>\n",
       "      <td>Gd</td>\n",
       "      <td>TA</td>\n",
       "      <td>...</td>\n",
       "      <td>1969</td>\n",
       "      <td>TA</td>\n",
       "      <td>8</td>\n",
       "      <td>Attchd</td>\n",
       "      <td>RFn</td>\n",
       "      <td>0</td>\n",
       "      <td>0</td>\n",
       "      <td>0</td>\n",
       "      <td>2007</td>\n",
       "      <td>190000</td>\n",
       "    </tr>\n",
       "    <tr>\n",
       "      <td>495</td>\n",
       "      <td>OldTown</td>\n",
       "      <td>1Fam</td>\n",
       "      <td>1Story</td>\n",
       "      <td>5</td>\n",
       "      <td>8</td>\n",
       "      <td>1996</td>\n",
       "      <td>TA</td>\n",
       "      <td>TA</td>\n",
       "      <td>Fa</td>\n",
       "      <td>TA</td>\n",
       "      <td>...</td>\n",
       "      <td>886</td>\n",
       "      <td>TA</td>\n",
       "      <td>4</td>\n",
       "      <td>Attchd</td>\n",
       "      <td>Unf</td>\n",
       "      <td>144</td>\n",
       "      <td>20</td>\n",
       "      <td>80</td>\n",
       "      <td>2009</td>\n",
       "      <td>91300</td>\n",
       "    </tr>\n",
       "    <tr>\n",
       "      <td>522</td>\n",
       "      <td>NAmes</td>\n",
       "      <td>1Fam</td>\n",
       "      <td>1Story</td>\n",
       "      <td>6</td>\n",
       "      <td>6</td>\n",
       "      <td>1957</td>\n",
       "      <td>TA</td>\n",
       "      <td>TA</td>\n",
       "      <td>TA</td>\n",
       "      <td>TA</td>\n",
       "      <td>...</td>\n",
       "      <td>1244</td>\n",
       "      <td>TA</td>\n",
       "      <td>6</td>\n",
       "      <td>Attchd</td>\n",
       "      <td>Unf</td>\n",
       "      <td>0</td>\n",
       "      <td>40</td>\n",
       "      <td>0</td>\n",
       "      <td>2007</td>\n",
       "      <td>150000</td>\n",
       "    </tr>\n",
       "    <tr>\n",
       "      <td>579</td>\n",
       "      <td>Somerst</td>\n",
       "      <td>TwnhsE</td>\n",
       "      <td>2Story</td>\n",
       "      <td>7</td>\n",
       "      <td>5</td>\n",
       "      <td>2007</td>\n",
       "      <td>Gd</td>\n",
       "      <td>TA</td>\n",
       "      <td>Gd</td>\n",
       "      <td>TA</td>\n",
       "      <td>...</td>\n",
       "      <td>1392</td>\n",
       "      <td>Gd</td>\n",
       "      <td>5</td>\n",
       "      <td>Detchd</td>\n",
       "      <td>Unf</td>\n",
       "      <td>0</td>\n",
       "      <td>102</td>\n",
       "      <td>0</td>\n",
       "      <td>2008</td>\n",
       "      <td>146000</td>\n",
       "    </tr>\n",
       "    <tr>\n",
       "      <td>630</td>\n",
       "      <td>NAmes</td>\n",
       "      <td>1Fam</td>\n",
       "      <td>SLvl</td>\n",
       "      <td>6</td>\n",
       "      <td>5</td>\n",
       "      <td>1964</td>\n",
       "      <td>TA</td>\n",
       "      <td>TA</td>\n",
       "      <td>TA</td>\n",
       "      <td>TA</td>\n",
       "      <td>...</td>\n",
       "      <td>1350</td>\n",
       "      <td>TA</td>\n",
       "      <td>6</td>\n",
       "      <td>Attchd</td>\n",
       "      <td>RFn</td>\n",
       "      <td>176</td>\n",
       "      <td>0</td>\n",
       "      <td>0</td>\n",
       "      <td>2008</td>\n",
       "      <td>168500</td>\n",
       "    </tr>\n",
       "    <tr>\n",
       "      <td>661</td>\n",
       "      <td>NWAmes</td>\n",
       "      <td>1Fam</td>\n",
       "      <td>2Story</td>\n",
       "      <td>7</td>\n",
       "      <td>7</td>\n",
       "      <td>1976</td>\n",
       "      <td>TA</td>\n",
       "      <td>TA</td>\n",
       "      <td>Gd</td>\n",
       "      <td>TA</td>\n",
       "      <td>...</td>\n",
       "      <td>1935</td>\n",
       "      <td>TA</td>\n",
       "      <td>7</td>\n",
       "      <td>Attchd</td>\n",
       "      <td>RFn</td>\n",
       "      <td>0</td>\n",
       "      <td>113</td>\n",
       "      <td>252</td>\n",
       "      <td>2007</td>\n",
       "      <td>197900</td>\n",
       "    </tr>\n",
       "    <tr>\n",
       "      <td>685</td>\n",
       "      <td>NoRidge</td>\n",
       "      <td>1Fam</td>\n",
       "      <td>2Story</td>\n",
       "      <td>7</td>\n",
       "      <td>5</td>\n",
       "      <td>1998</td>\n",
       "      <td>Gd</td>\n",
       "      <td>TA</td>\n",
       "      <td>Gd</td>\n",
       "      <td>TA</td>\n",
       "      <td>...</td>\n",
       "      <td>1839</td>\n",
       "      <td>TA</td>\n",
       "      <td>7</td>\n",
       "      <td>Attchd</td>\n",
       "      <td>Fin</td>\n",
       "      <td>0</td>\n",
       "      <td>81</td>\n",
       "      <td>0</td>\n",
       "      <td>2010</td>\n",
       "      <td>221000</td>\n",
       "    </tr>\n",
       "    <tr>\n",
       "      <td>688</td>\n",
       "      <td>Somerst</td>\n",
       "      <td>TwnhsE</td>\n",
       "      <td>2Story</td>\n",
       "      <td>7</td>\n",
       "      <td>5</td>\n",
       "      <td>2004</td>\n",
       "      <td>Gd</td>\n",
       "      <td>TA</td>\n",
       "      <td>Gd</td>\n",
       "      <td>TA</td>\n",
       "      <td>...</td>\n",
       "      <td>1102</td>\n",
       "      <td>Gd</td>\n",
       "      <td>4</td>\n",
       "      <td>Detchd</td>\n",
       "      <td>Unf</td>\n",
       "      <td>0</td>\n",
       "      <td>60</td>\n",
       "      <td>0</td>\n",
       "      <td>2007</td>\n",
       "      <td>148800</td>\n",
       "    </tr>\n",
       "    <tr>\n",
       "      <td>766</td>\n",
       "      <td>Somerst</td>\n",
       "      <td>1Fam</td>\n",
       "      <td>1Story</td>\n",
       "      <td>9</td>\n",
       "      <td>5</td>\n",
       "      <td>2008</td>\n",
       "      <td>Gd</td>\n",
       "      <td>TA</td>\n",
       "      <td>Gd</td>\n",
       "      <td>TA</td>\n",
       "      <td>...</td>\n",
       "      <td>1506</td>\n",
       "      <td>Ex</td>\n",
       "      <td>6</td>\n",
       "      <td>Attchd</td>\n",
       "      <td>Fin</td>\n",
       "      <td>0</td>\n",
       "      <td>174</td>\n",
       "      <td>0</td>\n",
       "      <td>2008</td>\n",
       "      <td>264132</td>\n",
       "    </tr>\n",
       "    <tr>\n",
       "      <td>771</td>\n",
       "      <td>Sawyer</td>\n",
       "      <td>1Fam</td>\n",
       "      <td>SFoyer</td>\n",
       "      <td>5</td>\n",
       "      <td>5</td>\n",
       "      <td>1982</td>\n",
       "      <td>TA</td>\n",
       "      <td>TA</td>\n",
       "      <td>Gd</td>\n",
       "      <td>TA</td>\n",
       "      <td>...</td>\n",
       "      <td>858</td>\n",
       "      <td>TA</td>\n",
       "      <td>5</td>\n",
       "      <td>Detchd</td>\n",
       "      <td>Unf</td>\n",
       "      <td>120</td>\n",
       "      <td>0</td>\n",
       "      <td>0</td>\n",
       "      <td>2009</td>\n",
       "      <td>134900</td>\n",
       "    </tr>\n",
       "    <tr>\n",
       "      <td>800</td>\n",
       "      <td>SWISU</td>\n",
       "      <td>1Fam</td>\n",
       "      <td>1.5Fin</td>\n",
       "      <td>5</td>\n",
       "      <td>7</td>\n",
       "      <td>1950</td>\n",
       "      <td>TA</td>\n",
       "      <td>TA</td>\n",
       "      <td>Gd</td>\n",
       "      <td>TA</td>\n",
       "      <td>...</td>\n",
       "      <td>1768</td>\n",
       "      <td>Gd</td>\n",
       "      <td>7</td>\n",
       "      <td>Detchd</td>\n",
       "      <td>Unf</td>\n",
       "      <td>0</td>\n",
       "      <td>0</td>\n",
       "      <td>264</td>\n",
       "      <td>2007</td>\n",
       "      <td>175000</td>\n",
       "    </tr>\n",
       "    <tr>\n",
       "      <td>895</td>\n",
       "      <td>SawyerW</td>\n",
       "      <td>Duplex</td>\n",
       "      <td>1Story</td>\n",
       "      <td>5</td>\n",
       "      <td>5</td>\n",
       "      <td>1979</td>\n",
       "      <td>TA</td>\n",
       "      <td>TA</td>\n",
       "      <td>No BsmtQual</td>\n",
       "      <td>No Basement</td>\n",
       "      <td>...</td>\n",
       "      <td>1535</td>\n",
       "      <td>TA</td>\n",
       "      <td>8</td>\n",
       "      <td>Attchd</td>\n",
       "      <td>Unf</td>\n",
       "      <td>0</td>\n",
       "      <td>0</td>\n",
       "      <td>0</td>\n",
       "      <td>2009</td>\n",
       "      <td>118858</td>\n",
       "    </tr>\n",
       "    <tr>\n",
       "      <td>1040</td>\n",
       "      <td>MeadowV</td>\n",
       "      <td>TwnhsE</td>\n",
       "      <td>SFoyer</td>\n",
       "      <td>4</td>\n",
       "      <td>4</td>\n",
       "      <td>1970</td>\n",
       "      <td>TA</td>\n",
       "      <td>TA</td>\n",
       "      <td>Gd</td>\n",
       "      <td>TA</td>\n",
       "      <td>...</td>\n",
       "      <td>630</td>\n",
       "      <td>TA</td>\n",
       "      <td>3</td>\n",
       "      <td>Attchd</td>\n",
       "      <td>Unf</td>\n",
       "      <td>0</td>\n",
       "      <td>0</td>\n",
       "      <td>0</td>\n",
       "      <td>2009</td>\n",
       "      <td>80000</td>\n",
       "    </tr>\n",
       "    <tr>\n",
       "      <td>1136</td>\n",
       "      <td>BrkSide</td>\n",
       "      <td>1Fam</td>\n",
       "      <td>1Story</td>\n",
       "      <td>6</td>\n",
       "      <td>5</td>\n",
       "      <td>1950</td>\n",
       "      <td>TA</td>\n",
       "      <td>TA</td>\n",
       "      <td>TA</td>\n",
       "      <td>TA</td>\n",
       "      <td>...</td>\n",
       "      <td>986</td>\n",
       "      <td>TA</td>\n",
       "      <td>5</td>\n",
       "      <td>Detchd</td>\n",
       "      <td>Unf</td>\n",
       "      <td>0</td>\n",
       "      <td>128</td>\n",
       "      <td>0</td>\n",
       "      <td>2007</td>\n",
       "      <td>102000</td>\n",
       "    </tr>\n",
       "    <tr>\n",
       "      <td>1163</td>\n",
       "      <td>Sawyer</td>\n",
       "      <td>1Fam</td>\n",
       "      <td>1Story</td>\n",
       "      <td>5</td>\n",
       "      <td>5</td>\n",
       "      <td>1968</td>\n",
       "      <td>TA</td>\n",
       "      <td>TA</td>\n",
       "      <td>Gd</td>\n",
       "      <td>TA</td>\n",
       "      <td>...</td>\n",
       "      <td>894</td>\n",
       "      <td>TA</td>\n",
       "      <td>5</td>\n",
       "      <td>Attchd</td>\n",
       "      <td>Fin</td>\n",
       "      <td>0</td>\n",
       "      <td>0</td>\n",
       "      <td>0</td>\n",
       "      <td>2007</td>\n",
       "      <td>129000</td>\n",
       "    </tr>\n",
       "    <tr>\n",
       "      <td>1176</td>\n",
       "      <td>NoRidge</td>\n",
       "      <td>1Fam</td>\n",
       "      <td>1.5Fin</td>\n",
       "      <td>8</td>\n",
       "      <td>5</td>\n",
       "      <td>2000</td>\n",
       "      <td>Gd</td>\n",
       "      <td>TA</td>\n",
       "      <td>Gd</td>\n",
       "      <td>TA</td>\n",
       "      <td>...</td>\n",
       "      <td>2872</td>\n",
       "      <td>Gd</td>\n",
       "      <td>9</td>\n",
       "      <td>Attchd</td>\n",
       "      <td>Fin</td>\n",
       "      <td>0</td>\n",
       "      <td>33</td>\n",
       "      <td>0</td>\n",
       "      <td>2007</td>\n",
       "      <td>285000</td>\n",
       "    </tr>\n",
       "    <tr>\n",
       "      <td>1290</td>\n",
       "      <td>NridgHt</td>\n",
       "      <td>1Fam</td>\n",
       "      <td>2Story</td>\n",
       "      <td>8</td>\n",
       "      <td>5</td>\n",
       "      <td>2006</td>\n",
       "      <td>Gd</td>\n",
       "      <td>TA</td>\n",
       "      <td>Gd</td>\n",
       "      <td>TA</td>\n",
       "      <td>...</td>\n",
       "      <td>1970</td>\n",
       "      <td>Ex</td>\n",
       "      <td>8</td>\n",
       "      <td>BuiltIn</td>\n",
       "      <td>Fin</td>\n",
       "      <td>177</td>\n",
       "      <td>74</td>\n",
       "      <td>0</td>\n",
       "      <td>2006</td>\n",
       "      <td>281000</td>\n",
       "    </tr>\n",
       "    <tr>\n",
       "      <td>1316</td>\n",
       "      <td>NAmes</td>\n",
       "      <td>1Fam</td>\n",
       "      <td>2Story</td>\n",
       "      <td>6</td>\n",
       "      <td>5</td>\n",
       "      <td>1969</td>\n",
       "      <td>TA</td>\n",
       "      <td>TA</td>\n",
       "      <td>Fa</td>\n",
       "      <td>TA</td>\n",
       "      <td>...</td>\n",
       "      <td>2112</td>\n",
       "      <td>TA</td>\n",
       "      <td>9</td>\n",
       "      <td>Attchd</td>\n",
       "      <td>Unf</td>\n",
       "      <td>280</td>\n",
       "      <td>0</td>\n",
       "      <td>0</td>\n",
       "      <td>2008</td>\n",
       "      <td>206900</td>\n",
       "    </tr>\n",
       "  </tbody>\n",
       "</table>\n",
       "<p>23 rows × 27 columns</p>\n",
       "</div>"
      ],
      "text/plain": [
       "     Neighborhood BldgType HouseStyle  OverallQual  OverallCond  YearRemodAdd  \\\n",
       "Id                                                                              \n",
       "178        Sawyer     1Fam     1.5Fin            5            5          1958   \n",
       "185       BrkSide     1Fam     1.5Fin            5            8          1991   \n",
       "197       Somerst     1Fam     1Story            7            5          2007   \n",
       "411       Edwards     1Fam     1Story            5            3          1958   \n",
       "439       Crawfor     1Fam     1Story            5            6          2002   \n",
       "472        NWAmes     1Fam     2Story            7            6          1977   \n",
       "495       OldTown     1Fam     1Story            5            8          1996   \n",
       "522         NAmes     1Fam     1Story            6            6          1957   \n",
       "579       Somerst   TwnhsE     2Story            7            5          2007   \n",
       "630         NAmes     1Fam       SLvl            6            5          1964   \n",
       "661        NWAmes     1Fam     2Story            7            7          1976   \n",
       "685       NoRidge     1Fam     2Story            7            5          1998   \n",
       "688       Somerst   TwnhsE     2Story            7            5          2004   \n",
       "766       Somerst     1Fam     1Story            9            5          2008   \n",
       "771        Sawyer     1Fam     SFoyer            5            5          1982   \n",
       "800         SWISU     1Fam     1.5Fin            5            7          1950   \n",
       "895       SawyerW   Duplex     1Story            5            5          1979   \n",
       "1040      MeadowV   TwnhsE     SFoyer            4            4          1970   \n",
       "1136      BrkSide     1Fam     1Story            6            5          1950   \n",
       "1163       Sawyer     1Fam     1Story            5            5          1968   \n",
       "1176      NoRidge     1Fam     1.5Fin            8            5          2000   \n",
       "1290      NridgHt     1Fam     2Story            8            5          2006   \n",
       "1316        NAmes     1Fam     2Story            6            5          1969   \n",
       "\n",
       "     ExterQual ExterCond     BsmtQual     BsmtCond  ... GrLivArea KitchenQual  \\\n",
       "Id                                                  ...                         \n",
       "178         Gd        Gd           TA           TA  ...      1920          Gd   \n",
       "185         TA        TA           Fa           TA  ...      1252          TA   \n",
       "197         Ex        TA           Ex           TA  ...      1726          Ex   \n",
       "411         TA        Fa           TA           Fa  ...      1276          TA   \n",
       "439         TA        TA           TA           TA  ...       694          Gd   \n",
       "472         TA        TA           Gd           TA  ...      1969          TA   \n",
       "495         TA        TA           Fa           TA  ...       886          TA   \n",
       "522         TA        TA           TA           TA  ...      1244          TA   \n",
       "579         Gd        TA           Gd           TA  ...      1392          Gd   \n",
       "630         TA        TA           TA           TA  ...      1350          TA   \n",
       "661         TA        TA           Gd           TA  ...      1935          TA   \n",
       "685         Gd        TA           Gd           TA  ...      1839          TA   \n",
       "688         Gd        TA           Gd           TA  ...      1102          Gd   \n",
       "766         Gd        TA           Gd           TA  ...      1506          Ex   \n",
       "771         TA        TA           Gd           TA  ...       858          TA   \n",
       "800         TA        TA           Gd           TA  ...      1768          Gd   \n",
       "895         TA        TA  No BsmtQual  No Basement  ...      1535          TA   \n",
       "1040        TA        TA           Gd           TA  ...       630          TA   \n",
       "1136        TA        TA           TA           TA  ...       986          TA   \n",
       "1163        TA        TA           Gd           TA  ...       894          TA   \n",
       "1176        Gd        TA           Gd           TA  ...      2872          Gd   \n",
       "1290        Gd        TA           Gd           TA  ...      1970          Ex   \n",
       "1316        TA        TA           Fa           TA  ...      2112          TA   \n",
       "\n",
       "     TotRmsAbvGrd GarageType GarageFinish  WoodDeckSF  OpenPorchSF  \\\n",
       "Id                                                                   \n",
       "178             8     Attchd          Unf           0            0   \n",
       "185             5     Attchd          Unf         104            0   \n",
       "197             8     Attchd          Fin         171          138   \n",
       "411             5     Attchd          Unf           0            0   \n",
       "439             4     Detchd          Unf           0            0   \n",
       "472             8     Attchd          RFn           0            0   \n",
       "495             4     Attchd          Unf         144           20   \n",
       "522             6     Attchd          Unf           0           40   \n",
       "579             5     Detchd          Unf           0          102   \n",
       "630             6     Attchd          RFn         176            0   \n",
       "661             7     Attchd          RFn           0          113   \n",
       "685             7     Attchd          Fin           0           81   \n",
       "688             4     Detchd          Unf           0           60   \n",
       "766             6     Attchd          Fin           0          174   \n",
       "771             5     Detchd          Unf         120            0   \n",
       "800             7     Detchd          Unf           0            0   \n",
       "895             8     Attchd          Unf           0            0   \n",
       "1040            3     Attchd          Unf           0            0   \n",
       "1136            5     Detchd          Unf           0          128   \n",
       "1163            5     Attchd          Fin           0            0   \n",
       "1176            9     Attchd          Fin           0           33   \n",
       "1290            8    BuiltIn          Fin         177           74   \n",
       "1316            9     Attchd          Unf         280            0   \n",
       "\n",
       "      EnclosedPorch YrSold  SalePrice  \n",
       "Id                                     \n",
       "178               0   2006     172500  \n",
       "185               0   2006     127000  \n",
       "197               0   2007     311872  \n",
       "411               0   2009      60000  \n",
       "439              34   2007      90350  \n",
       "472               0   2007     190000  \n",
       "495              80   2009      91300  \n",
       "522               0   2007     150000  \n",
       "579               0   2008     146000  \n",
       "630               0   2008     168500  \n",
       "661             252   2007     197900  \n",
       "685               0   2010     221000  \n",
       "688               0   2007     148800  \n",
       "766               0   2008     264132  \n",
       "771               0   2009     134900  \n",
       "800             264   2007     175000  \n",
       "895               0   2009     118858  \n",
       "1040              0   2009      80000  \n",
       "1136              0   2007     102000  \n",
       "1163              0   2007     129000  \n",
       "1176              0   2007     285000  \n",
       "1290              0   2006     281000  \n",
       "1316              0   2008     206900  \n",
       "\n",
       "[23 rows x 27 columns]"
      ]
     },
     "execution_count": 66,
     "metadata": {},
     "output_type": "execute_result"
    }
   ],
   "source": [
    "# Investigating outliers\n",
    "housing.loc[list(high_residuals[0])].drop(['LotFrontage', 'Alley', 'Street', 'SaleType', '3SsnPorch', 'MiscVal',\n",
    "                                          'MSSubClass','MSZoning','LandContour','PoolQC', 'LandSlope',\n",
    "                                          'Fence', 'SaleCondition', 'BathroomCount', 'ScreenPorch', 'PavedDrive',\n",
    "                                          'Condition1', 'Condition2','LotArea', 'Utilities', 'RoofStyle',\n",
    "                                          'RoofMatl', 'GarageQual', 'GarageCond', 'GarageCars', 'PoolArea', 'MoSold',\n",
    "                                          'Functional', 'LotShape', 'YearBuilt', 'Exterior1st', 'Exterior2nd',\n",
    "                                          'MasVnrType', 'MasVnrArea','Fireplaces','FireplaceQu', 'Foundation',\n",
    "                                          'LotConfig', 'KitchenAbvGr','BedroomAbvGr'], axis=1)"
   ]
  },
  {
   "cell_type": "code",
   "execution_count": null,
   "metadata": {},
   "outputs": [],
   "source": []
  },
  {
   "cell_type": "code",
   "execution_count": null,
   "metadata": {},
   "outputs": [],
   "source": []
  },
  {
   "cell_type": "code",
   "execution_count": 67,
   "metadata": {},
   "outputs": [],
   "source": [
    "# Dropping Outliers\n",
    "X_no_outliers = np.delete(X, high_residuals[0], axis=0)\n",
    "y_no_outliers = np.delete(y, high_residuals[0], axis=0)"
   ]
  },
  {
   "cell_type": "code",
   "execution_count": null,
   "metadata": {},
   "outputs": [],
   "source": []
  },
  {
   "cell_type": "code",
   "execution_count": 68,
   "metadata": {},
   "outputs": [],
   "source": [
    "# Applying Ridge Regression with outliers removed\n",
    "\n",
    "# Train test split -- Random state 42 should produce same split as above\n",
    "X_train, X_test, y_train, y_test = train_test_split(X_no_outliers, y_no_outliers, test_size = 0.25, random_state=42)\n",
    "\n",
    "# Creating Ridge object, fitting, and predicting. Normalize = true ensures all variables are on the same scale\n",
    "ridge = Ridge(alpha=1, normalize = True)\n",
    "ridge.fit(X_train, y_train)\n",
    "ridge_pred_test = ridge.predict(X_test)\n",
    "ridge_pred_train = ridge.predict(X_train)\n"
   ]
  },
  {
   "cell_type": "code",
   "execution_count": 69,
   "metadata": {},
   "outputs": [
    {
     "name": "stdout",
     "output_type": "stream",
     "text": [
      "R^2: 0.9157055379295823\n",
      "Root Mean Squared Error: 20519.863551582283\n",
      "Mean Absolute Percent Error: 8.626238797290668\n"
     ]
    }
   ],
   "source": [
    "# Metrics for train set\n",
    "print(\"R^2: {}\".format(ridge.score(X_train, y_train)))\n",
    "rmse = np.sqrt(mean_squared_error(y_train, ridge_pred_train))\n",
    "print(\"Root Mean Squared Error: {}\".format(rmse))\n",
    "error = (y_train-ridge_pred_train)/y_train * 100\n",
    "mape = abs(error).mean()\n",
    "print('Mean Absolute Percent Error: {}'.format(mape))\n",
    "\n",
    "\n"
   ]
  },
  {
   "cell_type": "code",
   "execution_count": 70,
   "metadata": {},
   "outputs": [],
   "source": [
    "# Adding metrics to the metrics dataframe\n",
    "d = {'R_Squared': [ridge.score(X_train, y_train)], 'RMSE': [rmse], 'MAPE (%)': [mape],\n",
    "    'Worst Underestimate':['N/A'], 'Worst Overestimate':['N/A']}\n",
    "temp = pd.DataFrame(data=d, index=['Ridge_Train_No_Outliers'])\n",
    "temp.index.name = 'Model'\n",
    "metrics = metrics.append(temp)"
   ]
  },
  {
   "cell_type": "code",
   "execution_count": 71,
   "metadata": {},
   "outputs": [
    {
     "name": "stdout",
     "output_type": "stream",
     "text": [
      "R^2: 0.8942332343634054\n",
      "Root Mean Squared Error: 21722.649042670208\n",
      "Mean Absolute Percent Error: 9.794926929060916\n"
     ]
    }
   ],
   "source": [
    "# Performance Metrics for test set\n",
    "print(\"R^2: {}\".format(ridge.score(X_test, y_test)))\n",
    "rmse = np.sqrt(mean_squared_error(y_test, ridge_pred_test))\n",
    "print(\"Root Mean Squared Error: {}\".format(rmse))\n",
    "error = (y_test-ridge_pred_test)/y_test * 100\n",
    "mape = abs(error).mean()\n",
    "print('Mean Absolute Percent Error: {}'.format(mape))"
   ]
  },
  {
   "cell_type": "code",
   "execution_count": 72,
   "metadata": {},
   "outputs": [],
   "source": [
    "# Finding worst residuals for 95% \n",
    "residuals = y_test - ridge_pred_test\n",
    "residuals_trimmed = residuals[abs(residuals) < np.mean(residuals)+2*np.std(residuals)]\n",
    "r_pos = max(residuals_trimmed)\n",
    "r_neg = abs(min(residuals_trimmed))"
   ]
  },
  {
   "cell_type": "markdown",
   "metadata": {},
   "source": [
    "Given a prediction \"p\" computed by my model, the worst case scenarios according to the tests I performed, are"
   ]
  },
  {
   "cell_type": "code",
   "execution_count": 73,
   "metadata": {},
   "outputs": [
    {
     "name": "stdout",
     "output_type": "stream",
     "text": [
      "p - 42354.862323655165\n",
      "p + 42486.28456097946\n"
     ]
    }
   ],
   "source": [
    "print('p - {}'.format(r_neg))\n",
    "print('p + {}'.format(r_pos))"
   ]
  },
  {
   "cell_type": "code",
   "execution_count": 74,
   "metadata": {},
   "outputs": [],
   "source": [
    "# Adding metrics to the metrics dataframe\n",
    "d = {'R_Squared': [ridge.score(X_test, y_test)], 'RMSE': [rmse], 'MAPE (%)': [mape],\n",
    "    'Worst Underestimate':[r_pos], 'Worst Overestimate':[r_neg]}\n",
    "temp = pd.DataFrame(data=d, index=['Ridge_Test_No_Outliers'])\n",
    "temp.index.name = 'Model'\n",
    "metrics = metrics.append(temp)"
   ]
  },
  {
   "cell_type": "code",
   "execution_count": 75,
   "metadata": {},
   "outputs": [
    {
     "data": {
      "text/html": [
       "<div>\n",
       "<style scoped>\n",
       "    .dataframe tbody tr th:only-of-type {\n",
       "        vertical-align: middle;\n",
       "    }\n",
       "\n",
       "    .dataframe tbody tr th {\n",
       "        vertical-align: top;\n",
       "    }\n",
       "\n",
       "    .dataframe thead th {\n",
       "        text-align: right;\n",
       "    }\n",
       "</style>\n",
       "<table border=\"1\" class=\"dataframe\">\n",
       "  <thead>\n",
       "    <tr style=\"text-align: right;\">\n",
       "      <th></th>\n",
       "      <th>R_Squared</th>\n",
       "      <th>RMSE</th>\n",
       "      <th>MAPE (%)</th>\n",
       "      <th>Worst Underestimate</th>\n",
       "      <th>Worst Overestimate</th>\n",
       "    </tr>\n",
       "    <tr>\n",
       "      <th>Model</th>\n",
       "      <th></th>\n",
       "      <th></th>\n",
       "      <th></th>\n",
       "      <th></th>\n",
       "      <th></th>\n",
       "    </tr>\n",
       "  </thead>\n",
       "  <tbody>\n",
       "    <tr>\n",
       "      <td>Linear_Train</td>\n",
       "      <td>0.930668</td>\n",
       "      <td>20867.619109</td>\n",
       "      <td>8.179160</td>\n",
       "      <td>N/A</td>\n",
       "      <td>N/A</td>\n",
       "    </tr>\n",
       "    <tr>\n",
       "      <td>Linear_Test</td>\n",
       "      <td>0.877025</td>\n",
       "      <td>27774.277801</td>\n",
       "      <td>11.107240</td>\n",
       "      <td>54799.1</td>\n",
       "      <td>55049.2</td>\n",
       "    </tr>\n",
       "    <tr>\n",
       "      <td>Ridge_Train</td>\n",
       "      <td>0.924783</td>\n",
       "      <td>21735.300299</td>\n",
       "      <td>8.211178</td>\n",
       "      <td>N/A</td>\n",
       "      <td>N/A</td>\n",
       "    </tr>\n",
       "    <tr>\n",
       "      <td>Ridge_Test</td>\n",
       "      <td>0.894620</td>\n",
       "      <td>25710.742519</td>\n",
       "      <td>9.869781</td>\n",
       "      <td>40291</td>\n",
       "      <td>47665.9</td>\n",
       "    </tr>\n",
       "    <tr>\n",
       "      <td>Lasso_Train</td>\n",
       "      <td>0.930663</td>\n",
       "      <td>20868.514771</td>\n",
       "      <td>49.564078</td>\n",
       "      <td>N/A</td>\n",
       "      <td>N/A</td>\n",
       "    </tr>\n",
       "    <tr>\n",
       "      <td>Lasso_Test</td>\n",
       "      <td>0.887081</td>\n",
       "      <td>26614.446974</td>\n",
       "      <td>50.809840</td>\n",
       "      <td>219702</td>\n",
       "      <td>219698</td>\n",
       "    </tr>\n",
       "    <tr>\n",
       "      <td>Ridge_Train_a=10</td>\n",
       "      <td>0.651788</td>\n",
       "      <td>46765.919130</td>\n",
       "      <td>17.718180</td>\n",
       "      <td>N/A</td>\n",
       "      <td>N/A</td>\n",
       "    </tr>\n",
       "    <tr>\n",
       "      <td>Ridge_Test_a=10</td>\n",
       "      <td>0.659501</td>\n",
       "      <td>46216.022922</td>\n",
       "      <td>18.516758</td>\n",
       "      <td>90024.5</td>\n",
       "      <td>75831.5</td>\n",
       "    </tr>\n",
       "    <tr>\n",
       "      <td>Ridge_Train_a=1</td>\n",
       "      <td>0.880396</td>\n",
       "      <td>27408.150631</td>\n",
       "      <td>9.480727</td>\n",
       "      <td>N/A</td>\n",
       "      <td>N/A</td>\n",
       "    </tr>\n",
       "    <tr>\n",
       "      <td>Ridge_Test_a=1</td>\n",
       "      <td>0.872925</td>\n",
       "      <td>28233.522448</td>\n",
       "      <td>9.947499</td>\n",
       "      <td>52153.8</td>\n",
       "      <td>55109.2</td>\n",
       "    </tr>\n",
       "    <tr>\n",
       "      <td>Ridge_Train_No_Outliers</td>\n",
       "      <td>0.915706</td>\n",
       "      <td>20519.863552</td>\n",
       "      <td>8.626239</td>\n",
       "      <td>N/A</td>\n",
       "      <td>N/A</td>\n",
       "    </tr>\n",
       "    <tr>\n",
       "      <td>Ridge_Test_No_Outliers</td>\n",
       "      <td>0.894233</td>\n",
       "      <td>21722.649043</td>\n",
       "      <td>9.794927</td>\n",
       "      <td>42486.3</td>\n",
       "      <td>42354.9</td>\n",
       "    </tr>\n",
       "  </tbody>\n",
       "</table>\n",
       "</div>"
      ],
      "text/plain": [
       "                         R_Squared          RMSE   MAPE (%)  \\\n",
       "Model                                                         \n",
       "Linear_Train              0.930668  20867.619109   8.179160   \n",
       "Linear_Test               0.877025  27774.277801  11.107240   \n",
       "Ridge_Train               0.924783  21735.300299   8.211178   \n",
       "Ridge_Test                0.894620  25710.742519   9.869781   \n",
       "Lasso_Train               0.930663  20868.514771  49.564078   \n",
       "Lasso_Test                0.887081  26614.446974  50.809840   \n",
       "Ridge_Train_a=10          0.651788  46765.919130  17.718180   \n",
       "Ridge_Test_a=10           0.659501  46216.022922  18.516758   \n",
       "Ridge_Train_a=1           0.880396  27408.150631   9.480727   \n",
       "Ridge_Test_a=1            0.872925  28233.522448   9.947499   \n",
       "Ridge_Train_No_Outliers   0.915706  20519.863552   8.626239   \n",
       "Ridge_Test_No_Outliers    0.894233  21722.649043   9.794927   \n",
       "\n",
       "                        Worst Underestimate Worst Overestimate  \n",
       "Model                                                           \n",
       "Linear_Train                            N/A                N/A  \n",
       "Linear_Test                         54799.1            55049.2  \n",
       "Ridge_Train                             N/A                N/A  \n",
       "Ridge_Test                            40291            47665.9  \n",
       "Lasso_Train                             N/A                N/A  \n",
       "Lasso_Test                           219702             219698  \n",
       "Ridge_Train_a=10                        N/A                N/A  \n",
       "Ridge_Test_a=10                     90024.5            75831.5  \n",
       "Ridge_Train_a=1                         N/A                N/A  \n",
       "Ridge_Test_a=1                      52153.8            55109.2  \n",
       "Ridge_Train_No_Outliers                 N/A                N/A  \n",
       "Ridge_Test_No_Outliers              42486.3            42354.9  "
      ]
     },
     "execution_count": 75,
     "metadata": {},
     "output_type": "execute_result"
    }
   ],
   "source": [
    "metrics"
   ]
  },
  {
   "cell_type": "code",
   "execution_count": null,
   "metadata": {},
   "outputs": [],
   "source": []
  },
  {
   "cell_type": "code",
   "execution_count": null,
   "metadata": {},
   "outputs": [],
   "source": []
  },
  {
   "cell_type": "code",
   "execution_count": 76,
   "metadata": {},
   "outputs": [
    {
     "data": {
      "image/png": "[encoded data removed]",
      "text/plain": [
       "<Figure size 432x288 with 1 Axes>"
      ]
     },
     "metadata": {
      "needs_background": "light"
     },
     "output_type": "display_data"
    }
   ],
   "source": [
    "# Rerunning graphics with No_outliers model\n",
    "\n",
    "# Predicted vs actual scatterplot\n",
    "plt.scatter(ridge_pred_test, y_test, alpha=0.5, s=4)\n",
    "plt.title('Predicted vs. Actual Sale price')\n",
    "plt.xlabel('Predicted Sale Price')\n",
    "plt.ylabel('Actual Sale Price')\n",
    "plt.plot(list(range(y_test.max())),list(range(y_test.max())), c='r')\n",
    "plt.show()"
   ]
  },
  {
   "cell_type": "code",
   "execution_count": null,
   "metadata": {},
   "outputs": [],
   "source": []
  },
  {
   "cell_type": "code",
   "execution_count": 77,
   "metadata": {},
   "outputs": [
    {
     "data": {
      "image/png": "[encoded data removed]",
      "text/plain": [
       "<Figure size 432x288 with 1 Axes>"
      ]
     },
     "metadata": {
      "needs_background": "light"
     },
     "output_type": "display_data"
    }
   ],
   "source": [
    "# Predicted vs residuals\n",
    "residuals = y_test - ridge_pred_test\n",
    "plt.scatter(ridge_pred_test, residuals, alpha = 0.5, s=4)\n",
    "plt.plot(list(range(y_test.max())),[0]*y_test.max(), c='r')\n",
    "plt.show()"
   ]
  },
  {
   "cell_type": "code",
   "execution_count": null,
   "metadata": {},
   "outputs": [],
   "source": []
  },
  {
   "cell_type": "code",
   "execution_count": 78,
   "metadata": {
    "scrolled": false
   },
   "outputs": [
    {
     "data": {
      "image/png": "[encoded data removed]",
      "text/plain": [
       "<Figure size 432x288 with 1 Axes>"
      ]
     },
     "metadata": {
      "needs_background": "light"
     },
     "output_type": "display_data"
    }
   ],
   "source": [
    "\n",
    "# Histogram of Residuals\n",
    "\n",
    "mean = np.mean(residuals)\n",
    "std_dev = np.std(residuals)\n",
    "\n",
    "plt.hist(residuals, bins=20)\n",
    "plt.axvline(mean, color='r')\n",
    "plt.axvline(mean + std_dev, color='r', linestyle='--')\n",
    "plt.axvline(mean + 2* std_dev, color='r', linestyle='-.')\n",
    "plt.axvline(mean + 3* std_dev, color='r', linestyle=':')\n",
    "plt.axvline(mean - std_dev, color='r', linestyle='--')\n",
    "plt.axvline(mean - 2* std_dev, color='r', linestyle='-.')\n",
    "plt.axvline(mean - 3* std_dev, color='r', linestyle=':')\n",
    "plt.title('Residuals')\n",
    "plt.ylabel('Frequency')\n",
    "plt.show()"
   ]
  },
  {
   "cell_type": "code",
   "execution_count": null,
   "metadata": {},
   "outputs": [],
   "source": []
  },
  {
   "cell_type": "code",
   "execution_count": null,
   "metadata": {},
   "outputs": [],
   "source": []
  },
  {
   "cell_type": "code",
   "execution_count": null,
   "metadata": {},
   "outputs": [],
   "source": []
  },
  {
   "cell_type": "code",
   "execution_count": null,
   "metadata": {},
   "outputs": [],
   "source": []
  },
  {
   "cell_type": "code",
   "execution_count": null,
   "metadata": {},
   "outputs": [],
   "source": []
  },
  {
   "cell_type": "code",
   "execution_count": null,
   "metadata": {},
   "outputs": [],
   "source": []
  }
 ],
 "metadata": {
  "kernelspec": {
   "display_name": "Python 3",
   "language": "python",
   "name": "python3"
  },
  "language_info": {
   "codemirror_mode": {
    "name": "ipython",
    "version": 3
   },
   "file_extension": ".py",
   "mimetype": "text/x-python",
   "name": "python",
   "nbconvert_exporter": "python",
   "pygments_lexer": "ipython3",
   "version": "3.7.4"
  }
 },
 "nbformat": 4,
 "nbformat_minor": 2
}
