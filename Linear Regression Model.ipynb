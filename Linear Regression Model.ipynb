{
 "cells": [
  {
   "cell_type": "code",
   "execution_count": null,
   "metadata": {},
   "outputs": [],
   "source": []
  },
  {
   "cell_type": "code",
   "execution_count": 1,
   "metadata": {},
   "outputs": [],
   "source": [
    "#Import packages to be used\n",
    "import pandas as pd\n",
    "import numpy as np\n",
    "import seaborn as sns\n",
    "import matplotlib.pyplot as plt\n",
    "from scipy import stats\n",
    "import pickle\n",
    "from sklearn.linear_model import LinearRegression\n",
    "from sklearn.model_selection import train_test_split\n",
    "from sklearn.metrics import mean_squared_error\n",
    "from sklearn.linear_model import Ridge\n",
    "from sklearn.linear_model import Lasso\n",
    "from sklearn.model_selection import GridSearchCV"
   ]
  },
  {
   "cell_type": "code",
   "execution_count": 2,
   "metadata": {},
   "outputs": [],
   "source": [
    "# Imports raw data\n",
    "housing_import = pd.read_csv('trimmed_data.csv', index_col='Id')"
   ]
  },
  {
   "cell_type": "code",
   "execution_count": null,
   "metadata": {},
   "outputs": [],
   "source": []
  },
  {
   "cell_type": "code",
   "execution_count": 3,
   "metadata": {},
   "outputs": [],
   "source": [
    "# Cleaning out NaN values remaining\n",
    "housing_import = housing_import[housing_import.MasVnrType.isnull() == False]\n",
    "housing = housing_import.drop('MiscFeature', axis=1)"
   ]
  },
  {
   "cell_type": "code",
   "execution_count": null,
   "metadata": {},
   "outputs": [],
   "source": []
  },
  {
   "cell_type": "code",
   "execution_count": 4,
   "metadata": {},
   "outputs": [
    {
     "data": {
      "text/html": [
       "<div>\n",
       "<style scoped>\n",
       "    .dataframe tbody tr th:only-of-type {\n",
       "        vertical-align: middle;\n",
       "    }\n",
       "\n",
       "    .dataframe tbody tr th {\n",
       "        vertical-align: top;\n",
       "    }\n",
       "\n",
       "    .dataframe thead th {\n",
       "        text-align: right;\n",
       "    }\n",
       "</style>\n",
       "<table border=\"1\" class=\"dataframe\">\n",
       "  <thead>\n",
       "    <tr style=\"text-align: right;\">\n",
       "      <th></th>\n",
       "      <th>MSSubClass</th>\n",
       "      <th>LotFrontage</th>\n",
       "      <th>LotArea</th>\n",
       "      <th>OverallQual</th>\n",
       "      <th>OverallCond</th>\n",
       "      <th>YearBuilt</th>\n",
       "      <th>YearRemodAdd</th>\n",
       "      <th>MasVnrArea</th>\n",
       "      <th>1stFlrSF</th>\n",
       "      <th>LowQualFinSF</th>\n",
       "      <th>...</th>\n",
       "      <th>SaleType_ConLw</th>\n",
       "      <th>SaleType_New</th>\n",
       "      <th>SaleType_Oth</th>\n",
       "      <th>SaleType_WD</th>\n",
       "      <th>SaleCondition_Abnorml</th>\n",
       "      <th>SaleCondition_AdjLand</th>\n",
       "      <th>SaleCondition_Alloca</th>\n",
       "      <th>SaleCondition_Family</th>\n",
       "      <th>SaleCondition_Normal</th>\n",
       "      <th>SaleCondition_Partial</th>\n",
       "    </tr>\n",
       "    <tr>\n",
       "      <th>Id</th>\n",
       "      <th></th>\n",
       "      <th></th>\n",
       "      <th></th>\n",
       "      <th></th>\n",
       "      <th></th>\n",
       "      <th></th>\n",
       "      <th></th>\n",
       "      <th></th>\n",
       "      <th></th>\n",
       "      <th></th>\n",
       "      <th></th>\n",
       "      <th></th>\n",
       "      <th></th>\n",
       "      <th></th>\n",
       "      <th></th>\n",
       "      <th></th>\n",
       "      <th></th>\n",
       "      <th></th>\n",
       "      <th></th>\n",
       "      <th></th>\n",
       "      <th></th>\n",
       "    </tr>\n",
       "  </thead>\n",
       "  <tbody>\n",
       "    <tr>\n",
       "      <td>1</td>\n",
       "      <td>60</td>\n",
       "      <td>65.0</td>\n",
       "      <td>8450</td>\n",
       "      <td>7</td>\n",
       "      <td>5</td>\n",
       "      <td>2003</td>\n",
       "      <td>2003</td>\n",
       "      <td>196.0</td>\n",
       "      <td>856</td>\n",
       "      <td>0</td>\n",
       "      <td>...</td>\n",
       "      <td>0</td>\n",
       "      <td>0</td>\n",
       "      <td>0</td>\n",
       "      <td>1</td>\n",
       "      <td>0</td>\n",
       "      <td>0</td>\n",
       "      <td>0</td>\n",
       "      <td>0</td>\n",
       "      <td>1</td>\n",
       "      <td>0</td>\n",
       "    </tr>\n",
       "    <tr>\n",
       "      <td>2</td>\n",
       "      <td>20</td>\n",
       "      <td>80.0</td>\n",
       "      <td>9600</td>\n",
       "      <td>6</td>\n",
       "      <td>8</td>\n",
       "      <td>1976</td>\n",
       "      <td>1976</td>\n",
       "      <td>0.0</td>\n",
       "      <td>1262</td>\n",
       "      <td>0</td>\n",
       "      <td>...</td>\n",
       "      <td>0</td>\n",
       "      <td>0</td>\n",
       "      <td>0</td>\n",
       "      <td>1</td>\n",
       "      <td>0</td>\n",
       "      <td>0</td>\n",
       "      <td>0</td>\n",
       "      <td>0</td>\n",
       "      <td>1</td>\n",
       "      <td>0</td>\n",
       "    </tr>\n",
       "    <tr>\n",
       "      <td>3</td>\n",
       "      <td>60</td>\n",
       "      <td>68.0</td>\n",
       "      <td>11250</td>\n",
       "      <td>7</td>\n",
       "      <td>5</td>\n",
       "      <td>2001</td>\n",
       "      <td>2002</td>\n",
       "      <td>162.0</td>\n",
       "      <td>920</td>\n",
       "      <td>0</td>\n",
       "      <td>...</td>\n",
       "      <td>0</td>\n",
       "      <td>0</td>\n",
       "      <td>0</td>\n",
       "      <td>1</td>\n",
       "      <td>0</td>\n",
       "      <td>0</td>\n",
       "      <td>0</td>\n",
       "      <td>0</td>\n",
       "      <td>1</td>\n",
       "      <td>0</td>\n",
       "    </tr>\n",
       "    <tr>\n",
       "      <td>4</td>\n",
       "      <td>70</td>\n",
       "      <td>60.0</td>\n",
       "      <td>9550</td>\n",
       "      <td>7</td>\n",
       "      <td>5</td>\n",
       "      <td>1915</td>\n",
       "      <td>1970</td>\n",
       "      <td>0.0</td>\n",
       "      <td>961</td>\n",
       "      <td>0</td>\n",
       "      <td>...</td>\n",
       "      <td>0</td>\n",
       "      <td>0</td>\n",
       "      <td>0</td>\n",
       "      <td>1</td>\n",
       "      <td>1</td>\n",
       "      <td>0</td>\n",
       "      <td>0</td>\n",
       "      <td>0</td>\n",
       "      <td>0</td>\n",
       "      <td>0</td>\n",
       "    </tr>\n",
       "    <tr>\n",
       "      <td>5</td>\n",
       "      <td>60</td>\n",
       "      <td>84.0</td>\n",
       "      <td>14260</td>\n",
       "      <td>8</td>\n",
       "      <td>5</td>\n",
       "      <td>2000</td>\n",
       "      <td>2000</td>\n",
       "      <td>350.0</td>\n",
       "      <td>1145</td>\n",
       "      <td>0</td>\n",
       "      <td>...</td>\n",
       "      <td>0</td>\n",
       "      <td>0</td>\n",
       "      <td>0</td>\n",
       "      <td>1</td>\n",
       "      <td>0</td>\n",
       "      <td>0</td>\n",
       "      <td>0</td>\n",
       "      <td>0</td>\n",
       "      <td>1</td>\n",
       "      <td>0</td>\n",
       "    </tr>\n",
       "    <tr>\n",
       "      <td>...</td>\n",
       "      <td>...</td>\n",
       "      <td>...</td>\n",
       "      <td>...</td>\n",
       "      <td>...</td>\n",
       "      <td>...</td>\n",
       "      <td>...</td>\n",
       "      <td>...</td>\n",
       "      <td>...</td>\n",
       "      <td>...</td>\n",
       "      <td>...</td>\n",
       "      <td>...</td>\n",
       "      <td>...</td>\n",
       "      <td>...</td>\n",
       "      <td>...</td>\n",
       "      <td>...</td>\n",
       "      <td>...</td>\n",
       "      <td>...</td>\n",
       "      <td>...</td>\n",
       "      <td>...</td>\n",
       "      <td>...</td>\n",
       "      <td>...</td>\n",
       "    </tr>\n",
       "    <tr>\n",
       "      <td>1456</td>\n",
       "      <td>60</td>\n",
       "      <td>62.0</td>\n",
       "      <td>7917</td>\n",
       "      <td>6</td>\n",
       "      <td>5</td>\n",
       "      <td>1999</td>\n",
       "      <td>2000</td>\n",
       "      <td>0.0</td>\n",
       "      <td>953</td>\n",
       "      <td>0</td>\n",
       "      <td>...</td>\n",
       "      <td>0</td>\n",
       "      <td>0</td>\n",
       "      <td>0</td>\n",
       "      <td>1</td>\n",
       "      <td>0</td>\n",
       "      <td>0</td>\n",
       "      <td>0</td>\n",
       "      <td>0</td>\n",
       "      <td>1</td>\n",
       "      <td>0</td>\n",
       "    </tr>\n",
       "    <tr>\n",
       "      <td>1457</td>\n",
       "      <td>20</td>\n",
       "      <td>85.0</td>\n",
       "      <td>13175</td>\n",
       "      <td>6</td>\n",
       "      <td>6</td>\n",
       "      <td>1978</td>\n",
       "      <td>1988</td>\n",
       "      <td>119.0</td>\n",
       "      <td>2073</td>\n",
       "      <td>0</td>\n",
       "      <td>...</td>\n",
       "      <td>0</td>\n",
       "      <td>0</td>\n",
       "      <td>0</td>\n",
       "      <td>1</td>\n",
       "      <td>0</td>\n",
       "      <td>0</td>\n",
       "      <td>0</td>\n",
       "      <td>0</td>\n",
       "      <td>1</td>\n",
       "      <td>0</td>\n",
       "    </tr>\n",
       "    <tr>\n",
       "      <td>1458</td>\n",
       "      <td>70</td>\n",
       "      <td>66.0</td>\n",
       "      <td>9042</td>\n",
       "      <td>7</td>\n",
       "      <td>9</td>\n",
       "      <td>1941</td>\n",
       "      <td>2006</td>\n",
       "      <td>0.0</td>\n",
       "      <td>1188</td>\n",
       "      <td>0</td>\n",
       "      <td>...</td>\n",
       "      <td>0</td>\n",
       "      <td>0</td>\n",
       "      <td>0</td>\n",
       "      <td>1</td>\n",
       "      <td>0</td>\n",
       "      <td>0</td>\n",
       "      <td>0</td>\n",
       "      <td>0</td>\n",
       "      <td>1</td>\n",
       "      <td>0</td>\n",
       "    </tr>\n",
       "    <tr>\n",
       "      <td>1459</td>\n",
       "      <td>20</td>\n",
       "      <td>68.0</td>\n",
       "      <td>9717</td>\n",
       "      <td>5</td>\n",
       "      <td>6</td>\n",
       "      <td>1950</td>\n",
       "      <td>1996</td>\n",
       "      <td>0.0</td>\n",
       "      <td>1078</td>\n",
       "      <td>0</td>\n",
       "      <td>...</td>\n",
       "      <td>0</td>\n",
       "      <td>0</td>\n",
       "      <td>0</td>\n",
       "      <td>1</td>\n",
       "      <td>0</td>\n",
       "      <td>0</td>\n",
       "      <td>0</td>\n",
       "      <td>0</td>\n",
       "      <td>1</td>\n",
       "      <td>0</td>\n",
       "    </tr>\n",
       "    <tr>\n",
       "      <td>1460</td>\n",
       "      <td>20</td>\n",
       "      <td>75.0</td>\n",
       "      <td>9937</td>\n",
       "      <td>5</td>\n",
       "      <td>6</td>\n",
       "      <td>1965</td>\n",
       "      <td>1965</td>\n",
       "      <td>0.0</td>\n",
       "      <td>1256</td>\n",
       "      <td>0</td>\n",
       "      <td>...</td>\n",
       "      <td>0</td>\n",
       "      <td>0</td>\n",
       "      <td>0</td>\n",
       "      <td>1</td>\n",
       "      <td>0</td>\n",
       "      <td>0</td>\n",
       "      <td>0</td>\n",
       "      <td>0</td>\n",
       "      <td>1</td>\n",
       "      <td>0</td>\n",
       "    </tr>\n",
       "  </tbody>\n",
       "</table>\n",
       "<p>1452 rows × 274 columns</p>\n",
       "</div>"
      ],
      "text/plain": [
       "      MSSubClass  LotFrontage  LotArea  OverallQual  OverallCond  YearBuilt  \\\n",
       "Id                                                                            \n",
       "1             60         65.0     8450            7            5       2003   \n",
       "2             20         80.0     9600            6            8       1976   \n",
       "3             60         68.0    11250            7            5       2001   \n",
       "4             70         60.0     9550            7            5       1915   \n",
       "5             60         84.0    14260            8            5       2000   \n",
       "...          ...          ...      ...          ...          ...        ...   \n",
       "1456          60         62.0     7917            6            5       1999   \n",
       "1457          20         85.0    13175            6            6       1978   \n",
       "1458          70         66.0     9042            7            9       1941   \n",
       "1459          20         68.0     9717            5            6       1950   \n",
       "1460          20         75.0     9937            5            6       1965   \n",
       "\n",
       "      YearRemodAdd  MasVnrArea  1stFlrSF  LowQualFinSF  ...  SaleType_ConLw  \\\n",
       "Id                                                      ...                   \n",
       "1             2003       196.0       856             0  ...               0   \n",
       "2             1976         0.0      1262             0  ...               0   \n",
       "3             2002       162.0       920             0  ...               0   \n",
       "4             1970         0.0       961             0  ...               0   \n",
       "5             2000       350.0      1145             0  ...               0   \n",
       "...            ...         ...       ...           ...  ...             ...   \n",
       "1456          2000         0.0       953             0  ...               0   \n",
       "1457          1988       119.0      2073             0  ...               0   \n",
       "1458          2006         0.0      1188             0  ...               0   \n",
       "1459          1996         0.0      1078             0  ...               0   \n",
       "1460          1965         0.0      1256             0  ...               0   \n",
       "\n",
       "      SaleType_New  SaleType_Oth  SaleType_WD  SaleCondition_Abnorml  \\\n",
       "Id                                                                     \n",
       "1                0             0            1                      0   \n",
       "2                0             0            1                      0   \n",
       "3                0             0            1                      0   \n",
       "4                0             0            1                      1   \n",
       "5                0             0            1                      0   \n",
       "...            ...           ...          ...                    ...   \n",
       "1456             0             0            1                      0   \n",
       "1457             0             0            1                      0   \n",
       "1458             0             0            1                      0   \n",
       "1459             0             0            1                      0   \n",
       "1460             0             0            1                      0   \n",
       "\n",
       "      SaleCondition_AdjLand  SaleCondition_Alloca  SaleCondition_Family  \\\n",
       "Id                                                                        \n",
       "1                         0                     0                     0   \n",
       "2                         0                     0                     0   \n",
       "3                         0                     0                     0   \n",
       "4                         0                     0                     0   \n",
       "5                         0                     0                     0   \n",
       "...                     ...                   ...                   ...   \n",
       "1456                      0                     0                     0   \n",
       "1457                      0                     0                     0   \n",
       "1458                      0                     0                     0   \n",
       "1459                      0                     0                     0   \n",
       "1460                      0                     0                     0   \n",
       "\n",
       "      SaleCondition_Normal  SaleCondition_Partial  \n",
       "Id                                                 \n",
       "1                        1                      0  \n",
       "2                        1                      0  \n",
       "3                        1                      0  \n",
       "4                        0                      0  \n",
       "5                        1                      0  \n",
       "...                    ...                    ...  \n",
       "1456                     1                      0  \n",
       "1457                     1                      0  \n",
       "1458                     1                      0  \n",
       "1459                     1                      0  \n",
       "1460                     1                      0  \n",
       "\n",
       "[1452 rows x 274 columns]"
      ]
     },
     "execution_count": 4,
     "metadata": {},
     "output_type": "execute_result"
    }
   ],
   "source": [
    "pd.get_dummies(housing)"
   ]
  },
  {
   "cell_type": "markdown",
   "metadata": {},
   "source": [
    "My interpretation of the get dummies function is that it took each categorical variable and added a variable to the dataframe for each category and populated that variable with a binary to capture datapoints from that category. "
   ]
  },
  {
   "cell_type": "code",
   "execution_count": 5,
   "metadata": {},
   "outputs": [],
   "source": [
    "housing_dummies = pd.get_dummies(housing)"
   ]
  },
  {
   "cell_type": "code",
   "execution_count": null,
   "metadata": {},
   "outputs": [],
   "source": []
  },
  {
   "cell_type": "code",
   "execution_count": 6,
   "metadata": {},
   "outputs": [],
   "source": [
    "# Creating Target and Feature Arrays\n",
    "# .values returns numpy array instead of dataframe\n",
    "X = housing_dummies.drop('SalePrice', axis=1).values\n",
    "y = housing_dummies.SalePrice.values\n",
    "\n"
   ]
  },
  {
   "cell_type": "code",
   "execution_count": 7,
   "metadata": {},
   "outputs": [],
   "source": [
    "# Unsure as what I need as far as reshaping goes\n",
    "X.shape\n",
    "y.shape\n",
    "\n",
    "y = y.reshape(-1, 1)"
   ]
  },
  {
   "cell_type": "code",
   "execution_count": 8,
   "metadata": {},
   "outputs": [],
   "source": [
    "# Train test split\n",
    "X_train, X_test, y_train, y_test = train_test_split(X, y, test_size = 0.25, random_state=42)"
   ]
  },
  {
   "cell_type": "code",
   "execution_count": 9,
   "metadata": {},
   "outputs": [
    {
     "data": {
      "text/plain": [
       "(1089, 273)"
      ]
     },
     "execution_count": 9,
     "metadata": {},
     "output_type": "execute_result"
    }
   ],
   "source": [
    "X_train.shape"
   ]
  },
  {
   "cell_type": "code",
   "execution_count": 10,
   "metadata": {},
   "outputs": [
    {
     "data": {
      "text/html": [
       "<div>\n",
       "<style scoped>\n",
       "    .dataframe tbody tr th:only-of-type {\n",
       "        vertical-align: middle;\n",
       "    }\n",
       "\n",
       "    .dataframe tbody tr th {\n",
       "        vertical-align: top;\n",
       "    }\n",
       "\n",
       "    .dataframe thead th {\n",
       "        text-align: right;\n",
       "    }\n",
       "</style>\n",
       "<table border=\"1\" class=\"dataframe\">\n",
       "  <thead>\n",
       "    <tr style=\"text-align: right;\">\n",
       "      <th></th>\n",
       "      <th>R_Squared</th>\n",
       "      <th>RMSE</th>\n",
       "      <th>MAPE</th>\n",
       "    </tr>\n",
       "    <tr>\n",
       "      <th>Model</th>\n",
       "      <th></th>\n",
       "      <th></th>\n",
       "      <th></th>\n",
       "    </tr>\n",
       "  </thead>\n",
       "  <tbody>\n",
       "  </tbody>\n",
       "</table>\n",
       "</div>"
      ],
      "text/plain": [
       "Empty DataFrame\n",
       "Columns: [R_Squared, RMSE, MAPE]\n",
       "Index: []"
      ]
     },
     "execution_count": 10,
     "metadata": {},
     "output_type": "execute_result"
    }
   ],
   "source": [
    "# Creating a dataframe for performance metrics\n",
    "d = {'R_Squared': [], 'RMSE': [], 'MAPE': []}\n",
    "metrics = pd.DataFrame(data=d)\n",
    "metrics.index.name = 'Model'\n",
    "metrics"
   ]
  },
  {
   "cell_type": "code",
   "execution_count": 11,
   "metadata": {},
   "outputs": [],
   "source": [
    "# Create LinearRegression Object\n",
    "reg = LinearRegression()"
   ]
  },
  {
   "cell_type": "code",
   "execution_count": 12,
   "metadata": {},
   "outputs": [
    {
     "data": {
      "text/plain": [
       "LinearRegression(copy_X=True, fit_intercept=True, n_jobs=None, normalize=False)"
      ]
     },
     "execution_count": 12,
     "metadata": {},
     "output_type": "execute_result"
    }
   ],
   "source": [
    "# Fit the data\n",
    "reg.fit(X_train, y_train)"
   ]
  },
  {
   "cell_type": "code",
   "execution_count": 13,
   "metadata": {},
   "outputs": [],
   "source": [
    "# Create Predictions based on fit\n",
    "y_pred_test = reg.predict(X_test)\n",
    "y_pred_train = reg.predict(X_train)"
   ]
  },
  {
   "cell_type": "code",
   "execution_count": 14,
   "metadata": {},
   "outputs": [
    {
     "name": "stdout",
     "output_type": "stream",
     "text": [
      "R^2: 0.930668487832045\n",
      "Root Mean Squared Error: 20867.61910938707\n",
      "Mean Absolute Percent Error: 8.179160424146515\n"
     ]
    }
   ],
   "source": [
    "# Performance Metrics for training set\n",
    "print(\"R^2: {}\".format(reg.score(X_train, y_train)))\n",
    "rmse = np.sqrt(mean_squared_error(y_train, y_pred_train))\n",
    "print(\"Root Mean Squared Error: {}\".format(rmse))\n",
    "error = (y_train-y_pred_train)/y_train * 100\n",
    "mape = abs(error).mean()\n",
    "print('Mean Absolute Percent Error: {}'.format(mape))"
   ]
  },
  {
   "cell_type": "code",
   "execution_count": 15,
   "metadata": {},
   "outputs": [],
   "source": [
    "# Adding metrics to the metrics dataframe\n",
    "d = {'R_Squared': [reg.score(X_train, y_train)], 'RMSE': [rmse], 'MAPE': [mape]}\n",
    "temp = pd.DataFrame(data=d, index=['Linear_Train'])\n",
    "temp.index.name = 'Model'\n",
    "metrics = metrics.append(temp)"
   ]
  },
  {
   "cell_type": "code",
   "execution_count": null,
   "metadata": {},
   "outputs": [],
   "source": []
  },
  {
   "cell_type": "code",
   "execution_count": 16,
   "metadata": {},
   "outputs": [
    {
     "name": "stdout",
     "output_type": "stream",
     "text": [
      "R^2: 0.8770252691748901\n",
      "Root Mean Squared Error: 27774.277800625732\n",
      "Mean Absolute Percent Error: 11.10724000427329\n"
     ]
    }
   ],
   "source": [
    "# Performance Metrics for test set\n",
    "print(\"R^2: {}\".format(reg.score(X_test, y_test)))\n",
    "rmse = np.sqrt(mean_squared_error(y_test, y_pred_test))\n",
    "print(\"Root Mean Squared Error: {}\".format(rmse))\n",
    "error = (y_test-y_pred_test)/y_test * 100\n",
    "mape = abs(error).mean()\n",
    "print('Mean Absolute Percent Error: {}'.format(mape))"
   ]
  },
  {
   "cell_type": "code",
   "execution_count": 17,
   "metadata": {},
   "outputs": [],
   "source": [
    "# Adding metrics to the metrics dataframe\n",
    "d = {'R_Squared': [reg.score(X_test, y_test)], 'RMSE': [rmse], 'MAPE': [mape]}\n",
    "temp = pd.DataFrame(data=d, index=['Linear_Test'])\n",
    "temp.index.name = 'Model'\n",
    "metrics = metrics.append(temp)"
   ]
  },
  {
   "cell_type": "code",
   "execution_count": 18,
   "metadata": {},
   "outputs": [
    {
     "data": {
      "text/html": [
       "<div>\n",
       "<style scoped>\n",
       "    .dataframe tbody tr th:only-of-type {\n",
       "        vertical-align: middle;\n",
       "    }\n",
       "\n",
       "    .dataframe tbody tr th {\n",
       "        vertical-align: top;\n",
       "    }\n",
       "\n",
       "    .dataframe thead th {\n",
       "        text-align: right;\n",
       "    }\n",
       "</style>\n",
       "<table border=\"1\" class=\"dataframe\">\n",
       "  <thead>\n",
       "    <tr style=\"text-align: right;\">\n",
       "      <th></th>\n",
       "      <th>R_Squared</th>\n",
       "      <th>RMSE</th>\n",
       "      <th>MAPE</th>\n",
       "    </tr>\n",
       "    <tr>\n",
       "      <th>Model</th>\n",
       "      <th></th>\n",
       "      <th></th>\n",
       "      <th></th>\n",
       "    </tr>\n",
       "  </thead>\n",
       "  <tbody>\n",
       "    <tr>\n",
       "      <td>Linear_Train</td>\n",
       "      <td>0.930668</td>\n",
       "      <td>20867.619109</td>\n",
       "      <td>8.17916</td>\n",
       "    </tr>\n",
       "    <tr>\n",
       "      <td>Linear_Test</td>\n",
       "      <td>0.877025</td>\n",
       "      <td>27774.277801</td>\n",
       "      <td>11.10724</td>\n",
       "    </tr>\n",
       "  </tbody>\n",
       "</table>\n",
       "</div>"
      ],
      "text/plain": [
       "              R_Squared          RMSE      MAPE\n",
       "Model                                          \n",
       "Linear_Train   0.930668  20867.619109   8.17916\n",
       "Linear_Test    0.877025  27774.277801  11.10724"
      ]
     },
     "execution_count": 18,
     "metadata": {},
     "output_type": "execute_result"
    }
   ],
   "source": [
    "metrics"
   ]
  },
  {
   "cell_type": "code",
   "execution_count": null,
   "metadata": {},
   "outputs": [],
   "source": []
  },
  {
   "cell_type": "code",
   "execution_count": 19,
   "metadata": {},
   "outputs": [],
   "source": [
    "# Applying Ridge Regression\n",
    "\n",
    "# Train test split -- Random state 42 should produce same split as above\n",
    "X_train, X_test, y_train, y_test = train_test_split(X, y, test_size = 0.25, random_state=42)\n",
    "\n",
    "# Creating Ridge object, fitting, and predicting. Normalize = true ensures all variables are on the same scale\n",
    "ridge = Ridge(alpha=0.1, normalize = True)\n",
    "ridge.fit(X_train, y_train)\n",
    "ridge_pred_test = ridge.predict(X_test)\n",
    "ridge_pred_train = ridge.predict(X_train)\n"
   ]
  },
  {
   "cell_type": "code",
   "execution_count": 20,
   "metadata": {},
   "outputs": [
    {
     "name": "stdout",
     "output_type": "stream",
     "text": [
      "R^2: 0.9247829736114249\n",
      "Root Mean Squared Error: 21735.300298706716\n",
      "Mean Absolute Percent Error: 8.211178219406166\n"
     ]
    }
   ],
   "source": [
    "# Metrics for train set\n",
    "print(\"R^2: {}\".format(ridge.score(X_train, y_train)))\n",
    "rmse = np.sqrt(mean_squared_error(y_train, ridge_pred_train))\n",
    "print(\"Root Mean Squared Error: {}\".format(rmse))\n",
    "error = (y_train-ridge_pred_train)/y_train * 100\n",
    "mape = abs(error).mean()\n",
    "print('Mean Absolute Percent Error: {}'.format(mape))"
   ]
  },
  {
   "cell_type": "code",
   "execution_count": 21,
   "metadata": {},
   "outputs": [],
   "source": [
    "# Adding metrics to the metrics dataframe\n",
    "d = {'R_Squared': [ridge.score(X_train, y_train)], 'RMSE': [rmse], 'MAPE': [mape]}\n",
    "temp = pd.DataFrame(data=d, index=['Ridge_Train'])\n",
    "temp.index.name = 'Model'\n",
    "metrics = metrics.append(temp)"
   ]
  },
  {
   "cell_type": "code",
   "execution_count": 22,
   "metadata": {},
   "outputs": [
    {
     "name": "stdout",
     "output_type": "stream",
     "text": [
      "R^2: 0.8946196664700052\n",
      "Root Mean Squared Error: 25710.742518631756\n",
      "Mean Absolute Percent Error: 9.869781484030518\n"
     ]
    }
   ],
   "source": [
    "# Performance Metrics for test set\n",
    "print(\"R^2: {}\".format(ridge.score(X_test, y_test)))\n",
    "rmse = np.sqrt(mean_squared_error(y_test, ridge_pred_test))\n",
    "print(\"Root Mean Squared Error: {}\".format(rmse))\n",
    "error = (y_test-ridge_pred_test)/y_test * 100\n",
    "mape = abs(error).mean()\n",
    "print('Mean Absolute Percent Error: {}'.format(mape))"
   ]
  },
  {
   "cell_type": "code",
   "execution_count": 23,
   "metadata": {},
   "outputs": [],
   "source": [
    "# Adding metrics to the metrics dataframe\n",
    "d = {'R_Squared': [ridge.score(X_test, y_test)], 'RMSE': [rmse], 'MAPE': [mape]}\n",
    "temp = pd.DataFrame(data=d, index=['Ridge_Test'])\n",
    "temp.index.name = 'Model'\n",
    "metrics = metrics.append(temp)"
   ]
  },
  {
   "cell_type": "code",
   "execution_count": 24,
   "metadata": {},
   "outputs": [
    {
     "data": {
      "text/html": [
       "<div>\n",
       "<style scoped>\n",
       "    .dataframe tbody tr th:only-of-type {\n",
       "        vertical-align: middle;\n",
       "    }\n",
       "\n",
       "    .dataframe tbody tr th {\n",
       "        vertical-align: top;\n",
       "    }\n",
       "\n",
       "    .dataframe thead th {\n",
       "        text-align: right;\n",
       "    }\n",
       "</style>\n",
       "<table border=\"1\" class=\"dataframe\">\n",
       "  <thead>\n",
       "    <tr style=\"text-align: right;\">\n",
       "      <th></th>\n",
       "      <th>R_Squared</th>\n",
       "      <th>RMSE</th>\n",
       "      <th>MAPE</th>\n",
       "    </tr>\n",
       "    <tr>\n",
       "      <th>Model</th>\n",
       "      <th></th>\n",
       "      <th></th>\n",
       "      <th></th>\n",
       "    </tr>\n",
       "  </thead>\n",
       "  <tbody>\n",
       "    <tr>\n",
       "      <td>Linear_Train</td>\n",
       "      <td>0.930668</td>\n",
       "      <td>20867.619109</td>\n",
       "      <td>8.179160</td>\n",
       "    </tr>\n",
       "    <tr>\n",
       "      <td>Linear_Test</td>\n",
       "      <td>0.877025</td>\n",
       "      <td>27774.277801</td>\n",
       "      <td>11.107240</td>\n",
       "    </tr>\n",
       "    <tr>\n",
       "      <td>Ridge_Train</td>\n",
       "      <td>0.924783</td>\n",
       "      <td>21735.300299</td>\n",
       "      <td>8.211178</td>\n",
       "    </tr>\n",
       "    <tr>\n",
       "      <td>Ridge_Test</td>\n",
       "      <td>0.894620</td>\n",
       "      <td>25710.742519</td>\n",
       "      <td>9.869781</td>\n",
       "    </tr>\n",
       "  </tbody>\n",
       "</table>\n",
       "</div>"
      ],
      "text/plain": [
       "              R_Squared          RMSE       MAPE\n",
       "Model                                           \n",
       "Linear_Train   0.930668  20867.619109   8.179160\n",
       "Linear_Test    0.877025  27774.277801  11.107240\n",
       "Ridge_Train    0.924783  21735.300299   8.211178\n",
       "Ridge_Test     0.894620  25710.742519   9.869781"
      ]
     },
     "execution_count": 24,
     "metadata": {},
     "output_type": "execute_result"
    }
   ],
   "source": [
    "metrics"
   ]
  },
  {
   "cell_type": "code",
   "execution_count": null,
   "metadata": {},
   "outputs": [],
   "source": []
  },
  {
   "cell_type": "code",
   "execution_count": 25,
   "metadata": {},
   "outputs": [
    {
     "name": "stderr",
     "output_type": "stream",
     "text": [
      "/opt/anaconda3/lib/python3.7/site-packages/sklearn/linear_model/coordinate_descent.py:475: ConvergenceWarning: Objective did not converge. You might want to increase the number of iterations. Duality gap: 27038030845.835327, tolerance: 683979380.2201886\n",
      "  positive)\n"
     ]
    }
   ],
   "source": [
    "# Applying Lasso Regression\n",
    "\n",
    "# Train test split -- Random state 42 should produce same split as above\n",
    "X_train, X_test, y_train, y_test = train_test_split(X, y, test_size = 0.25, random_state=42)\n",
    "\n",
    "lasso = Lasso(alpha = 0.1, normalize = True)\n",
    "lasso.fit(X_train, y_train)\n",
    "lasso_pred_test = lasso.predict(X_test)\n",
    "lasso_pred_train = lasso.predict(X_train)"
   ]
  },
  {
   "cell_type": "code",
   "execution_count": 26,
   "metadata": {},
   "outputs": [
    {
     "name": "stdout",
     "output_type": "stream",
     "text": [
      "R^2: 0.9306625361304\n",
      "Root Mean Squared Error: 20868.514771213853\n",
      "Mean Absolute Percent Error: 49.564077550621406\n"
     ]
    }
   ],
   "source": [
    "# Performance metrics for train set\n",
    "print(\"R^2: {}\".format(lasso.score(X_train, y_train)))\n",
    "rmse = np.sqrt(mean_squared_error(y_train, lasso_pred_train))\n",
    "print(\"Root Mean Squared Error: {}\".format(rmse))\n",
    "error = (y_train-lasso_pred_train)/y_train * 100\n",
    "mape = abs(error).mean()\n",
    "print('Mean Absolute Percent Error: {}'.format(mape))"
   ]
  },
  {
   "cell_type": "code",
   "execution_count": 27,
   "metadata": {},
   "outputs": [],
   "source": [
    "# Adding metrics to the metrics dataframe\n",
    "d = {'R_Squared': [lasso.score(X_train, y_train)], 'RMSE': [rmse], 'MAPE': [mape]}\n",
    "temp = pd.DataFrame(data=d, index=['Lasso_Train'])\n",
    "temp.index.name = 'Model'\n",
    "metrics = metrics.append(temp)"
   ]
  },
  {
   "cell_type": "code",
   "execution_count": 28,
   "metadata": {},
   "outputs": [
    {
     "name": "stdout",
     "output_type": "stream",
     "text": [
      "R^2: 0.8870814680713186\n",
      "Root Mean Squared Error: 26614.44697352724\n",
      "Mean Absolute Percent Error: 50.80983987084027\n"
     ]
    }
   ],
   "source": [
    "# Performance Metrics for test set\n",
    "print(\"R^2: {}\".format(lasso.score(X_test, y_test)))\n",
    "rmse = np.sqrt(mean_squared_error(y_test, lasso_pred_test))\n",
    "print(\"Root Mean Squared Error: {}\".format(rmse))\n",
    "error = (y_test-lasso_pred_test)/y_test * 100\n",
    "mape = abs(error).mean()\n",
    "print('Mean Absolute Percent Error: {}'.format(mape))"
   ]
  },
  {
   "cell_type": "code",
   "execution_count": 29,
   "metadata": {},
   "outputs": [],
   "source": [
    "# Adding metrics to the metrics dataframe\n",
    "d = {'R_Squared': [lasso.score(X_test, y_test)], 'RMSE': [rmse], 'MAPE': [mape]}\n",
    "temp = pd.DataFrame(data=d, index=['Lasso_Test'])\n",
    "temp.index.name = 'Model'\n",
    "metrics = metrics.append(temp)"
   ]
  },
  {
   "cell_type": "code",
   "execution_count": null,
   "metadata": {},
   "outputs": [],
   "source": []
  },
  {
   "cell_type": "code",
   "execution_count": 30,
   "metadata": {},
   "outputs": [
    {
     "data": {
      "text/html": [
       "<div>\n",
       "<style scoped>\n",
       "    .dataframe tbody tr th:only-of-type {\n",
       "        vertical-align: middle;\n",
       "    }\n",
       "\n",
       "    .dataframe tbody tr th {\n",
       "        vertical-align: top;\n",
       "    }\n",
       "\n",
       "    .dataframe thead th {\n",
       "        text-align: right;\n",
       "    }\n",
       "</style>\n",
       "<table border=\"1\" class=\"dataframe\">\n",
       "  <thead>\n",
       "    <tr style=\"text-align: right;\">\n",
       "      <th></th>\n",
       "      <th>R_Squared</th>\n",
       "      <th>RMSE</th>\n",
       "      <th>MAPE</th>\n",
       "    </tr>\n",
       "    <tr>\n",
       "      <th>Model</th>\n",
       "      <th></th>\n",
       "      <th></th>\n",
       "      <th></th>\n",
       "    </tr>\n",
       "  </thead>\n",
       "  <tbody>\n",
       "    <tr>\n",
       "      <td>Linear_Train</td>\n",
       "      <td>0.930668</td>\n",
       "      <td>20867.619109</td>\n",
       "      <td>8.179160</td>\n",
       "    </tr>\n",
       "    <tr>\n",
       "      <td>Linear_Test</td>\n",
       "      <td>0.877025</td>\n",
       "      <td>27774.277801</td>\n",
       "      <td>11.107240</td>\n",
       "    </tr>\n",
       "    <tr>\n",
       "      <td>Ridge_Train</td>\n",
       "      <td>0.924783</td>\n",
       "      <td>21735.300299</td>\n",
       "      <td>8.211178</td>\n",
       "    </tr>\n",
       "    <tr>\n",
       "      <td>Ridge_Test</td>\n",
       "      <td>0.894620</td>\n",
       "      <td>25710.742519</td>\n",
       "      <td>9.869781</td>\n",
       "    </tr>\n",
       "    <tr>\n",
       "      <td>Lasso_Train</td>\n",
       "      <td>0.930663</td>\n",
       "      <td>20868.514771</td>\n",
       "      <td>49.564078</td>\n",
       "    </tr>\n",
       "    <tr>\n",
       "      <td>Lasso_Test</td>\n",
       "      <td>0.887081</td>\n",
       "      <td>26614.446974</td>\n",
       "      <td>50.809840</td>\n",
       "    </tr>\n",
       "  </tbody>\n",
       "</table>\n",
       "</div>"
      ],
      "text/plain": [
       "              R_Squared          RMSE       MAPE\n",
       "Model                                           \n",
       "Linear_Train   0.930668  20867.619109   8.179160\n",
       "Linear_Test    0.877025  27774.277801  11.107240\n",
       "Ridge_Train    0.924783  21735.300299   8.211178\n",
       "Ridge_Test     0.894620  25710.742519   9.869781\n",
       "Lasso_Train    0.930663  20868.514771  49.564078\n",
       "Lasso_Test     0.887081  26614.446974  50.809840"
      ]
     },
     "execution_count": 30,
     "metadata": {},
     "output_type": "execute_result"
    }
   ],
   "source": [
    "metrics"
   ]
  },
  {
   "cell_type": "code",
   "execution_count": null,
   "metadata": {},
   "outputs": [],
   "source": []
  },
  {
   "cell_type": "code",
   "execution_count": null,
   "metadata": {},
   "outputs": [],
   "source": []
  },
  {
   "cell_type": "code",
   "execution_count": null,
   "metadata": {},
   "outputs": [],
   "source": []
  },
  {
   "cell_type": "code",
   "execution_count": null,
   "metadata": {},
   "outputs": [],
   "source": []
  },
  {
   "cell_type": "code",
   "execution_count": 31,
   "metadata": {},
   "outputs": [
    {
     "data": {
      "image/png": "[encoded data removed]",
      "text/plain": [
       "<Figure size 432x288 with 1 Axes>"
      ]
     },
     "metadata": {
      "needs_background": "light"
     },
     "output_type": "display_data"
    }
   ],
   "source": [
    "# Predicted vs actual scatterplot\n",
    "plt.scatter(ridge_pred_test, y_test, alpha=0.5, s=4)\n",
    "plt.title('Predicted vs. Actual Sale price')\n",
    "plt.xlabel('Predicted Sale Price')\n",
    "plt.ylabel('Actual Sale Price')\n",
    "plt.plot(list(range(y_test.max())),list(range(y_test.max())), c='r')\n",
    "plt.show()"
   ]
  },
  {
   "cell_type": "code",
   "execution_count": null,
   "metadata": {},
   "outputs": [],
   "source": []
  },
  {
   "cell_type": "code",
   "execution_count": 32,
   "metadata": {},
   "outputs": [
    {
     "data": {
      "image/png": "[encoded data removed]",
      "text/plain": [
       "<Figure size 432x288 with 1 Axes>"
      ]
     },
     "metadata": {
      "needs_background": "light"
     },
     "output_type": "display_data"
    }
   ],
   "source": [
    "# Predicted vs residuals\n",
    "residuals = ridge_pred_test-y_test\n",
    "plt.scatter(ridge_pred_test, residuals, alpha = 0.5, s=4)\n",
    "plt.plot(list(range(y_test.max())),[0]*y_test.max(), c='r')\n",
    "plt.show()"
   ]
  },
  {
   "cell_type": "code",
   "execution_count": null,
   "metadata": {},
   "outputs": [],
   "source": []
  },
  {
   "cell_type": "code",
   "execution_count": 33,
   "metadata": {},
   "outputs": [
    {
     "data": {
      "image/png": "[encoded data removed]",
      "text/plain": [
       "<Figure size 432x288 with 1 Axes>"
      ]
     },
     "metadata": {
      "needs_background": "light"
     },
     "output_type": "display_data"
    }
   ],
   "source": [
    "# Histogram of Residuals\n",
    "mean = np.mean(residuals)\n",
    "std_dev = np.std(residuals)\n",
    "\n",
    "plt.hist(residuals, bins=20)\n",
    "plt.axvline(mean, color='r')\n",
    "plt.axvline(mean + std_dev, color='r', linestyle='--')\n",
    "plt.axvline(mean + 2* std_dev, color='r', linestyle='-.')\n",
    "plt.axvline(mean + 3* std_dev, color='r', linestyle=':')\n",
    "plt.axvline(mean - std_dev, color='r', linestyle='--')\n",
    "plt.axvline(mean - 2* std_dev, color='r', linestyle='-.')\n",
    "plt.axvline(mean - 3* std_dev, color='r', linestyle=':')\n",
    "plt.title('Residuals')\n",
    "plt.ylabel('Frequency')\n",
    "plt.show()"
   ]
  },
  {
   "cell_type": "code",
   "execution_count": 34,
   "metadata": {},
   "outputs": [
    {
     "data": {
      "text/plain": [
       "array([151644.17378585, 110559.76313608])"
      ]
     },
     "execution_count": 34,
     "metadata": {},
     "output_type": "execute_result"
    }
   ],
   "source": [
    "residuals[residuals > mean + 3* std_dev]"
   ]
  },
  {
   "cell_type": "code",
   "execution_count": 35,
   "metadata": {},
   "outputs": [
    {
     "data": {
      "text/plain": [
       "array([-137388.50110646, -119395.39255961, -160973.12981782])"
      ]
     },
     "execution_count": 35,
     "metadata": {},
     "output_type": "execute_result"
    }
   ],
   "source": [
    "residuals[residuals < mean - 3* std_dev]"
   ]
  },
  {
   "cell_type": "code",
   "execution_count": null,
   "metadata": {},
   "outputs": [],
   "source": []
  },
  {
   "cell_type": "code",
   "execution_count": null,
   "metadata": {},
   "outputs": [],
   "source": []
  },
  {
   "cell_type": "code",
   "execution_count": null,
   "metadata": {},
   "outputs": [],
   "source": []
  },
  {
   "cell_type": "code",
   "execution_count": null,
   "metadata": {},
   "outputs": [],
   "source": []
  },
  {
   "cell_type": "code",
   "execution_count": null,
   "metadata": {},
   "outputs": [],
   "source": []
  },
  {
   "cell_type": "code",
   "execution_count": 36,
   "metadata": {},
   "outputs": [
    {
     "name": "stdout",
     "output_type": "stream",
     "text": [
      "Tuned Logistic Regression Parameters: {'alpha': 1.0}\n",
      "Best score is 0.8380831698524468\n"
     ]
    },
    {
     "name": "stderr",
     "output_type": "stream",
     "text": [
      "/opt/anaconda3/lib/python3.7/site-packages/sklearn/model_selection/_search.py:814: DeprecationWarning: The default of the `iid` parameter will change from True to False in version 0.22 and will be removed in 0.24. This will change numeric results when test-set sizes are unequal.\n",
      "  DeprecationWarning)\n"
     ]
    }
   ],
   "source": [
    "# Setup the hyperparameter grid\n",
    "alpha_space = list(np.arange(11)/10)\n",
    "param_grid = {'alpha': alpha_space}\n",
    "\n",
    "# Instantiate a ridge regression classifier: ridge\n",
    "ridge = Ridge()\n",
    "\n",
    "# Instantiate the GridSearchCV object: logreg_cv\n",
    "ridge_cv = GridSearchCV(ridge, param_grid, cv=5)\n",
    "\n",
    "# Fit it to the data\n",
    "ridge_cv.fit(X, y)\n",
    "\n",
    "# Print the tuned parameters and score\n",
    "print(\"Tuned Logistic Regression Parameters: {}\".format(ridge_cv.best_params_)) \n",
    "print(\"Best score is {}\".format(ridge_cv.best_score_))"
   ]
  },
  {
   "cell_type": "code",
   "execution_count": 37,
   "metadata": {},
   "outputs": [
    {
     "data": {
      "text/plain": [
       "{'mean_fit_time': array([0.05249524, 0.00739422, 0.00777206, 0.00749674, 0.00732322,\n",
       "        0.00785666, 0.00749507, 0.0072484 , 0.00736122, 0.00802603,\n",
       "        0.00757556]),\n",
       " 'std_fit_time': array([3.27357216e-02, 5.59773326e-04, 4.88666819e-04, 3.32632852e-04,\n",
       "        7.77385558e-05, 1.09524986e-03, 1.17936550e-04, 4.70476645e-05,\n",
       "        1.99013082e-04, 7.58256377e-04, 1.37307361e-04]),\n",
       " 'mean_score_time': array([0.00066094, 0.00068436, 0.00069518, 0.00066009, 0.00066061,\n",
       "        0.00064282, 0.00065622, 0.00063391, 0.00063658, 0.00068412,\n",
       "        0.00065618]),\n",
       " 'std_score_time': array([8.34906870e-05, 1.55358391e-04, 6.63961113e-05, 3.06727517e-05,\n",
       "        5.82564272e-05, 1.48666172e-05, 1.83867567e-05, 1.10245328e-05,\n",
       "        2.65919561e-06, 7.44051788e-05, 6.20328307e-06]),\n",
       " 'param_alpha': masked_array(data=[0.0, 0.1, 0.2, 0.3, 0.4, 0.5, 0.6, 0.7, 0.8, 0.9, 1.0],\n",
       "              mask=[False, False, False, False, False, False, False, False,\n",
       "                    False, False, False],\n",
       "        fill_value='?',\n",
       "             dtype=object),\n",
       " 'params': [{'alpha': 0.0},\n",
       "  {'alpha': 0.1},\n",
       "  {'alpha': 0.2},\n",
       "  {'alpha': 0.3},\n",
       "  {'alpha': 0.4},\n",
       "  {'alpha': 0.5},\n",
       "  {'alpha': 0.6},\n",
       "  {'alpha': 0.7},\n",
       "  {'alpha': 0.8},\n",
       "  {'alpha': 0.9},\n",
       "  {'alpha': 1.0}],\n",
       " 'split0_test_score': array([-1.37514193e+21,  8.55923036e-01,  8.65908790e-01,  8.72763583e-01,\n",
       "         8.77784543e-01,  8.81606309e-01,  8.84592389e-01,  8.86971175e-01,\n",
       "         8.88895198e-01,  8.90470822e-01,  8.91774658e-01]),\n",
       " 'split1_test_score': array([-1.01270707e+22,  8.24862007e-01,  8.26858170e-01,  8.27951269e-01,\n",
       "         8.28686255e-01,  8.29238703e-01,  8.29682839e-01,  8.30055800e-01,\n",
       "         8.30378487e-01,  8.30663740e-01,  8.30919988e-01]),\n",
       " 'split2_test_score': array([-6.16109435e+21,  8.42617794e-01,  8.51837711e-01,  8.57789274e-01,\n",
       "         8.62031405e-01,  8.65209458e-01,  8.67670287e-01,  8.69623376e-01,\n",
       "         8.71204123e-01,  8.72504213e-01,  8.73587953e-01]),\n",
       " 'split3_test_score': array([-1.41829290e+22,  8.83119382e-01,  8.81867747e-01,  8.80865184e-01,\n",
       "         8.80065593e-01,  8.79422897e-01,  8.78901492e-01,  8.78475050e-01,\n",
       "         8.78124092e-01,  8.77834022e-01,  8.77593722e-01]),\n",
       " 'split4_test_score': array([-2.33882718e+22,  6.97358545e-01,  7.01252747e-01,  7.04356644e-01,\n",
       "         7.06911051e-01,  7.09064709e-01,  7.10915326e-01,  7.12530105e-01,\n",
       "         7.13956968e-01,  7.15231122e-01,  7.16379086e-01]),\n",
       " 'mean_test_score': array([-1.10396071e+22,  8.20803173e-01,  8.25573736e-01,  8.28774960e-01,\n",
       "         8.31126265e-01,  8.32939426e-01,  8.34383851e-01,  8.35562757e-01,\n",
       "         8.36543626e-01,  8.37372776e-01,  8.38083170e-01]),\n",
       " 'std_test_score': array([7.48789365e+21, 6.45340698e-02, 6.46836107e-02, 6.47280415e-02,\n",
       "        6.47166073e-02, 6.46661418e-02, 6.45868112e-02, 6.44861456e-02,\n",
       "        6.43699865e-02, 6.42428855e-02, 6.41083739e-02]),\n",
       " 'rank_test_score': array([11, 10,  9,  8,  7,  6,  5,  4,  3,  2,  1], dtype=int32)}"
      ]
     },
     "execution_count": 37,
     "metadata": {},
     "output_type": "execute_result"
    }
   ],
   "source": [
    "ridge_cv.cv_results_"
   ]
  },
  {
   "cell_type": "code",
   "execution_count": null,
   "metadata": {},
   "outputs": [],
   "source": []
  },
  {
   "cell_type": "code",
   "execution_count": 38,
   "metadata": {},
   "outputs": [],
   "source": [
    "# Applying Ridge Regression with different alpha based on grid search CV results\n",
    "\n",
    "# Train test split -- Random state 42 should produce same split as above\n",
    "X_train, X_test, y_train, y_test = train_test_split(X, y, test_size = 0.25, random_state=42)\n",
    "\n",
    "# Creating Ridge object, fitting, and predicting. Normalize = true ensures all variables are on the same scale\n",
    "ridge = Ridge(alpha=1, normalize = True)\n",
    "ridge.fit(X_train, y_train)\n",
    "ridge_pred_test = ridge.predict(X_test)\n",
    "ridge_pred_train = ridge.predict(X_train)\n"
   ]
  },
  {
   "cell_type": "code",
   "execution_count": 39,
   "metadata": {},
   "outputs": [
    {
     "name": "stdout",
     "output_type": "stream",
     "text": [
      "R^2: 0.8803963770194232\n",
      "Root Mean Squared Error: 27408.150631030552\n",
      "Mean Absolute Percent Error: 9.480727315879573\n"
     ]
    }
   ],
   "source": [
    "# Metrics for train set\n",
    "print(\"R^2: {}\".format(ridge.score(X_train, y_train)))\n",
    "rmse = np.sqrt(mean_squared_error(y_train, ridge_pred_train))\n",
    "print(\"Root Mean Squared Error: {}\".format(rmse))\n",
    "error = (y_train-ridge_pred_train)/y_train * 100\n",
    "mape = abs(error).mean()\n",
    "print('Mean Absolute Percent Error: {}'.format(mape))"
   ]
  },
  {
   "cell_type": "code",
   "execution_count": 40,
   "metadata": {},
   "outputs": [],
   "source": [
    "# Adding metrics to the metrics dataframe\n",
    "d = {'R_Squared': [ridge.score(X_train, y_train)], 'RMSE': [rmse], 'MAPE': [mape]}\n",
    "temp = pd.DataFrame(data=d, index=['Ridge_Train_a=1'])\n",
    "temp.index.name = 'Model'\n",
    "metrics = metrics.append(temp)"
   ]
  },
  {
   "cell_type": "code",
   "execution_count": 41,
   "metadata": {},
   "outputs": [
    {
     "name": "stdout",
     "output_type": "stream",
     "text": [
      "R^2: 0.8729249000973185\n",
      "Root Mean Squared Error: 28233.5224482231\n",
      "Mean Absolute Percent Error: 9.947499373223314\n"
     ]
    }
   ],
   "source": [
    "# Performance Metrics for test set\n",
    "print(\"R^2: {}\".format(ridge.score(X_test, y_test)))\n",
    "rmse = np.sqrt(mean_squared_error(y_test, ridge_pred_test))\n",
    "print(\"Root Mean Squared Error: {}\".format(rmse))\n",
    "error = (y_test-ridge_pred_test)/y_test * 100\n",
    "mape = abs(error).mean()\n",
    "print('Mean Absolute Percent Error: {}'.format(mape))"
   ]
  },
  {
   "cell_type": "code",
   "execution_count": 42,
   "metadata": {},
   "outputs": [],
   "source": [
    "# Adding metrics to the metrics dataframe\n",
    "d = {'R_Squared': [ridge.score(X_test, y_test)], 'RMSE': [rmse], 'MAPE': [mape]}\n",
    "temp = pd.DataFrame(data=d, index=['Ridge_Test_a=1'])\n",
    "temp.index.name = 'Model'\n",
    "metrics = metrics.append(temp)"
   ]
  },
  {
   "cell_type": "code",
   "execution_count": 43,
   "metadata": {},
   "outputs": [
    {
     "data": {
      "text/html": [
       "<div>\n",
       "<style scoped>\n",
       "    .dataframe tbody tr th:only-of-type {\n",
       "        vertical-align: middle;\n",
       "    }\n",
       "\n",
       "    .dataframe tbody tr th {\n",
       "        vertical-align: top;\n",
       "    }\n",
       "\n",
       "    .dataframe thead th {\n",
       "        text-align: right;\n",
       "    }\n",
       "</style>\n",
       "<table border=\"1\" class=\"dataframe\">\n",
       "  <thead>\n",
       "    <tr style=\"text-align: right;\">\n",
       "      <th></th>\n",
       "      <th>R_Squared</th>\n",
       "      <th>RMSE</th>\n",
       "      <th>MAPE</th>\n",
       "    </tr>\n",
       "    <tr>\n",
       "      <th>Model</th>\n",
       "      <th></th>\n",
       "      <th></th>\n",
       "      <th></th>\n",
       "    </tr>\n",
       "  </thead>\n",
       "  <tbody>\n",
       "    <tr>\n",
       "      <td>Linear_Train</td>\n",
       "      <td>0.930668</td>\n",
       "      <td>20867.619109</td>\n",
       "      <td>8.179160</td>\n",
       "    </tr>\n",
       "    <tr>\n",
       "      <td>Linear_Test</td>\n",
       "      <td>0.877025</td>\n",
       "      <td>27774.277801</td>\n",
       "      <td>11.107240</td>\n",
       "    </tr>\n",
       "    <tr>\n",
       "      <td>Ridge_Train</td>\n",
       "      <td>0.924783</td>\n",
       "      <td>21735.300299</td>\n",
       "      <td>8.211178</td>\n",
       "    </tr>\n",
       "    <tr>\n",
       "      <td>Ridge_Test</td>\n",
       "      <td>0.894620</td>\n",
       "      <td>25710.742519</td>\n",
       "      <td>9.869781</td>\n",
       "    </tr>\n",
       "    <tr>\n",
       "      <td>Lasso_Train</td>\n",
       "      <td>0.930663</td>\n",
       "      <td>20868.514771</td>\n",
       "      <td>49.564078</td>\n",
       "    </tr>\n",
       "    <tr>\n",
       "      <td>Lasso_Test</td>\n",
       "      <td>0.887081</td>\n",
       "      <td>26614.446974</td>\n",
       "      <td>50.809840</td>\n",
       "    </tr>\n",
       "    <tr>\n",
       "      <td>Ridge_Train_a=1</td>\n",
       "      <td>0.880396</td>\n",
       "      <td>27408.150631</td>\n",
       "      <td>9.480727</td>\n",
       "    </tr>\n",
       "    <tr>\n",
       "      <td>Ridge_Test_a=1</td>\n",
       "      <td>0.872925</td>\n",
       "      <td>28233.522448</td>\n",
       "      <td>9.947499</td>\n",
       "    </tr>\n",
       "  </tbody>\n",
       "</table>\n",
       "</div>"
      ],
      "text/plain": [
       "                 R_Squared          RMSE       MAPE\n",
       "Model                                              \n",
       "Linear_Train      0.930668  20867.619109   8.179160\n",
       "Linear_Test       0.877025  27774.277801  11.107240\n",
       "Ridge_Train       0.924783  21735.300299   8.211178\n",
       "Ridge_Test        0.894620  25710.742519   9.869781\n",
       "Lasso_Train       0.930663  20868.514771  49.564078\n",
       "Lasso_Test        0.887081  26614.446974  50.809840\n",
       "Ridge_Train_a=1   0.880396  27408.150631   9.480727\n",
       "Ridge_Test_a=1    0.872925  28233.522448   9.947499"
      ]
     },
     "execution_count": 43,
     "metadata": {},
     "output_type": "execute_result"
    }
   ],
   "source": [
    "metrics"
   ]
  },
  {
   "cell_type": "code",
   "execution_count": 44,
   "metadata": {},
   "outputs": [
    {
     "data": {
      "image/png": "[encoded data removed]",
      "text/plain": [
       "<Figure size 432x288 with 1 Axes>"
      ]
     },
     "metadata": {
      "needs_background": "light"
     },
     "output_type": "display_data"
    }
   ],
   "source": [
    "# Rerunning graphics with different ridge model\n",
    "\n",
    "# Predicted vs actual scatterplot\n",
    "plt.scatter(ridge_pred_test, y_test, alpha=0.5, s=4)\n",
    "plt.title('Predicted vs. Actual Sale price')\n",
    "plt.xlabel('Predicted Sale Price')\n",
    "plt.ylabel('Actual Sale Price')\n",
    "plt.plot(list(range(y_test.max())),list(range(y_test.max())), c='r')\n",
    "plt.show()"
   ]
  },
  {
   "cell_type": "code",
   "execution_count": null,
   "metadata": {},
   "outputs": [],
   "source": []
  },
  {
   "cell_type": "code",
   "execution_count": 45,
   "metadata": {},
   "outputs": [
    {
     "data": {
      "image/png": "[encoded data removed]",
      "text/plain": [
       "<Figure size 432x288 with 1 Axes>"
      ]
     },
     "metadata": {
      "needs_background": "light"
     },
     "output_type": "display_data"
    }
   ],
   "source": [
    "# Predicted vs residuals\n",
    "residuals = ridge_pred_test-y_test\n",
    "residuals_train = ridge_pred_train-y_train\n",
    "plt.scatter(ridge_pred_test, residuals, alpha = 0.5, s=4)\n",
    "plt.plot(list(range(y_test.max())),[0]*y_test.max(), c='r')\n",
    "plt.show()"
   ]
  },
  {
   "cell_type": "code",
   "execution_count": null,
   "metadata": {},
   "outputs": [],
   "source": []
  },
  {
   "cell_type": "code",
   "execution_count": 46,
   "metadata": {
    "scrolled": false
   },
   "outputs": [
    {
     "data": {
      "image/png": "[encoded data removed]",
      "text/plain": [
       "<Figure size 432x288 with 1 Axes>"
      ]
     },
     "metadata": {
      "needs_background": "light"
     },
     "output_type": "display_data"
    }
   ],
   "source": [
    "# Histogram of Residuals\n",
    "mean = np.mean(residuals)\n",
    "std_dev = np.std(residuals)\n",
    "\n",
    "mean_train = np.mean(residuals_train)\n",
    "std_dev_train = np.std(residuals_train)\n",
    "\n",
    "plt.hist(residuals, bins=20)\n",
    "plt.axvline(mean, color='r')\n",
    "plt.axvline(mean + std_dev, color='r', linestyle='--')\n",
    "plt.axvline(mean + 2* std_dev, color='r', linestyle='-.')\n",
    "plt.axvline(mean + 3* std_dev, color='r', linestyle=':')\n",
    "plt.axvline(mean - std_dev, color='r', linestyle='--')\n",
    "plt.axvline(mean - 2* std_dev, color='r', linestyle='-.')\n",
    "plt.axvline(mean - 3* std_dev, color='r', linestyle=':')\n",
    "plt.title('Residuals')\n",
    "plt.ylabel('Frequency')\n",
    "plt.show()"
   ]
  },
  {
   "cell_type": "code",
   "execution_count": 47,
   "metadata": {
    "scrolled": true
   },
   "outputs": [
    {
     "data": {
      "text/plain": [
       "array([130341.62409469,  85685.5089314 ])"
      ]
     },
     "execution_count": 47,
     "metadata": {},
     "output_type": "execute_result"
    }
   ],
   "source": [
    "residuals[residuals > mean + 3* std_dev]"
   ]
  },
  {
   "cell_type": "code",
   "execution_count": 48,
   "metadata": {},
   "outputs": [
    {
     "data": {
      "text/plain": [
       "array([-172773.21224808, -169388.21426657,  -88220.09686655,\n",
       "       -220959.84975065])"
      ]
     },
     "execution_count": 48,
     "metadata": {},
     "output_type": "execute_result"
    }
   ],
   "source": [
    "residuals[residuals < mean - 3* std_dev]"
   ]
  },
  {
   "cell_type": "code",
   "execution_count": null,
   "metadata": {},
   "outputs": [],
   "source": []
  },
  {
   "cell_type": "code",
   "execution_count": 49,
   "metadata": {},
   "outputs": [],
   "source": [
    "# A set of all indicies of high outlier points\n",
    "high_residuals = np.where(abs(residuals) > mean + 3* std_dev)\n",
    "high_residuals_train = np.where(abs(residuals_train) > mean_train + 3*std_dev_train)"
   ]
  },
  {
   "cell_type": "code",
   "execution_count": 50,
   "metadata": {},
   "outputs": [],
   "source": [
    "# Question for removing outliers. Should I be finding and removing outliers from the train set or the test set? Both? \n",
    "\n",
    "\n",
    "# Dropping Outliers\n",
    "X_test_no_outliers = np.delete(X_test, high_residuals[0], axis=0)\n",
    "y_test_no_outliers = np.delete(y_test, high_residuals[0], axis=0)\n",
    "X_train_no_outliers = np.delete(X_train, high_residuals_train[0], axis=0)\n",
    "y_train_no_outliers = np.delete(y_train, high_residuals_train[0], axis=0)"
   ]
  },
  {
   "cell_type": "code",
   "execution_count": 51,
   "metadata": {},
   "outputs": [
    {
     "data": {
      "text/plain": [
       "(357, 273)"
      ]
     },
     "execution_count": 51,
     "metadata": {},
     "output_type": "execute_result"
    }
   ],
   "source": [
    "X_test_no_outliers.shape"
   ]
  },
  {
   "cell_type": "code",
   "execution_count": 52,
   "metadata": {},
   "outputs": [
    {
     "data": {
      "text/plain": [
       "(357, 1)"
      ]
     },
     "execution_count": 52,
     "metadata": {},
     "output_type": "execute_result"
    }
   ],
   "source": [
    "y_test_no_outliers.shape"
   ]
  },
  {
   "cell_type": "code",
   "execution_count": 53,
   "metadata": {},
   "outputs": [
    {
     "data": {
      "text/plain": [
       "array([  3,  32,  65, 118, 244, 330])"
      ]
     },
     "execution_count": 53,
     "metadata": {},
     "output_type": "execute_result"
    }
   ],
   "source": [
    "high_residuals[0]"
   ]
  },
  {
   "cell_type": "code",
   "execution_count": 54,
   "metadata": {},
   "outputs": [
    {
     "data": {
      "text/plain": [
       "array([ 42,  77, 131, 173, 216, 221, 235, 525, 558, 614, 621, 669, 772,\n",
       "       825, 864, 886, 913, 959])"
      ]
     },
     "execution_count": 54,
     "metadata": {},
     "output_type": "execute_result"
    }
   ],
   "source": [
    "high_residuals_train[0]"
   ]
  },
  {
   "cell_type": "code",
   "execution_count": 55,
   "metadata": {},
   "outputs": [
    {
     "data": {
      "text/plain": [
       "(363, 273)"
      ]
     },
     "execution_count": 55,
     "metadata": {},
     "output_type": "execute_result"
    }
   ],
   "source": [
    "X_test.shape"
   ]
  },
  {
   "cell_type": "code",
   "execution_count": 56,
   "metadata": {},
   "outputs": [
    {
     "data": {
      "text/plain": [
       "(1089, 273)"
      ]
     },
     "execution_count": 56,
     "metadata": {},
     "output_type": "execute_result"
    }
   ],
   "source": [
    "X_train.shape"
   ]
  },
  {
   "cell_type": "code",
   "execution_count": 57,
   "metadata": {},
   "outputs": [
    {
     "data": {
      "text/plain": [
       "(1071, 273)"
      ]
     },
     "execution_count": 57,
     "metadata": {},
     "output_type": "execute_result"
    }
   ],
   "source": [
    "X_train_no_outliers.shape"
   ]
  },
  {
   "cell_type": "code",
   "execution_count": null,
   "metadata": {},
   "outputs": [],
   "source": []
  },
  {
   "cell_type": "code",
   "execution_count": 58,
   "metadata": {},
   "outputs": [
    {
     "data": {
      "text/plain": [
       "(1071, 273)"
      ]
     },
     "execution_count": 58,
     "metadata": {},
     "output_type": "execute_result"
    }
   ],
   "source": [
    "X_train_no_outliers.shape"
   ]
  },
  {
   "cell_type": "code",
   "execution_count": 59,
   "metadata": {},
   "outputs": [
    {
     "data": {
      "text/plain": [
       "(1071, 1)"
      ]
     },
     "execution_count": 59,
     "metadata": {},
     "output_type": "execute_result"
    }
   ],
   "source": [
    "y_train_no_outliers.shape"
   ]
  },
  {
   "cell_type": "code",
   "execution_count": 60,
   "metadata": {},
   "outputs": [],
   "source": [
    "# Applying Ridge Regression with outliers removed\n",
    "\n",
    "# Creating Ridge object, fitting, and predicting. Normalize = true ensures all variables are on the same scale\n",
    "ridge = Ridge(alpha=1, normalize = True)\n",
    "ridge.fit(X_train_no_outliers, y_train_no_outliers)\n",
    "ridge_pred_no_test = ridge.predict(X_test_no_outliers)\n",
    "ridge_pred_no_train = ridge.predict(X_train_no_outliers)\n"
   ]
  },
  {
   "cell_type": "code",
   "execution_count": 61,
   "metadata": {},
   "outputs": [
    {
     "name": "stdout",
     "output_type": "stream",
     "text": [
      "R^2: 0.9116515473843811\n",
      "Root Mean Squared Error: 20699.63700012817\n",
      "Mean Absolute Percent Error: 8.808674624341462\n"
     ]
    }
   ],
   "source": [
    "# Metrics for train set\n",
    "print(\"R^2: {}\".format(ridge.score(X_train_no_outliers, y_train_no_outliers)))\n",
    "rmse = np.sqrt(mean_squared_error(y_train_no_outliers, ridge_pred_no_train))\n",
    "print(\"Root Mean Squared Error: {}\".format(rmse))\n",
    "error = (y_train_no_outliers-ridge_pred_no_train)/y_train_no_outliers * 100\n",
    "mape = abs(error).mean()\n",
    "print('Mean Absolute Percent Error: {}'.format(mape))"
   ]
  },
  {
   "cell_type": "code",
   "execution_count": 62,
   "metadata": {},
   "outputs": [],
   "source": [
    "# Adding metrics to the metrics dataframe\n",
    "d = {'R_Squared': [ridge.score(X_train_no_outliers, y_train_no_outliers)], 'RMSE': [rmse], 'MAPE': [mape]}\n",
    "temp = pd.DataFrame(data=d, index=['Ridge_Train_No_Outliers'])\n",
    "temp.index.name = 'Model'\n",
    "metrics = metrics.append(temp)"
   ]
  },
  {
   "cell_type": "code",
   "execution_count": 63,
   "metadata": {},
   "outputs": [
    {
     "name": "stdout",
     "output_type": "stream",
     "text": [
      "R^2: 0.908992663483726\n",
      "Root Mean Squared Error: 20950.017426678245\n",
      "Mean Absolute Percent Error: 9.298186420892508\n"
     ]
    }
   ],
   "source": [
    "# Performance Metrics for test set\n",
    "print(\"R^2: {}\".format(ridge.score(X_test_no_outliers, y_test_no_outliers)))\n",
    "rmse = np.sqrt(mean_squared_error(y_test_no_outliers, ridge_pred_no_test))\n",
    "print(\"Root Mean Squared Error: {}\".format(rmse))\n",
    "error = (y_test_no_outliers-ridge_pred_no_test)/y_test_no_outliers * 100\n",
    "mape = abs(error).mean()\n",
    "print('Mean Absolute Percent Error: {}'.format(mape))"
   ]
  },
  {
   "cell_type": "code",
   "execution_count": 64,
   "metadata": {},
   "outputs": [],
   "source": [
    "# Adding metrics to the metrics dataframe\n",
    "d = {'R_Squared': [ridge.score(X_test_no_outliers, y_test_no_outliers)], 'RMSE': [rmse], 'MAPE': [mape]}\n",
    "temp = pd.DataFrame(data=d, index=['Ridge_Test_No_Outliers'])\n",
    "temp.index.name = 'Model'\n",
    "metrics = metrics.append(temp)"
   ]
  },
  {
   "cell_type": "code",
   "execution_count": 65,
   "metadata": {},
   "outputs": [
    {
     "data": {
      "text/html": [
       "<div>\n",
       "<style scoped>\n",
       "    .dataframe tbody tr th:only-of-type {\n",
       "        vertical-align: middle;\n",
       "    }\n",
       "\n",
       "    .dataframe tbody tr th {\n",
       "        vertical-align: top;\n",
       "    }\n",
       "\n",
       "    .dataframe thead th {\n",
       "        text-align: right;\n",
       "    }\n",
       "</style>\n",
       "<table border=\"1\" class=\"dataframe\">\n",
       "  <thead>\n",
       "    <tr style=\"text-align: right;\">\n",
       "      <th></th>\n",
       "      <th>R_Squared</th>\n",
       "      <th>RMSE</th>\n",
       "      <th>MAPE</th>\n",
       "    </tr>\n",
       "    <tr>\n",
       "      <th>Model</th>\n",
       "      <th></th>\n",
       "      <th></th>\n",
       "      <th></th>\n",
       "    </tr>\n",
       "  </thead>\n",
       "  <tbody>\n",
       "    <tr>\n",
       "      <td>Linear_Train</td>\n",
       "      <td>0.930668</td>\n",
       "      <td>20867.619109</td>\n",
       "      <td>8.179160</td>\n",
       "    </tr>\n",
       "    <tr>\n",
       "      <td>Linear_Test</td>\n",
       "      <td>0.877025</td>\n",
       "      <td>27774.277801</td>\n",
       "      <td>11.107240</td>\n",
       "    </tr>\n",
       "    <tr>\n",
       "      <td>Ridge_Train</td>\n",
       "      <td>0.924783</td>\n",
       "      <td>21735.300299</td>\n",
       "      <td>8.211178</td>\n",
       "    </tr>\n",
       "    <tr>\n",
       "      <td>Ridge_Test</td>\n",
       "      <td>0.894620</td>\n",
       "      <td>25710.742519</td>\n",
       "      <td>9.869781</td>\n",
       "    </tr>\n",
       "    <tr>\n",
       "      <td>Lasso_Train</td>\n",
       "      <td>0.930663</td>\n",
       "      <td>20868.514771</td>\n",
       "      <td>49.564078</td>\n",
       "    </tr>\n",
       "    <tr>\n",
       "      <td>Lasso_Test</td>\n",
       "      <td>0.887081</td>\n",
       "      <td>26614.446974</td>\n",
       "      <td>50.809840</td>\n",
       "    </tr>\n",
       "    <tr>\n",
       "      <td>Ridge_Train_a=1</td>\n",
       "      <td>0.880396</td>\n",
       "      <td>27408.150631</td>\n",
       "      <td>9.480727</td>\n",
       "    </tr>\n",
       "    <tr>\n",
       "      <td>Ridge_Test_a=1</td>\n",
       "      <td>0.872925</td>\n",
       "      <td>28233.522448</td>\n",
       "      <td>9.947499</td>\n",
       "    </tr>\n",
       "    <tr>\n",
       "      <td>Ridge_Train_No_Outliers</td>\n",
       "      <td>0.911652</td>\n",
       "      <td>20699.637000</td>\n",
       "      <td>8.808675</td>\n",
       "    </tr>\n",
       "    <tr>\n",
       "      <td>Ridge_Test_No_Outliers</td>\n",
       "      <td>0.908993</td>\n",
       "      <td>20950.017427</td>\n",
       "      <td>9.298186</td>\n",
       "    </tr>\n",
       "  </tbody>\n",
       "</table>\n",
       "</div>"
      ],
      "text/plain": [
       "                         R_Squared          RMSE       MAPE\n",
       "Model                                                      \n",
       "Linear_Train              0.930668  20867.619109   8.179160\n",
       "Linear_Test               0.877025  27774.277801  11.107240\n",
       "Ridge_Train               0.924783  21735.300299   8.211178\n",
       "Ridge_Test                0.894620  25710.742519   9.869781\n",
       "Lasso_Train               0.930663  20868.514771  49.564078\n",
       "Lasso_Test                0.887081  26614.446974  50.809840\n",
       "Ridge_Train_a=1           0.880396  27408.150631   9.480727\n",
       "Ridge_Test_a=1            0.872925  28233.522448   9.947499\n",
       "Ridge_Train_No_Outliers   0.911652  20699.637000   8.808675\n",
       "Ridge_Test_No_Outliers    0.908993  20950.017427   9.298186"
      ]
     },
     "execution_count": 65,
     "metadata": {},
     "output_type": "execute_result"
    }
   ],
   "source": [
    "metrics"
   ]
  },
  {
   "cell_type": "code",
   "execution_count": null,
   "metadata": {},
   "outputs": [],
   "source": []
  },
  {
   "cell_type": "code",
   "execution_count": null,
   "metadata": {},
   "outputs": [],
   "source": []
  },
  {
   "cell_type": "code",
   "execution_count": 66,
   "metadata": {},
   "outputs": [
    {
     "data": {
      "image/png": "[encoded data removed]",
      "text/plain": [
       "<Figure size 432x288 with 1 Axes>"
      ]
     },
     "metadata": {
      "needs_background": "light"
     },
     "output_type": "display_data"
    }
   ],
   "source": [
    "# Rerunning graphics with No_outliers model\n",
    "\n",
    "# Predicted vs actual scatterplot\n",
    "plt.scatter(ridge_pred_no_test, y_test_no_outliers, alpha=0.5, s=4)\n",
    "plt.title('Predicted vs. Actual Sale price')\n",
    "plt.xlabel('Predicted Sale Price')\n",
    "plt.ylabel('Actual Sale Price')\n",
    "plt.plot(list(range(y_test_no_outliers.max())),list(range(y_test_no_outliers.max())), c='r')\n",
    "plt.show()"
   ]
  },
  {
   "cell_type": "code",
   "execution_count": null,
   "metadata": {},
   "outputs": [],
   "source": []
  },
  {
   "cell_type": "code",
   "execution_count": 67,
   "metadata": {},
   "outputs": [
    {
     "data": {
      "image/png": "[encoded data removed]",
      "text/plain": [
       "<Figure size 432x288 with 1 Axes>"
      ]
     },
     "metadata": {
      "needs_background": "light"
     },
     "output_type": "display_data"
    }
   ],
   "source": [
    "# Predicted vs residuals\n",
    "residuals = ridge_pred_no_test-y_test_no_outliers\n",
    "residuals_train = ridge_pred_no_train-y_train_no_outliers\n",
    "plt.scatter(ridge_pred_no_test, residuals, alpha = 0.5, s=4)\n",
    "plt.plot(list(range(y_test_no_outliers.max())),[0]*y_test_no_outliers.max(), c='r')\n",
    "plt.show()"
   ]
  },
  {
   "cell_type": "code",
   "execution_count": null,
   "metadata": {},
   "outputs": [],
   "source": [
    "\n"
   ]
  },
  {
   "cell_type": "code",
   "execution_count": 68,
   "metadata": {
    "scrolled": false
   },
   "outputs": [
    {
     "data": {
      "image/png": "[encoded data removed]",
      "text/plain": [
       "<Figure size 432x288 with 1 Axes>"
      ]
     },
     "metadata": {
      "needs_background": "light"
     },
     "output_type": "display_data"
    }
   ],
   "source": [
    "\n",
    "# Histogram of Residuals\n",
    "\n",
    "mean_train = np.mean(residuals_train)\n",
    "std_dev_train = np.std(residuals_train)\n",
    "\n",
    "plt.hist(residuals, bins=20)\n",
    "plt.axvline(mean, color='r')\n",
    "plt.axvline(mean + std_dev_train, color='r', linestyle='--')\n",
    "plt.axvline(mean + 2* std_dev_train, color='r', linestyle='-.')\n",
    "plt.axvline(mean + 3* std_dev_train, color='r', linestyle=':')\n",
    "plt.axvline(mean - std_dev_train, color='r', linestyle='--')\n",
    "plt.axvline(mean - 2* std_dev_train, color='r', linestyle='-.')\n",
    "plt.axvline(mean - 3* std_dev_train, color='r', linestyle=':')\n",
    "plt.title('Residuals')\n",
    "plt.ylabel('Frequency')\n",
    "plt.show()"
   ]
  },
  {
   "cell_type": "code",
   "execution_count": null,
   "metadata": {},
   "outputs": [],
   "source": []
  },
  {
   "cell_type": "code",
   "execution_count": null,
   "metadata": {},
   "outputs": [],
   "source": []
  },
  {
   "cell_type": "code",
   "execution_count": null,
   "metadata": {},
   "outputs": [],
   "source": []
  },
  {
   "cell_type": "code",
   "execution_count": null,
   "metadata": {},
   "outputs": [],
   "source": []
  },
  {
   "cell_type": "code",
   "execution_count": null,
   "metadata": {},
   "outputs": [],
   "source": []
  },
  {
   "cell_type": "code",
   "execution_count": null,
   "metadata": {},
   "outputs": [],
   "source": []
  }
 ],
 "metadata": {
  "kernelspec": {
   "display_name": "Python 3",
   "language": "python",
   "name": "python3"
  },
  "language_info": {
   "codemirror_mode": {
    "name": "ipython",
    "version": 3
   },
   "file_extension": ".py",
   "mimetype": "text/x-python",
   "name": "python",
   "nbconvert_exporter": "python",
   "pygments_lexer": "ipython3",
   "version": "3.7.4"
  }
 },
 "nbformat": 4,
 "nbformat_minor": 2
}
