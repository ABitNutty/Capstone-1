{
 "cells": [
  {
   "cell_type": "markdown",
   "metadata": {},
   "source": [
    "# Random Forest Model "
   ]
  },
  {
   "cell_type": "code",
   "execution_count": 1,
   "metadata": {},
   "outputs": [],
   "source": [
    "import pandas as pd\n",
    "import numpy as np\n",
    "import seaborn as sns\n",
    "import matplotlib.pyplot as plt\n",
    "from scipy import stats\n",
    "from sklearn.model_selection import train_test_split\n",
    "from sklearn.metrics import mean_squared_error\n",
    "from sklearn.model_selection import GridSearchCV\n",
    "from sklearn.ensemble import RandomForestRegressor\n",
    "from sklearn.datasets import make_regression\n",
    "import pickle\n",
    "from sklearn.model_selection import ParameterGrid\n",
    "from collections import OrderedDict\n",
    "from sklearn.datasets import make_classification\n",
    "from sklearn.ensemble import RandomForestClassifier"
   ]
  },
  {
   "cell_type": "code",
   "execution_count": 2,
   "metadata": {},
   "outputs": [],
   "source": [
    "# Imports raw data\n",
    "housing_import = pd.read_csv('HousingDummies.csv', index_col='Id')\n",
    "\n",
    "# Imports metrics from Linear Regression models for comparison\n",
    "metrics = pickle.load( open( \"metrics.p\", \"rb\" ) )\n",
    "\n",
    "# Loading outliers from last model\n",
    "outliers = pickle.load( open( \"outliers.p\", \"rb\" ) )"
   ]
  },
  {
   "cell_type": "code",
   "execution_count": 3,
   "metadata": {},
   "outputs": [
    {
     "data": {
      "text/html": [
       "<div>\n",
       "<style scoped>\n",
       "    .dataframe tbody tr th:only-of-type {\n",
       "        vertical-align: middle;\n",
       "    }\n",
       "\n",
       "    .dataframe tbody tr th {\n",
       "        vertical-align: top;\n",
       "    }\n",
       "\n",
       "    .dataframe thead th {\n",
       "        text-align: right;\n",
       "    }\n",
       "</style>\n",
       "<table border=\"1\" class=\"dataframe\">\n",
       "  <thead>\n",
       "    <tr style=\"text-align: right;\">\n",
       "      <th></th>\n",
       "      <th>MSSubClass</th>\n",
       "      <th>LotFrontage</th>\n",
       "      <th>LotArea</th>\n",
       "      <th>OverallQual</th>\n",
       "      <th>OverallCond</th>\n",
       "      <th>YearBuilt</th>\n",
       "      <th>YearRemodAdd</th>\n",
       "      <th>MasVnrArea</th>\n",
       "      <th>1stFlrSF</th>\n",
       "      <th>LowQualFinSF</th>\n",
       "      <th>...</th>\n",
       "      <th>SaleType_ConLw</th>\n",
       "      <th>SaleType_New</th>\n",
       "      <th>SaleType_Oth</th>\n",
       "      <th>SaleType_WD</th>\n",
       "      <th>SaleCondition_Abnorml</th>\n",
       "      <th>SaleCondition_AdjLand</th>\n",
       "      <th>SaleCondition_Alloca</th>\n",
       "      <th>SaleCondition_Family</th>\n",
       "      <th>SaleCondition_Normal</th>\n",
       "      <th>SaleCondition_Partial</th>\n",
       "    </tr>\n",
       "    <tr>\n",
       "      <th>Id</th>\n",
       "      <th></th>\n",
       "      <th></th>\n",
       "      <th></th>\n",
       "      <th></th>\n",
       "      <th></th>\n",
       "      <th></th>\n",
       "      <th></th>\n",
       "      <th></th>\n",
       "      <th></th>\n",
       "      <th></th>\n",
       "      <th></th>\n",
       "      <th></th>\n",
       "      <th></th>\n",
       "      <th></th>\n",
       "      <th></th>\n",
       "      <th></th>\n",
       "      <th></th>\n",
       "      <th></th>\n",
       "      <th></th>\n",
       "      <th></th>\n",
       "      <th></th>\n",
       "    </tr>\n",
       "  </thead>\n",
       "  <tbody>\n",
       "    <tr>\n",
       "      <td>1</td>\n",
       "      <td>60</td>\n",
       "      <td>65.0</td>\n",
       "      <td>8450</td>\n",
       "      <td>7</td>\n",
       "      <td>5</td>\n",
       "      <td>2003</td>\n",
       "      <td>2003</td>\n",
       "      <td>196.0</td>\n",
       "      <td>856</td>\n",
       "      <td>0</td>\n",
       "      <td>...</td>\n",
       "      <td>0</td>\n",
       "      <td>0</td>\n",
       "      <td>0</td>\n",
       "      <td>1</td>\n",
       "      <td>0</td>\n",
       "      <td>0</td>\n",
       "      <td>0</td>\n",
       "      <td>0</td>\n",
       "      <td>1</td>\n",
       "      <td>0</td>\n",
       "    </tr>\n",
       "    <tr>\n",
       "      <td>2</td>\n",
       "      <td>20</td>\n",
       "      <td>80.0</td>\n",
       "      <td>9600</td>\n",
       "      <td>6</td>\n",
       "      <td>8</td>\n",
       "      <td>1976</td>\n",
       "      <td>1976</td>\n",
       "      <td>0.0</td>\n",
       "      <td>1262</td>\n",
       "      <td>0</td>\n",
       "      <td>...</td>\n",
       "      <td>0</td>\n",
       "      <td>0</td>\n",
       "      <td>0</td>\n",
       "      <td>1</td>\n",
       "      <td>0</td>\n",
       "      <td>0</td>\n",
       "      <td>0</td>\n",
       "      <td>0</td>\n",
       "      <td>1</td>\n",
       "      <td>0</td>\n",
       "    </tr>\n",
       "    <tr>\n",
       "      <td>3</td>\n",
       "      <td>60</td>\n",
       "      <td>68.0</td>\n",
       "      <td>11250</td>\n",
       "      <td>7</td>\n",
       "      <td>5</td>\n",
       "      <td>2001</td>\n",
       "      <td>2002</td>\n",
       "      <td>162.0</td>\n",
       "      <td>920</td>\n",
       "      <td>0</td>\n",
       "      <td>...</td>\n",
       "      <td>0</td>\n",
       "      <td>0</td>\n",
       "      <td>0</td>\n",
       "      <td>1</td>\n",
       "      <td>0</td>\n",
       "      <td>0</td>\n",
       "      <td>0</td>\n",
       "      <td>0</td>\n",
       "      <td>1</td>\n",
       "      <td>0</td>\n",
       "    </tr>\n",
       "    <tr>\n",
       "      <td>4</td>\n",
       "      <td>70</td>\n",
       "      <td>60.0</td>\n",
       "      <td>9550</td>\n",
       "      <td>7</td>\n",
       "      <td>5</td>\n",
       "      <td>1915</td>\n",
       "      <td>1970</td>\n",
       "      <td>0.0</td>\n",
       "      <td>961</td>\n",
       "      <td>0</td>\n",
       "      <td>...</td>\n",
       "      <td>0</td>\n",
       "      <td>0</td>\n",
       "      <td>0</td>\n",
       "      <td>1</td>\n",
       "      <td>1</td>\n",
       "      <td>0</td>\n",
       "      <td>0</td>\n",
       "      <td>0</td>\n",
       "      <td>0</td>\n",
       "      <td>0</td>\n",
       "    </tr>\n",
       "    <tr>\n",
       "      <td>5</td>\n",
       "      <td>60</td>\n",
       "      <td>84.0</td>\n",
       "      <td>14260</td>\n",
       "      <td>8</td>\n",
       "      <td>5</td>\n",
       "      <td>2000</td>\n",
       "      <td>2000</td>\n",
       "      <td>350.0</td>\n",
       "      <td>1145</td>\n",
       "      <td>0</td>\n",
       "      <td>...</td>\n",
       "      <td>0</td>\n",
       "      <td>0</td>\n",
       "      <td>0</td>\n",
       "      <td>1</td>\n",
       "      <td>0</td>\n",
       "      <td>0</td>\n",
       "      <td>0</td>\n",
       "      <td>0</td>\n",
       "      <td>1</td>\n",
       "      <td>0</td>\n",
       "    </tr>\n",
       "    <tr>\n",
       "      <td>...</td>\n",
       "      <td>...</td>\n",
       "      <td>...</td>\n",
       "      <td>...</td>\n",
       "      <td>...</td>\n",
       "      <td>...</td>\n",
       "      <td>...</td>\n",
       "      <td>...</td>\n",
       "      <td>...</td>\n",
       "      <td>...</td>\n",
       "      <td>...</td>\n",
       "      <td>...</td>\n",
       "      <td>...</td>\n",
       "      <td>...</td>\n",
       "      <td>...</td>\n",
       "      <td>...</td>\n",
       "      <td>...</td>\n",
       "      <td>...</td>\n",
       "      <td>...</td>\n",
       "      <td>...</td>\n",
       "      <td>...</td>\n",
       "      <td>...</td>\n",
       "    </tr>\n",
       "    <tr>\n",
       "      <td>1456</td>\n",
       "      <td>60</td>\n",
       "      <td>62.0</td>\n",
       "      <td>7917</td>\n",
       "      <td>6</td>\n",
       "      <td>5</td>\n",
       "      <td>1999</td>\n",
       "      <td>2000</td>\n",
       "      <td>0.0</td>\n",
       "      <td>953</td>\n",
       "      <td>0</td>\n",
       "      <td>...</td>\n",
       "      <td>0</td>\n",
       "      <td>0</td>\n",
       "      <td>0</td>\n",
       "      <td>1</td>\n",
       "      <td>0</td>\n",
       "      <td>0</td>\n",
       "      <td>0</td>\n",
       "      <td>0</td>\n",
       "      <td>1</td>\n",
       "      <td>0</td>\n",
       "    </tr>\n",
       "    <tr>\n",
       "      <td>1457</td>\n",
       "      <td>20</td>\n",
       "      <td>85.0</td>\n",
       "      <td>13175</td>\n",
       "      <td>6</td>\n",
       "      <td>6</td>\n",
       "      <td>1978</td>\n",
       "      <td>1988</td>\n",
       "      <td>119.0</td>\n",
       "      <td>2073</td>\n",
       "      <td>0</td>\n",
       "      <td>...</td>\n",
       "      <td>0</td>\n",
       "      <td>0</td>\n",
       "      <td>0</td>\n",
       "      <td>1</td>\n",
       "      <td>0</td>\n",
       "      <td>0</td>\n",
       "      <td>0</td>\n",
       "      <td>0</td>\n",
       "      <td>1</td>\n",
       "      <td>0</td>\n",
       "    </tr>\n",
       "    <tr>\n",
       "      <td>1458</td>\n",
       "      <td>70</td>\n",
       "      <td>66.0</td>\n",
       "      <td>9042</td>\n",
       "      <td>7</td>\n",
       "      <td>9</td>\n",
       "      <td>1941</td>\n",
       "      <td>2006</td>\n",
       "      <td>0.0</td>\n",
       "      <td>1188</td>\n",
       "      <td>0</td>\n",
       "      <td>...</td>\n",
       "      <td>0</td>\n",
       "      <td>0</td>\n",
       "      <td>0</td>\n",
       "      <td>1</td>\n",
       "      <td>0</td>\n",
       "      <td>0</td>\n",
       "      <td>0</td>\n",
       "      <td>0</td>\n",
       "      <td>1</td>\n",
       "      <td>0</td>\n",
       "    </tr>\n",
       "    <tr>\n",
       "      <td>1459</td>\n",
       "      <td>20</td>\n",
       "      <td>68.0</td>\n",
       "      <td>9717</td>\n",
       "      <td>5</td>\n",
       "      <td>6</td>\n",
       "      <td>1950</td>\n",
       "      <td>1996</td>\n",
       "      <td>0.0</td>\n",
       "      <td>1078</td>\n",
       "      <td>0</td>\n",
       "      <td>...</td>\n",
       "      <td>0</td>\n",
       "      <td>0</td>\n",
       "      <td>0</td>\n",
       "      <td>1</td>\n",
       "      <td>0</td>\n",
       "      <td>0</td>\n",
       "      <td>0</td>\n",
       "      <td>0</td>\n",
       "      <td>1</td>\n",
       "      <td>0</td>\n",
       "    </tr>\n",
       "    <tr>\n",
       "      <td>1460</td>\n",
       "      <td>20</td>\n",
       "      <td>75.0</td>\n",
       "      <td>9937</td>\n",
       "      <td>5</td>\n",
       "      <td>6</td>\n",
       "      <td>1965</td>\n",
       "      <td>1965</td>\n",
       "      <td>0.0</td>\n",
       "      <td>1256</td>\n",
       "      <td>0</td>\n",
       "      <td>...</td>\n",
       "      <td>0</td>\n",
       "      <td>0</td>\n",
       "      <td>0</td>\n",
       "      <td>1</td>\n",
       "      <td>0</td>\n",
       "      <td>0</td>\n",
       "      <td>0</td>\n",
       "      <td>0</td>\n",
       "      <td>1</td>\n",
       "      <td>0</td>\n",
       "    </tr>\n",
       "  </tbody>\n",
       "</table>\n",
       "<p>1452 rows × 274 columns</p>\n",
       "</div>"
      ],
      "text/plain": [
       "      MSSubClass  LotFrontage  LotArea  OverallQual  OverallCond  YearBuilt  \\\n",
       "Id                                                                            \n",
       "1             60         65.0     8450            7            5       2003   \n",
       "2             20         80.0     9600            6            8       1976   \n",
       "3             60         68.0    11250            7            5       2001   \n",
       "4             70         60.0     9550            7            5       1915   \n",
       "5             60         84.0    14260            8            5       2000   \n",
       "...          ...          ...      ...          ...          ...        ...   \n",
       "1456          60         62.0     7917            6            5       1999   \n",
       "1457          20         85.0    13175            6            6       1978   \n",
       "1458          70         66.0     9042            7            9       1941   \n",
       "1459          20         68.0     9717            5            6       1950   \n",
       "1460          20         75.0     9937            5            6       1965   \n",
       "\n",
       "      YearRemodAdd  MasVnrArea  1stFlrSF  LowQualFinSF  ...  SaleType_ConLw  \\\n",
       "Id                                                      ...                   \n",
       "1             2003       196.0       856             0  ...               0   \n",
       "2             1976         0.0      1262             0  ...               0   \n",
       "3             2002       162.0       920             0  ...               0   \n",
       "4             1970         0.0       961             0  ...               0   \n",
       "5             2000       350.0      1145             0  ...               0   \n",
       "...            ...         ...       ...           ...  ...             ...   \n",
       "1456          2000         0.0       953             0  ...               0   \n",
       "1457          1988       119.0      2073             0  ...               0   \n",
       "1458          2006         0.0      1188             0  ...               0   \n",
       "1459          1996         0.0      1078             0  ...               0   \n",
       "1460          1965         0.0      1256             0  ...               0   \n",
       "\n",
       "      SaleType_New  SaleType_Oth  SaleType_WD  SaleCondition_Abnorml  \\\n",
       "Id                                                                     \n",
       "1                0             0            1                      0   \n",
       "2                0             0            1                      0   \n",
       "3                0             0            1                      0   \n",
       "4                0             0            1                      1   \n",
       "5                0             0            1                      0   \n",
       "...            ...           ...          ...                    ...   \n",
       "1456             0             0            1                      0   \n",
       "1457             0             0            1                      0   \n",
       "1458             0             0            1                      0   \n",
       "1459             0             0            1                      0   \n",
       "1460             0             0            1                      0   \n",
       "\n",
       "      SaleCondition_AdjLand  SaleCondition_Alloca  SaleCondition_Family  \\\n",
       "Id                                                                        \n",
       "1                         0                     0                     0   \n",
       "2                         0                     0                     0   \n",
       "3                         0                     0                     0   \n",
       "4                         0                     0                     0   \n",
       "5                         0                     0                     0   \n",
       "...                     ...                   ...                   ...   \n",
       "1456                      0                     0                     0   \n",
       "1457                      0                     0                     0   \n",
       "1458                      0                     0                     0   \n",
       "1459                      0                     0                     0   \n",
       "1460                      0                     0                     0   \n",
       "\n",
       "      SaleCondition_Normal  SaleCondition_Partial  \n",
       "Id                                                 \n",
       "1                        1                      0  \n",
       "2                        1                      0  \n",
       "3                        1                      0  \n",
       "4                        0                      0  \n",
       "5                        1                      0  \n",
       "...                    ...                    ...  \n",
       "1456                     1                      0  \n",
       "1457                     1                      0  \n",
       "1458                     1                      0  \n",
       "1459                     1                      0  \n",
       "1460                     1                      0  \n",
       "\n",
       "[1452 rows x 274 columns]"
      ]
     },
     "execution_count": 3,
     "metadata": {},
     "output_type": "execute_result"
    }
   ],
   "source": [
    "housing_import"
   ]
  },
  {
   "cell_type": "code",
   "execution_count": 4,
   "metadata": {},
   "outputs": [],
   "source": [
    "# Creating Target and Feature Arrays\n",
    "# .values returns numpy array instead of dataframe\n",
    "X = housing_import.drop('SalePrice', axis=1).values\n",
    "y = housing_import.SalePrice.values"
   ]
  },
  {
   "cell_type": "code",
   "execution_count": 5,
   "metadata": {},
   "outputs": [],
   "source": [
    "# Shaping for regressors\n",
    "#y = y.reshape(-1, 1)"
   ]
  },
  {
   "cell_type": "code",
   "execution_count": 6,
   "metadata": {},
   "outputs": [
    {
     "data": {
      "text/plain": [
       "(1452, 273)"
      ]
     },
     "execution_count": 6,
     "metadata": {},
     "output_type": "execute_result"
    }
   ],
   "source": [
    "X.shape"
   ]
  },
  {
   "cell_type": "code",
   "execution_count": 7,
   "metadata": {},
   "outputs": [
    {
     "data": {
      "text/plain": [
       "(1452,)"
      ]
     },
     "execution_count": 7,
     "metadata": {},
     "output_type": "execute_result"
    }
   ],
   "source": [
    "y.shape"
   ]
  },
  {
   "cell_type": "code",
   "execution_count": 8,
   "metadata": {},
   "outputs": [],
   "source": [
    "# Train test split\n",
    "X_train, X_test, y_train, y_test = train_test_split(X, y, test_size = 0.25, random_state=42)"
   ]
  },
  {
   "cell_type": "code",
   "execution_count": 9,
   "metadata": {},
   "outputs": [],
   "source": [
    "# Create Random Forest Regressor\n",
    "forest = RandomForestRegressor(n_estimators=200)"
   ]
  },
  {
   "cell_type": "code",
   "execution_count": 10,
   "metadata": {},
   "outputs": [
    {
     "data": {
      "text/plain": [
       "RandomForestRegressor(bootstrap=True, criterion='mse', max_depth=None,\n",
       "                      max_features='auto', max_leaf_nodes=None,\n",
       "                      min_impurity_decrease=0.0, min_impurity_split=None,\n",
       "                      min_samples_leaf=1, min_samples_split=2,\n",
       "                      min_weight_fraction_leaf=0.0, n_estimators=200,\n",
       "                      n_jobs=None, oob_score=False, random_state=None,\n",
       "                      verbose=0, warm_start=False)"
      ]
     },
     "execution_count": 10,
     "metadata": {},
     "output_type": "execute_result"
    }
   ],
   "source": [
    "# Fit model to training data\n",
    "forest.fit(X_train, y_train)"
   ]
  },
  {
   "cell_type": "code",
   "execution_count": 11,
   "metadata": {},
   "outputs": [
    {
     "name": "stdout",
     "output_type": "stream",
     "text": [
      "0.9742536228080723\n",
      "0.8907378589162028\n"
     ]
    }
   ],
   "source": [
    "print(forest.score(X_train, y_train))\n",
    "print(forest.score(X_test, y_test))"
   ]
  },
  {
   "cell_type": "code",
   "execution_count": 12,
   "metadata": {},
   "outputs": [],
   "source": [
    "# Model predictions\n",
    "forest_pred_train = forest.predict(X_train)\n",
    "forest_pred_test = forest.predict(X_test)"
   ]
  },
  {
   "cell_type": "code",
   "execution_count": 13,
   "metadata": {},
   "outputs": [
    {
     "name": "stdout",
     "output_type": "stream",
     "text": [
      "R^2: 0.9742536228080723\n",
      "Root Mean Squared Error: 12716.442403002793\n",
      "Mean Absolute Percent Error: 4.017820456492492\n"
     ]
    }
   ],
   "source": [
    "# Metrics for train set - Forest iteration #1\n",
    "print(\"R^2: {}\".format(forest.score(X_train, y_train)))\n",
    "rmse = np.sqrt(mean_squared_error(y_train, forest_pred_train))\n",
    "print(\"Root Mean Squared Error: {}\".format(rmse))\n",
    "error = (y_train-forest_pred_train)/y_train * 100\n",
    "mape = abs(error).mean()\n",
    "print('Mean Absolute Percent Error: {}'.format(mape))"
   ]
  },
  {
   "cell_type": "code",
   "execution_count": 14,
   "metadata": {},
   "outputs": [],
   "source": [
    "# Adding metrics to the metrics dataframe\n",
    "d = {'R_Squared': [forest.score(X_train, y_train)], 'RMSE': [rmse], 'MAPE (%)': [mape],\n",
    "    'Worst Underestimate':['N/A'], 'Worst Overestimate':['N/A']}\n",
    "temp = pd.DataFrame(data=d, index=['Forest_Train_Initial'])\n",
    "temp.index.name = 'Model'\n",
    "metrics = metrics.append(temp)"
   ]
  },
  {
   "cell_type": "code",
   "execution_count": 15,
   "metadata": {},
   "outputs": [
    {
     "name": "stdout",
     "output_type": "stream",
     "text": [
      "R^2: 0.8907378589162028\n",
      "Root Mean Squared Error: 26180.00276250046\n",
      "Mean Absolute Percent Error: 10.020664580061563\n"
     ]
    }
   ],
   "source": [
    "# Metrics for test set - Forest iteration #1\n",
    "print(\"R^2: {}\".format(forest.score(X_test, y_test)))\n",
    "rmse = np.sqrt(mean_squared_error(y_test, forest_pred_test))\n",
    "print(\"Root Mean Squared Error: {}\".format(rmse))\n",
    "error = (y_test-forest_pred_test)/y_test * 100\n",
    "mape = abs(error).mean()\n",
    "print('Mean Absolute Percent Error: {}'.format(mape))"
   ]
  },
  {
   "cell_type": "code",
   "execution_count": 16,
   "metadata": {},
   "outputs": [],
   "source": [
    "# Finding worst residuals for 95% \n",
    "residuals = y_test - forest_pred_test\n",
    "residuals_trimmed = residuals[abs(residuals) < np.mean(residuals)+2*np.std(residuals)]\n",
    "r_pos = max(residuals_trimmed)\n",
    "r_neg = abs(min(residuals_trimmed))"
   ]
  },
  {
   "cell_type": "markdown",
   "metadata": {},
   "source": [
    "Given a prediction \"p\" computed by the model, the worst case scenarios according to the tests I performed, are"
   ]
  },
  {
   "cell_type": "code",
   "execution_count": 17,
   "metadata": {},
   "outputs": [
    {
     "name": "stdout",
     "output_type": "stream",
     "text": [
      "p - 49974.98999999999\n",
      "p + 51054.82999999999\n"
     ]
    }
   ],
   "source": [
    "print('p - {}'.format(r_neg))\n",
    "print('p + {}'.format(r_pos))"
   ]
  },
  {
   "cell_type": "code",
   "execution_count": 18,
   "metadata": {},
   "outputs": [],
   "source": [
    "# Adding metrics to the metrics dataframe\n",
    "d = {'R_Squared': [forest.score(X_test, y_test)], 'RMSE': [rmse], 'MAPE (%)': [mape],\n",
    "    'Worst Underestimate':[r_pos], 'Worst Overestimate':[r_neg]}\n",
    "temp = pd.DataFrame(data=d, index=['Forest_Test_Initial'])\n",
    "temp.index.name = 'Model'\n",
    "metrics = metrics.append(temp)"
   ]
  },
  {
   "cell_type": "raw",
   "metadata": {},
   "source": []
  },
  {
   "cell_type": "code",
   "execution_count": 19,
   "metadata": {},
   "outputs": [
    {
     "data": {
      "text/html": [
       "<div>\n",
       "<style scoped>\n",
       "    .dataframe tbody tr th:only-of-type {\n",
       "        vertical-align: middle;\n",
       "    }\n",
       "\n",
       "    .dataframe tbody tr th {\n",
       "        vertical-align: top;\n",
       "    }\n",
       "\n",
       "    .dataframe thead th {\n",
       "        text-align: right;\n",
       "    }\n",
       "</style>\n",
       "<table border=\"1\" class=\"dataframe\">\n",
       "  <thead>\n",
       "    <tr style=\"text-align: right;\">\n",
       "      <th></th>\n",
       "      <th>R_Squared</th>\n",
       "      <th>RMSE</th>\n",
       "      <th>MAPE (%)</th>\n",
       "      <th>Worst Underestimate</th>\n",
       "      <th>Worst Overestimate</th>\n",
       "    </tr>\n",
       "    <tr>\n",
       "      <th>Model</th>\n",
       "      <th></th>\n",
       "      <th></th>\n",
       "      <th></th>\n",
       "      <th></th>\n",
       "      <th></th>\n",
       "    </tr>\n",
       "  </thead>\n",
       "  <tbody>\n",
       "    <tr>\n",
       "      <td>Linear_Train</td>\n",
       "      <td>0.930668</td>\n",
       "      <td>20867.619109</td>\n",
       "      <td>8.179160</td>\n",
       "      <td>N/A</td>\n",
       "      <td>N/A</td>\n",
       "    </tr>\n",
       "    <tr>\n",
       "      <td>Linear_Test</td>\n",
       "      <td>0.877025</td>\n",
       "      <td>27774.277801</td>\n",
       "      <td>11.107240</td>\n",
       "      <td>54799.1</td>\n",
       "      <td>55049.2</td>\n",
       "    </tr>\n",
       "    <tr>\n",
       "      <td>Ridge_Train</td>\n",
       "      <td>0.924783</td>\n",
       "      <td>21735.300299</td>\n",
       "      <td>8.211178</td>\n",
       "      <td>N/A</td>\n",
       "      <td>N/A</td>\n",
       "    </tr>\n",
       "    <tr>\n",
       "      <td>Ridge_Test</td>\n",
       "      <td>0.894620</td>\n",
       "      <td>25710.742519</td>\n",
       "      <td>9.869781</td>\n",
       "      <td>40291</td>\n",
       "      <td>47665.9</td>\n",
       "    </tr>\n",
       "    <tr>\n",
       "      <td>Lasso_Train</td>\n",
       "      <td>0.930663</td>\n",
       "      <td>20868.514771</td>\n",
       "      <td>49.564078</td>\n",
       "      <td>N/A</td>\n",
       "      <td>N/A</td>\n",
       "    </tr>\n",
       "    <tr>\n",
       "      <td>Lasso_Test</td>\n",
       "      <td>0.887081</td>\n",
       "      <td>26614.446974</td>\n",
       "      <td>50.809840</td>\n",
       "      <td>219702</td>\n",
       "      <td>219698</td>\n",
       "    </tr>\n",
       "    <tr>\n",
       "      <td>Ridge_Train_a=10</td>\n",
       "      <td>0.651788</td>\n",
       "      <td>46765.919130</td>\n",
       "      <td>17.718180</td>\n",
       "      <td>N/A</td>\n",
       "      <td>N/A</td>\n",
       "    </tr>\n",
       "    <tr>\n",
       "      <td>Ridge_Test_a=10</td>\n",
       "      <td>0.659501</td>\n",
       "      <td>46216.022922</td>\n",
       "      <td>18.516758</td>\n",
       "      <td>90024.5</td>\n",
       "      <td>75831.5</td>\n",
       "    </tr>\n",
       "    <tr>\n",
       "      <td>Ridge_Train_No_Outliers</td>\n",
       "      <td>0.693021</td>\n",
       "      <td>36137.707587</td>\n",
       "      <td>17.012196</td>\n",
       "      <td>N/A</td>\n",
       "      <td>N/A</td>\n",
       "    </tr>\n",
       "    <tr>\n",
       "      <td>Ridge_Test_No_Outliers</td>\n",
       "      <td>0.649496</td>\n",
       "      <td>40840.354214</td>\n",
       "      <td>16.339041</td>\n",
       "      <td>83885.2</td>\n",
       "      <td>72174.1</td>\n",
       "    </tr>\n",
       "    <tr>\n",
       "      <td>Forest_Train_Initial</td>\n",
       "      <td>0.974254</td>\n",
       "      <td>12716.442403</td>\n",
       "      <td>4.017820</td>\n",
       "      <td>N/A</td>\n",
       "      <td>N/A</td>\n",
       "    </tr>\n",
       "    <tr>\n",
       "      <td>Forest_Test_Initial</td>\n",
       "      <td>0.890738</td>\n",
       "      <td>26180.002763</td>\n",
       "      <td>10.020665</td>\n",
       "      <td>51054.8</td>\n",
       "      <td>49975</td>\n",
       "    </tr>\n",
       "  </tbody>\n",
       "</table>\n",
       "</div>"
      ],
      "text/plain": [
       "                         R_Squared          RMSE   MAPE (%)  \\\n",
       "Model                                                         \n",
       "Linear_Train              0.930668  20867.619109   8.179160   \n",
       "Linear_Test               0.877025  27774.277801  11.107240   \n",
       "Ridge_Train               0.924783  21735.300299   8.211178   \n",
       "Ridge_Test                0.894620  25710.742519   9.869781   \n",
       "Lasso_Train               0.930663  20868.514771  49.564078   \n",
       "Lasso_Test                0.887081  26614.446974  50.809840   \n",
       "Ridge_Train_a=10          0.651788  46765.919130  17.718180   \n",
       "Ridge_Test_a=10           0.659501  46216.022922  18.516758   \n",
       "Ridge_Train_No_Outliers   0.693021  36137.707587  17.012196   \n",
       "Ridge_Test_No_Outliers    0.649496  40840.354214  16.339041   \n",
       "Forest_Train_Initial      0.974254  12716.442403   4.017820   \n",
       "Forest_Test_Initial       0.890738  26180.002763  10.020665   \n",
       "\n",
       "                        Worst Underestimate Worst Overestimate  \n",
       "Model                                                           \n",
       "Linear_Train                            N/A                N/A  \n",
       "Linear_Test                         54799.1            55049.2  \n",
       "Ridge_Train                             N/A                N/A  \n",
       "Ridge_Test                            40291            47665.9  \n",
       "Lasso_Train                             N/A                N/A  \n",
       "Lasso_Test                           219702             219698  \n",
       "Ridge_Train_a=10                        N/A                N/A  \n",
       "Ridge_Test_a=10                     90024.5            75831.5  \n",
       "Ridge_Train_No_Outliers                 N/A                N/A  \n",
       "Ridge_Test_No_Outliers              83885.2            72174.1  \n",
       "Forest_Train_Initial                    N/A                N/A  \n",
       "Forest_Test_Initial                 51054.8              49975  "
      ]
     },
     "execution_count": 19,
     "metadata": {},
     "output_type": "execute_result"
    }
   ],
   "source": [
    "metrics"
   ]
  },
  {
   "cell_type": "code",
   "execution_count": 20,
   "metadata": {},
   "outputs": [],
   "source": [
    "# Do I need to instantiate random forest regressor again? I don't think I do. "
   ]
  },
  {
   "cell_type": "code",
   "execution_count": 21,
   "metadata": {},
   "outputs": [],
   "source": [
    "# Creating a dictionary of paramteters for tuning\n",
    "grid = {'n_estimators' : [100, 150, 200, 250], 'max_depth': [3, 5, 10], \n",
    "        'max_features': [4, 8, 12, 20, 25, 30, 40, 50, 60, 70],\n",
    "        'random_state': [42]}\n",
    "test_scores = []"
   ]
  },
  {
   "cell_type": "code",
   "execution_count": 22,
   "metadata": {},
   "outputs": [
    {
     "name": "stdout",
     "output_type": "stream",
     "text": [
      "0.897620454013031 {'random_state': 42, 'n_estimators': 100, 'max_features': 50, 'max_depth': 10}\n"
     ]
    }
   ],
   "source": [
    "# Loop through the parameter grid, set the hyperparameters, and save the scores\n",
    "for g in ParameterGrid(grid):\n",
    "    forest.set_params(**g)  # ** is \"unpacking\" the dictionary\n",
    "    forest.fit(X_train, y_train)\n",
    "    test_scores.append(forest.score(X_test, y_test))\n",
    "\n",
    "# Find best hyperparameters from the test score and print\n",
    "best_idx = np.argmax(test_scores)\n",
    "print(test_scores[best_idx], ParameterGrid(grid)[best_idx])"
   ]
  },
  {
   "cell_type": "code",
   "execution_count": 23,
   "metadata": {},
   "outputs": [],
   "source": [
    "# Model with for tuned paramaters"
   ]
  },
  {
   "cell_type": "code",
   "execution_count": 24,
   "metadata": {},
   "outputs": [],
   "source": [
    "# Create Random Forest Regressor\n",
    "forest = RandomForestRegressor(n_estimators=100, max_features=50, max_depth=10, random_state=42)"
   ]
  },
  {
   "cell_type": "code",
   "execution_count": 25,
   "metadata": {},
   "outputs": [
    {
     "data": {
      "text/plain": [
       "RandomForestRegressor(bootstrap=True, criterion='mse', max_depth=10,\n",
       "                      max_features=50, max_leaf_nodes=None,\n",
       "                      min_impurity_decrease=0.0, min_impurity_split=None,\n",
       "                      min_samples_leaf=1, min_samples_split=2,\n",
       "                      min_weight_fraction_leaf=0.0, n_estimators=100,\n",
       "                      n_jobs=None, oob_score=False, random_state=42, verbose=0,\n",
       "                      warm_start=False)"
      ]
     },
     "execution_count": 25,
     "metadata": {},
     "output_type": "execute_result"
    }
   ],
   "source": [
    "# Fit model to training data\n",
    "forest.fit(X_train, y_train)"
   ]
  },
  {
   "cell_type": "code",
   "execution_count": 26,
   "metadata": {},
   "outputs": [
    {
     "name": "stdout",
     "output_type": "stream",
     "text": [
      "0.9670992471454407\n",
      "0.897620454013031\n"
     ]
    }
   ],
   "source": [
    "print(forest.score(X_train, y_train))\n",
    "print(forest.score(X_test, y_test))"
   ]
  },
  {
   "cell_type": "code",
   "execution_count": 27,
   "metadata": {},
   "outputs": [],
   "source": [
    "# Model predictions\n",
    "forest_pred_train = forest.predict(X_train)\n",
    "forest_pred_test = forest.predict(X_test)"
   ]
  },
  {
   "cell_type": "code",
   "execution_count": 28,
   "metadata": {},
   "outputs": [
    {
     "name": "stdout",
     "output_type": "stream",
     "text": [
      "R^2: 0.9670992471454407\n",
      "Root Mean Squared Error: 14375.087030914441\n",
      "Mean Absolute Percent Error: 5.78619074782995\n"
     ]
    }
   ],
   "source": [
    "# Metrics for train set - Forest iteration #2\n",
    "print(\"R^2: {}\".format(forest.score(X_train, y_train)))\n",
    "rmse = np.sqrt(mean_squared_error(y_train, forest_pred_train))\n",
    "print(\"Root Mean Squared Error: {}\".format(rmse))\n",
    "error = (y_train-forest_pred_train)/y_train * 100\n",
    "mape = abs(error).mean()\n",
    "print('Mean Absolute Percent Error: {}'.format(mape))"
   ]
  },
  {
   "cell_type": "code",
   "execution_count": 29,
   "metadata": {},
   "outputs": [],
   "source": [
    "# Adding metrics to the metrics dataframe\n",
    "d = {'R_Squared': [forest.score(X_train, y_train)], 'RMSE': [rmse], 'MAPE (%)': [mape],\n",
    "    'Worst Underestimate':['N/A'], 'Worst Overestimate':['N/A']}\n",
    "temp = pd.DataFrame(data=d, index=['Forest_Train_Tuned'])\n",
    "temp.index.name = 'Model'\n",
    "metrics = metrics.append(temp)"
   ]
  },
  {
   "cell_type": "code",
   "execution_count": 30,
   "metadata": {},
   "outputs": [
    {
     "name": "stdout",
     "output_type": "stream",
     "text": [
      "R^2: 0.897620454013031\n",
      "Root Mean Squared Error: 25342.031964881167\n",
      "Mean Absolute Percent Error: 9.99146585157868\n"
     ]
    }
   ],
   "source": [
    "# Metrics for test set - Forest iteration #2\n",
    "print(\"R^2: {}\".format(forest.score(X_test, y_test)))\n",
    "rmse = np.sqrt(mean_squared_error(y_test, forest_pred_test))\n",
    "print(\"Root Mean Squared Error: {}\".format(rmse))\n",
    "error = (y_test-forest_pred_test)/y_test * 100\n",
    "mape = abs(error).mean()\n",
    "print('Mean Absolute Percent Error: {}'.format(mape))"
   ]
  },
  {
   "cell_type": "code",
   "execution_count": 31,
   "metadata": {},
   "outputs": [],
   "source": [
    "# Finding worst residuals for 95% \n",
    "residuals = y_test - forest_pred_test\n",
    "residuals_trimmed = residuals[abs(residuals) < np.mean(residuals)+2*np.std(residuals)]\n",
    "r_pos = max(residuals_trimmed)\n",
    "r_neg = abs(min(residuals_trimmed))"
   ]
  },
  {
   "cell_type": "code",
   "execution_count": null,
   "metadata": {},
   "outputs": [],
   "source": []
  },
  {
   "cell_type": "markdown",
   "metadata": {},
   "source": [
    "Given a prediction \"p\" computed by the model, the worst case scenarios according to the tests I performed, are"
   ]
  },
  {
   "cell_type": "code",
   "execution_count": 32,
   "metadata": {},
   "outputs": [
    {
     "name": "stdout",
     "output_type": "stream",
     "text": [
      "p - 48301.054530720954\n",
      "p + 49009.80139933221\n"
     ]
    }
   ],
   "source": [
    "print('p - {}'.format(r_neg))\n",
    "print('p + {}'.format(r_pos))"
   ]
  },
  {
   "cell_type": "code",
   "execution_count": 33,
   "metadata": {},
   "outputs": [],
   "source": [
    "# Adding metrics to the metrics dataframe\n",
    "d = {'R_Squared': [forest.score(X_test, y_test)], 'RMSE': [rmse], 'MAPE (%)': [mape],\n",
    "    'Worst Underestimate':[r_pos], 'Worst Overestimate':[r_neg]}\n",
    "temp = pd.DataFrame(data=d, index=['Forest_Test_Tuned'])\n",
    "temp.index.name = 'Model'\n",
    "metrics = metrics.append(temp)"
   ]
  },
  {
   "cell_type": "raw",
   "metadata": {},
   "source": []
  },
  {
   "cell_type": "code",
   "execution_count": 34,
   "metadata": {},
   "outputs": [
    {
     "data": {
      "text/html": [
       "<div>\n",
       "<style scoped>\n",
       "    .dataframe tbody tr th:only-of-type {\n",
       "        vertical-align: middle;\n",
       "    }\n",
       "\n",
       "    .dataframe tbody tr th {\n",
       "        vertical-align: top;\n",
       "    }\n",
       "\n",
       "    .dataframe thead th {\n",
       "        text-align: right;\n",
       "    }\n",
       "</style>\n",
       "<table border=\"1\" class=\"dataframe\">\n",
       "  <thead>\n",
       "    <tr style=\"text-align: right;\">\n",
       "      <th></th>\n",
       "      <th>R_Squared</th>\n",
       "      <th>RMSE</th>\n",
       "      <th>MAPE (%)</th>\n",
       "      <th>Worst Underestimate</th>\n",
       "      <th>Worst Overestimate</th>\n",
       "    </tr>\n",
       "    <tr>\n",
       "      <th>Model</th>\n",
       "      <th></th>\n",
       "      <th></th>\n",
       "      <th></th>\n",
       "      <th></th>\n",
       "      <th></th>\n",
       "    </tr>\n",
       "  </thead>\n",
       "  <tbody>\n",
       "    <tr>\n",
       "      <td>Linear_Train</td>\n",
       "      <td>0.930668</td>\n",
       "      <td>20867.619109</td>\n",
       "      <td>8.179160</td>\n",
       "      <td>N/A</td>\n",
       "      <td>N/A</td>\n",
       "    </tr>\n",
       "    <tr>\n",
       "      <td>Linear_Test</td>\n",
       "      <td>0.877025</td>\n",
       "      <td>27774.277801</td>\n",
       "      <td>11.107240</td>\n",
       "      <td>54799.1</td>\n",
       "      <td>55049.2</td>\n",
       "    </tr>\n",
       "    <tr>\n",
       "      <td>Ridge_Train</td>\n",
       "      <td>0.924783</td>\n",
       "      <td>21735.300299</td>\n",
       "      <td>8.211178</td>\n",
       "      <td>N/A</td>\n",
       "      <td>N/A</td>\n",
       "    </tr>\n",
       "    <tr>\n",
       "      <td>Ridge_Test</td>\n",
       "      <td>0.894620</td>\n",
       "      <td>25710.742519</td>\n",
       "      <td>9.869781</td>\n",
       "      <td>40291</td>\n",
       "      <td>47665.9</td>\n",
       "    </tr>\n",
       "    <tr>\n",
       "      <td>Lasso_Train</td>\n",
       "      <td>0.930663</td>\n",
       "      <td>20868.514771</td>\n",
       "      <td>49.564078</td>\n",
       "      <td>N/A</td>\n",
       "      <td>N/A</td>\n",
       "    </tr>\n",
       "    <tr>\n",
       "      <td>Lasso_Test</td>\n",
       "      <td>0.887081</td>\n",
       "      <td>26614.446974</td>\n",
       "      <td>50.809840</td>\n",
       "      <td>219702</td>\n",
       "      <td>219698</td>\n",
       "    </tr>\n",
       "    <tr>\n",
       "      <td>Ridge_Train_a=10</td>\n",
       "      <td>0.651788</td>\n",
       "      <td>46765.919130</td>\n",
       "      <td>17.718180</td>\n",
       "      <td>N/A</td>\n",
       "      <td>N/A</td>\n",
       "    </tr>\n",
       "    <tr>\n",
       "      <td>Ridge_Test_a=10</td>\n",
       "      <td>0.659501</td>\n",
       "      <td>46216.022922</td>\n",
       "      <td>18.516758</td>\n",
       "      <td>90024.5</td>\n",
       "      <td>75831.5</td>\n",
       "    </tr>\n",
       "    <tr>\n",
       "      <td>Ridge_Train_No_Outliers</td>\n",
       "      <td>0.693021</td>\n",
       "      <td>36137.707587</td>\n",
       "      <td>17.012196</td>\n",
       "      <td>N/A</td>\n",
       "      <td>N/A</td>\n",
       "    </tr>\n",
       "    <tr>\n",
       "      <td>Ridge_Test_No_Outliers</td>\n",
       "      <td>0.649496</td>\n",
       "      <td>40840.354214</td>\n",
       "      <td>16.339041</td>\n",
       "      <td>83885.2</td>\n",
       "      <td>72174.1</td>\n",
       "    </tr>\n",
       "    <tr>\n",
       "      <td>Forest_Train_Initial</td>\n",
       "      <td>0.974254</td>\n",
       "      <td>12716.442403</td>\n",
       "      <td>4.017820</td>\n",
       "      <td>N/A</td>\n",
       "      <td>N/A</td>\n",
       "    </tr>\n",
       "    <tr>\n",
       "      <td>Forest_Test_Initial</td>\n",
       "      <td>0.890738</td>\n",
       "      <td>26180.002763</td>\n",
       "      <td>10.020665</td>\n",
       "      <td>51054.8</td>\n",
       "      <td>49975</td>\n",
       "    </tr>\n",
       "    <tr>\n",
       "      <td>Forest_Train_Tuned</td>\n",
       "      <td>0.967099</td>\n",
       "      <td>14375.087031</td>\n",
       "      <td>5.786191</td>\n",
       "      <td>N/A</td>\n",
       "      <td>N/A</td>\n",
       "    </tr>\n",
       "    <tr>\n",
       "      <td>Forest_Test_Tuned</td>\n",
       "      <td>0.897620</td>\n",
       "      <td>25342.031965</td>\n",
       "      <td>9.991466</td>\n",
       "      <td>49009.8</td>\n",
       "      <td>48301.1</td>\n",
       "    </tr>\n",
       "  </tbody>\n",
       "</table>\n",
       "</div>"
      ],
      "text/plain": [
       "                         R_Squared          RMSE   MAPE (%)  \\\n",
       "Model                                                         \n",
       "Linear_Train              0.930668  20867.619109   8.179160   \n",
       "Linear_Test               0.877025  27774.277801  11.107240   \n",
       "Ridge_Train               0.924783  21735.300299   8.211178   \n",
       "Ridge_Test                0.894620  25710.742519   9.869781   \n",
       "Lasso_Train               0.930663  20868.514771  49.564078   \n",
       "Lasso_Test                0.887081  26614.446974  50.809840   \n",
       "Ridge_Train_a=10          0.651788  46765.919130  17.718180   \n",
       "Ridge_Test_a=10           0.659501  46216.022922  18.516758   \n",
       "Ridge_Train_No_Outliers   0.693021  36137.707587  17.012196   \n",
       "Ridge_Test_No_Outliers    0.649496  40840.354214  16.339041   \n",
       "Forest_Train_Initial      0.974254  12716.442403   4.017820   \n",
       "Forest_Test_Initial       0.890738  26180.002763  10.020665   \n",
       "Forest_Train_Tuned        0.967099  14375.087031   5.786191   \n",
       "Forest_Test_Tuned         0.897620  25342.031965   9.991466   \n",
       "\n",
       "                        Worst Underestimate Worst Overestimate  \n",
       "Model                                                           \n",
       "Linear_Train                            N/A                N/A  \n",
       "Linear_Test                         54799.1            55049.2  \n",
       "Ridge_Train                             N/A                N/A  \n",
       "Ridge_Test                            40291            47665.9  \n",
       "Lasso_Train                             N/A                N/A  \n",
       "Lasso_Test                           219702             219698  \n",
       "Ridge_Train_a=10                        N/A                N/A  \n",
       "Ridge_Test_a=10                     90024.5            75831.5  \n",
       "Ridge_Train_No_Outliers                 N/A                N/A  \n",
       "Ridge_Test_No_Outliers              83885.2            72174.1  \n",
       "Forest_Train_Initial                    N/A                N/A  \n",
       "Forest_Test_Initial                 51054.8              49975  \n",
       "Forest_Train_Tuned                      N/A                N/A  \n",
       "Forest_Test_Tuned                   49009.8            48301.1  "
      ]
     },
     "execution_count": 34,
     "metadata": {},
     "output_type": "execute_result"
    }
   ],
   "source": [
    "metrics"
   ]
  },
  {
   "cell_type": "code",
   "execution_count": null,
   "metadata": {},
   "outputs": [],
   "source": []
  },
  {
   "cell_type": "code",
   "execution_count": 35,
   "metadata": {},
   "outputs": [
    {
     "data": {
      "image/png": "[encoded data removed]",
      "text/plain": [
       "<Figure size 432x288 with 1 Axes>"
      ]
     },
     "metadata": {
      "needs_background": "light"
     },
     "output_type": "display_data"
    }
   ],
   "source": [
    "# Predicted vs actual scatterplot\n",
    "plt.scatter(forest_pred_test, y_test, alpha=0.5, s=4)\n",
    "plt.title('Predicted vs. Actual Sale price')\n",
    "plt.xlabel('Predicted Sale Price')\n",
    "plt.ylabel('Actual Sale Price')\n",
    "plt.plot(list(range(y_test.max())),list(range(y_test.max())), c='r')\n",
    "plt.show()"
   ]
  },
  {
   "cell_type": "code",
   "execution_count": 36,
   "metadata": {},
   "outputs": [
    {
     "data": {
      "text/plain": [
       "(363,)"
      ]
     },
     "execution_count": 36,
     "metadata": {},
     "output_type": "execute_result"
    }
   ],
   "source": [
    "residuals.shape"
   ]
  },
  {
   "cell_type": "code",
   "execution_count": 37,
   "metadata": {},
   "outputs": [
    {
     "data": {
      "image/png": "[encoded data removed]",
      "text/plain": [
       "<Figure size 432x288 with 1 Axes>"
      ]
     },
     "metadata": {
      "needs_background": "light"
     },
     "output_type": "display_data"
    }
   ],
   "source": [
    "# Predicted vs residuals\n",
    "plt.scatter(forest_pred_test, residuals, alpha = 0.5, s=4)\n",
    "plt.plot(list(range(y_test.max())),[0]*y_test.max(), c='r')\n",
    "plt.show()"
   ]
  },
  {
   "cell_type": "code",
   "execution_count": null,
   "metadata": {},
   "outputs": [],
   "source": []
  },
  {
   "cell_type": "code",
   "execution_count": 38,
   "metadata": {},
   "outputs": [
    {
     "data": {
      "image/png": "[encoded data removed]",
      "text/plain": [
       "<Figure size 432x288 with 1 Axes>"
      ]
     },
     "metadata": {
      "needs_background": "light"
     },
     "output_type": "display_data"
    }
   ],
   "source": [
    "# Histogram of Residuals\n",
    "mean = np.mean(residuals)\n",
    "std_dev = np.std(residuals)\n",
    "\n",
    "plt.hist(residuals, bins=20)\n",
    "plt.axvline(mean, color='r')\n",
    "plt.axvline(mean + std_dev, color='r', linestyle='--')\n",
    "plt.axvline(mean + 2* std_dev, color='r', linestyle='-.')\n",
    "plt.axvline(mean + 3* std_dev, color='r', linestyle=':')\n",
    "plt.axvline(mean - std_dev, color='r', linestyle='--')\n",
    "plt.axvline(mean - 2* std_dev, color='r', linestyle='-.')\n",
    "plt.axvline(mean - 3* std_dev, color='r', linestyle=':')\n",
    "plt.title('Residuals')\n",
    "plt.ylabel('Frequency')\n",
    "plt.show()"
   ]
  },
  {
   "cell_type": "code",
   "execution_count": null,
   "metadata": {},
   "outputs": [],
   "source": []
  },
  {
   "cell_type": "code",
   "execution_count": 39,
   "metadata": {},
   "outputs": [
    {
     "data": {
      "image/png": "[encoded data removed]",
      "text/plain": [
       "<Figure size 432x288 with 1 Axes>"
      ]
     },
     "metadata": {
      "needs_background": "light"
     },
     "output_type": "display_data"
    }
   ],
   "source": [
    "# Feature Importance\n",
    "importances = forest.feature_importances_\n",
    "\n",
    "# Get the index of importances from greatest importance to least\n",
    "sorted_index = np.argsort(importances)[::-1]\n",
    "x = range(len(importances))\n",
    "\n",
    "# Create tick labels \n",
    "feature_names = housing_import.columns\n",
    "labels = np.array(feature_names)[sorted_index]\n",
    "plt.bar(x[0:10], importances[sorted_index][0:10], tick_label=labels[0:10])\n",
    "\n",
    "# Rotate tick labels to vertical\n",
    "plt.xticks(rotation=90)\n",
    "plt.title('Feature Importance')\n",
    "plt.show()"
   ]
  },
  {
   "cell_type": "code",
   "execution_count": null,
   "metadata": {},
   "outputs": [],
   "source": []
  },
  {
   "cell_type": "code",
   "execution_count": null,
   "metadata": {},
   "outputs": [],
   "source": []
  },
  {
   "cell_type": "code",
   "execution_count": null,
   "metadata": {},
   "outputs": [],
   "source": []
  },
  {
   "cell_type": "code",
   "execution_count": null,
   "metadata": {},
   "outputs": [],
   "source": []
  },
  {
   "cell_type": "code",
   "execution_count": 40,
   "metadata": {},
   "outputs": [],
   "source": [
    "# Investigating outliers\n",
    "# Using model on entire data set for residual analysis\n",
    "forest_pred_all = forest.predict(X)\n",
    "residu_all = y - forest_pred_all"
   ]
  },
  {
   "cell_type": "code",
   "execution_count": 41,
   "metadata": {},
   "outputs": [],
   "source": [
    "# A set of all indicies of high outlier points\n",
    "high_residuals = np.where(abs(residu_all) > mean + 3* std_dev)"
   ]
  },
  {
   "cell_type": "code",
   "execution_count": 42,
   "metadata": {},
   "outputs": [],
   "source": [
    "a_set = set(high_residuals[0])"
   ]
  },
  {
   "cell_type": "code",
   "execution_count": 43,
   "metadata": {},
   "outputs": [],
   "source": [
    "b_set = set(outliers.index)"
   ]
  },
  {
   "cell_type": "code",
   "execution_count": 44,
   "metadata": {},
   "outputs": [
    {
     "data": {
      "text/plain": [
       "[1290, 1163, 688, 1040, 439, 1176]"
      ]
     },
     "execution_count": 44,
     "metadata": {},
     "output_type": "execute_result"
    }
   ],
   "source": [
    "outliers_in_both = list(a_set.intersection(b_set))\n",
    "outliers_in_both"
   ]
  },
  {
   "cell_type": "code",
   "execution_count": 45,
   "metadata": {},
   "outputs": [
    {
     "data": {
      "text/html": [
       "<div>\n",
       "<style scoped>\n",
       "    .dataframe tbody tr th:only-of-type {\n",
       "        vertical-align: middle;\n",
       "    }\n",
       "\n",
       "    .dataframe tbody tr th {\n",
       "        vertical-align: top;\n",
       "    }\n",
       "\n",
       "    .dataframe thead th {\n",
       "        text-align: right;\n",
       "    }\n",
       "</style>\n",
       "<table border=\"1\" class=\"dataframe\">\n",
       "  <thead>\n",
       "    <tr style=\"text-align: right;\">\n",
       "      <th></th>\n",
       "      <th>MSSubClass</th>\n",
       "      <th>LotFrontage</th>\n",
       "      <th>LotArea</th>\n",
       "      <th>OverallQual</th>\n",
       "      <th>OverallCond</th>\n",
       "      <th>YearBuilt</th>\n",
       "      <th>YearRemodAdd</th>\n",
       "      <th>MasVnrArea</th>\n",
       "      <th>1stFlrSF</th>\n",
       "      <th>LowQualFinSF</th>\n",
       "      <th>...</th>\n",
       "      <th>SaleType_ConLw</th>\n",
       "      <th>SaleType_New</th>\n",
       "      <th>SaleType_Oth</th>\n",
       "      <th>SaleType_WD</th>\n",
       "      <th>SaleCondition_Abnorml</th>\n",
       "      <th>SaleCondition_AdjLand</th>\n",
       "      <th>SaleCondition_Alloca</th>\n",
       "      <th>SaleCondition_Family</th>\n",
       "      <th>SaleCondition_Normal</th>\n",
       "      <th>SaleCondition_Partial</th>\n",
       "    </tr>\n",
       "    <tr>\n",
       "      <th>Id</th>\n",
       "      <th></th>\n",
       "      <th></th>\n",
       "      <th></th>\n",
       "      <th></th>\n",
       "      <th></th>\n",
       "      <th></th>\n",
       "      <th></th>\n",
       "      <th></th>\n",
       "      <th></th>\n",
       "      <th></th>\n",
       "      <th></th>\n",
       "      <th></th>\n",
       "      <th></th>\n",
       "      <th></th>\n",
       "      <th></th>\n",
       "      <th></th>\n",
       "      <th></th>\n",
       "      <th></th>\n",
       "      <th></th>\n",
       "      <th></th>\n",
       "      <th></th>\n",
       "    </tr>\n",
       "  </thead>\n",
       "  <tbody>\n",
       "    <tr>\n",
       "      <td>1290</td>\n",
       "      <td>60</td>\n",
       "      <td>86.000000</td>\n",
       "      <td>11065</td>\n",
       "      <td>8</td>\n",
       "      <td>5</td>\n",
       "      <td>2006</td>\n",
       "      <td>2006</td>\n",
       "      <td>788.0</td>\n",
       "      <td>1120</td>\n",
       "      <td>0</td>\n",
       "      <td>...</td>\n",
       "      <td>0</td>\n",
       "      <td>1</td>\n",
       "      <td>0</td>\n",
       "      <td>0</td>\n",
       "      <td>0</td>\n",
       "      <td>0</td>\n",
       "      <td>0</td>\n",
       "      <td>0</td>\n",
       "      <td>0</td>\n",
       "      <td>1</td>\n",
       "    </tr>\n",
       "    <tr>\n",
       "      <td>1163</td>\n",
       "      <td>20</td>\n",
       "      <td>109.000000</td>\n",
       "      <td>8724</td>\n",
       "      <td>5</td>\n",
       "      <td>5</td>\n",
       "      <td>1968</td>\n",
       "      <td>1968</td>\n",
       "      <td>0.0</td>\n",
       "      <td>894</td>\n",
       "      <td>0</td>\n",
       "      <td>...</td>\n",
       "      <td>0</td>\n",
       "      <td>0</td>\n",
       "      <td>0</td>\n",
       "      <td>1</td>\n",
       "      <td>0</td>\n",
       "      <td>0</td>\n",
       "      <td>0</td>\n",
       "      <td>0</td>\n",
       "      <td>1</td>\n",
       "      <td>0</td>\n",
       "    </tr>\n",
       "    <tr>\n",
       "      <td>688</td>\n",
       "      <td>160</td>\n",
       "      <td>70.049958</td>\n",
       "      <td>5105</td>\n",
       "      <td>7</td>\n",
       "      <td>5</td>\n",
       "      <td>2004</td>\n",
       "      <td>2004</td>\n",
       "      <td>0.0</td>\n",
       "      <td>551</td>\n",
       "      <td>0</td>\n",
       "      <td>...</td>\n",
       "      <td>0</td>\n",
       "      <td>0</td>\n",
       "      <td>0</td>\n",
       "      <td>1</td>\n",
       "      <td>0</td>\n",
       "      <td>0</td>\n",
       "      <td>0</td>\n",
       "      <td>0</td>\n",
       "      <td>1</td>\n",
       "      <td>0</td>\n",
       "    </tr>\n",
       "    <tr>\n",
       "      <td>1040</td>\n",
       "      <td>180</td>\n",
       "      <td>21.000000</td>\n",
       "      <td>1477</td>\n",
       "      <td>4</td>\n",
       "      <td>4</td>\n",
       "      <td>1970</td>\n",
       "      <td>1970</td>\n",
       "      <td>0.0</td>\n",
       "      <td>630</td>\n",
       "      <td>0</td>\n",
       "      <td>...</td>\n",
       "      <td>0</td>\n",
       "      <td>0</td>\n",
       "      <td>0</td>\n",
       "      <td>1</td>\n",
       "      <td>0</td>\n",
       "      <td>0</td>\n",
       "      <td>0</td>\n",
       "      <td>0</td>\n",
       "      <td>1</td>\n",
       "      <td>0</td>\n",
       "    </tr>\n",
       "    <tr>\n",
       "      <td>439</td>\n",
       "      <td>30</td>\n",
       "      <td>40.000000</td>\n",
       "      <td>4280</td>\n",
       "      <td>5</td>\n",
       "      <td>6</td>\n",
       "      <td>1913</td>\n",
       "      <td>2002</td>\n",
       "      <td>0.0</td>\n",
       "      <td>694</td>\n",
       "      <td>0</td>\n",
       "      <td>...</td>\n",
       "      <td>0</td>\n",
       "      <td>0</td>\n",
       "      <td>0</td>\n",
       "      <td>1</td>\n",
       "      <td>0</td>\n",
       "      <td>0</td>\n",
       "      <td>0</td>\n",
       "      <td>0</td>\n",
       "      <td>1</td>\n",
       "      <td>0</td>\n",
       "    </tr>\n",
       "    <tr>\n",
       "      <td>1176</td>\n",
       "      <td>50</td>\n",
       "      <td>85.000000</td>\n",
       "      <td>10678</td>\n",
       "      <td>8</td>\n",
       "      <td>5</td>\n",
       "      <td>1992</td>\n",
       "      <td>2000</td>\n",
       "      <td>337.0</td>\n",
       "      <td>2129</td>\n",
       "      <td>0</td>\n",
       "      <td>...</td>\n",
       "      <td>0</td>\n",
       "      <td>0</td>\n",
       "      <td>0</td>\n",
       "      <td>1</td>\n",
       "      <td>0</td>\n",
       "      <td>0</td>\n",
       "      <td>0</td>\n",
       "      <td>0</td>\n",
       "      <td>1</td>\n",
       "      <td>0</td>\n",
       "    </tr>\n",
       "  </tbody>\n",
       "</table>\n",
       "<p>6 rows × 274 columns</p>\n",
       "</div>"
      ],
      "text/plain": [
       "      MSSubClass  LotFrontage  LotArea  OverallQual  OverallCond  YearBuilt  \\\n",
       "Id                                                                            \n",
       "1290          60    86.000000    11065            8            5       2006   \n",
       "1163          20   109.000000     8724            5            5       1968   \n",
       "688          160    70.049958     5105            7            5       2004   \n",
       "1040         180    21.000000     1477            4            4       1970   \n",
       "439           30    40.000000     4280            5            6       1913   \n",
       "1176          50    85.000000    10678            8            5       1992   \n",
       "\n",
       "      YearRemodAdd  MasVnrArea  1stFlrSF  LowQualFinSF  ...  SaleType_ConLw  \\\n",
       "Id                                                      ...                   \n",
       "1290          2006       788.0      1120             0  ...               0   \n",
       "1163          1968         0.0       894             0  ...               0   \n",
       "688           2004         0.0       551             0  ...               0   \n",
       "1040          1970         0.0       630             0  ...               0   \n",
       "439           2002         0.0       694             0  ...               0   \n",
       "1176          2000       337.0      2129             0  ...               0   \n",
       "\n",
       "      SaleType_New  SaleType_Oth  SaleType_WD  SaleCondition_Abnorml  \\\n",
       "Id                                                                     \n",
       "1290             1             0            0                      0   \n",
       "1163             0             0            1                      0   \n",
       "688              0             0            1                      0   \n",
       "1040             0             0            1                      0   \n",
       "439              0             0            1                      0   \n",
       "1176             0             0            1                      0   \n",
       "\n",
       "      SaleCondition_AdjLand  SaleCondition_Alloca  SaleCondition_Family  \\\n",
       "Id                                                                        \n",
       "1290                      0                     0                     0   \n",
       "1163                      0                     0                     0   \n",
       "688                       0                     0                     0   \n",
       "1040                      0                     0                     0   \n",
       "439                       0                     0                     0   \n",
       "1176                      0                     0                     0   \n",
       "\n",
       "      SaleCondition_Normal  SaleCondition_Partial  \n",
       "Id                                                 \n",
       "1290                     0                      1  \n",
       "1163                     1                      0  \n",
       "688                      1                      0  \n",
       "1040                     1                      0  \n",
       "439                      1                      0  \n",
       "1176                     1                      0  \n",
       "\n",
       "[6 rows x 274 columns]"
      ]
     },
     "execution_count": 45,
     "metadata": {},
     "output_type": "execute_result"
    }
   ],
   "source": [
    "housing_import.loc[outliers_in_both]"
   ]
  },
  {
   "cell_type": "code",
   "execution_count": 46,
   "metadata": {},
   "outputs": [],
   "source": [
    "# I need to find a better way of examining these points for their oddities"
   ]
  },
  {
   "cell_type": "code",
   "execution_count": 47,
   "metadata": {},
   "outputs": [],
   "source": [
    "# Dropping Outliers\n",
    "X_no_outliers = np.delete(X, outliers_in_both, axis=0)\n",
    "y_no_outliers = np.delete(y, outliers_in_both, axis=0)"
   ]
  },
  {
   "cell_type": "code",
   "execution_count": 48,
   "metadata": {},
   "outputs": [],
   "source": [
    "# Train test split\n",
    "X_train, X_test, y_train, y_test = train_test_split(X_no_outliers, y_no_outliers, test_size = 0.25, random_state=42)"
   ]
  },
  {
   "cell_type": "code",
   "execution_count": null,
   "metadata": {},
   "outputs": [],
   "source": []
  },
  {
   "cell_type": "code",
   "execution_count": null,
   "metadata": {},
   "outputs": [],
   "source": []
  },
  {
   "cell_type": "code",
   "execution_count": 49,
   "metadata": {},
   "outputs": [],
   "source": [
    "# Create Random Forest Regressor\n",
    "forest = RandomForestRegressor(n_estimators=100, max_features=50, max_depth=10, random_state=42)"
   ]
  },
  {
   "cell_type": "code",
   "execution_count": 50,
   "metadata": {},
   "outputs": [
    {
     "data": {
      "text/plain": [
       "RandomForestRegressor(bootstrap=True, criterion='mse', max_depth=10,\n",
       "                      max_features=50, max_leaf_nodes=None,\n",
       "                      min_impurity_decrease=0.0, min_impurity_split=None,\n",
       "                      min_samples_leaf=1, min_samples_split=2,\n",
       "                      min_weight_fraction_leaf=0.0, n_estimators=100,\n",
       "                      n_jobs=None, oob_score=False, random_state=42, verbose=0,\n",
       "                      warm_start=False)"
      ]
     },
     "execution_count": 50,
     "metadata": {},
     "output_type": "execute_result"
    }
   ],
   "source": [
    "# Fit model to training data\n",
    "forest.fit(X_train, y_train)"
   ]
  },
  {
   "cell_type": "code",
   "execution_count": 51,
   "metadata": {},
   "outputs": [
    {
     "name": "stdout",
     "output_type": "stream",
     "text": [
      "0.9732292004977623\n",
      "0.8743383666184696\n"
     ]
    }
   ],
   "source": [
    "print(forest.score(X_train, y_train))\n",
    "print(forest.score(X_test, y_test))"
   ]
  },
  {
   "cell_type": "code",
   "execution_count": 52,
   "metadata": {},
   "outputs": [],
   "source": [
    "# Model predictions\n",
    "forest_pred_train = forest.predict(X_train)\n",
    "forest_pred_test = forest.predict(X_test)"
   ]
  },
  {
   "cell_type": "code",
   "execution_count": 53,
   "metadata": {},
   "outputs": [
    {
     "name": "stdout",
     "output_type": "stream",
     "text": [
      "R^2: 0.9732292004977623\n",
      "Root Mean Squared Error: 11864.17472770867\n",
      "Mean Absolute Percent Error: 5.374570980964697\n"
     ]
    }
   ],
   "source": [
    "# Metrics for train set - Forest iteration #3\n",
    "print(\"R^2: {}\".format(forest.score(X_train, y_train)))\n",
    "rmse = np.sqrt(mean_squared_error(y_train, forest_pred_train))\n",
    "print(\"Root Mean Squared Error: {}\".format(rmse))\n",
    "error = (y_train-forest_pred_train)/y_train * 100\n",
    "mape = abs(error).mean()\n",
    "print('Mean Absolute Percent Error: {}'.format(mape))"
   ]
  },
  {
   "cell_type": "code",
   "execution_count": 54,
   "metadata": {},
   "outputs": [],
   "source": [
    "# Adding metrics to the metrics dataframe\n",
    "d = {'R_Squared': [forest.score(X_train, y_train)], 'RMSE': [rmse], 'MAPE (%)': [mape],\n",
    "    'Worst Underestimate':['N/A'], 'Worst Overestimate':['N/A']}\n",
    "temp = pd.DataFrame(data=d, index=['Forest_Train_N_O'])\n",
    "temp.index.name = 'Model'\n",
    "metrics = metrics.append(temp)"
   ]
  },
  {
   "cell_type": "code",
   "execution_count": 55,
   "metadata": {},
   "outputs": [
    {
     "name": "stdout",
     "output_type": "stream",
     "text": [
      "R^2: 0.8743383666184696\n",
      "Root Mean Squared Error: 28193.940135221732\n",
      "Mean Absolute Percent Error: 11.251357749470262\n"
     ]
    }
   ],
   "source": [
    "# Metrics for test set - Forest iteration #3\n",
    "print(\"R^2: {}\".format(forest.score(X_test, y_test)))\n",
    "rmse = np.sqrt(mean_squared_error(y_test, forest_pred_test))\n",
    "print(\"Root Mean Squared Error: {}\".format(rmse))\n",
    "error = (y_test-forest_pred_test)/y_test * 100\n",
    "mape = abs(error).mean()\n",
    "print('Mean Absolute Percent Error: {}'.format(mape))"
   ]
  },
  {
   "cell_type": "code",
   "execution_count": 56,
   "metadata": {},
   "outputs": [],
   "source": [
    "# Finding worst residuals for 95% \n",
    "residuals = y_test - forest_pred_test\n",
    "residuals_trimmed = residuals[abs(residuals) < np.mean(residuals)+2*np.std(residuals)]\n",
    "r_pos = max(residuals_trimmed)\n",
    "r_neg = abs(min(residuals_trimmed))"
   ]
  },
  {
   "cell_type": "markdown",
   "metadata": {},
   "source": [
    "Given a prediction \"p\" computed by the model, the worst case scenarios according to the tests I performed, are"
   ]
  },
  {
   "cell_type": "code",
   "execution_count": 57,
   "metadata": {},
   "outputs": [
    {
     "name": "stdout",
     "output_type": "stream",
     "text": [
      "p - 51446.393075312095\n",
      "p + 54936.341359133075\n"
     ]
    }
   ],
   "source": [
    "print('p - {}'.format(r_neg))\n",
    "print('p + {}'.format(r_pos))"
   ]
  },
  {
   "cell_type": "code",
   "execution_count": 58,
   "metadata": {},
   "outputs": [],
   "source": [
    "# Adding metrics to the metrics dataframe\n",
    "d = {'R_Squared': [forest.score(X_test, y_test)], 'RMSE': [rmse], 'MAPE (%)': [mape],\n",
    "    'Worst Underestimate':[r_pos], 'Worst Overestimate':[r_neg]}\n",
    "temp = pd.DataFrame(data=d, index=['Forest_Test_N_O'])\n",
    "temp.index.name = 'Model'\n",
    "metrics = metrics.append(temp)"
   ]
  },
  {
   "cell_type": "raw",
   "metadata": {},
   "source": []
  },
  {
   "cell_type": "code",
   "execution_count": 59,
   "metadata": {
    "scrolled": false
   },
   "outputs": [
    {
     "data": {
      "text/html": [
       "<div>\n",
       "<style scoped>\n",
       "    .dataframe tbody tr th:only-of-type {\n",
       "        vertical-align: middle;\n",
       "    }\n",
       "\n",
       "    .dataframe tbody tr th {\n",
       "        vertical-align: top;\n",
       "    }\n",
       "\n",
       "    .dataframe thead th {\n",
       "        text-align: right;\n",
       "    }\n",
       "</style>\n",
       "<table border=\"1\" class=\"dataframe\">\n",
       "  <thead>\n",
       "    <tr style=\"text-align: right;\">\n",
       "      <th></th>\n",
       "      <th>R_Squared</th>\n",
       "      <th>RMSE</th>\n",
       "      <th>MAPE (%)</th>\n",
       "      <th>Worst Underestimate</th>\n",
       "      <th>Worst Overestimate</th>\n",
       "    </tr>\n",
       "    <tr>\n",
       "      <th>Model</th>\n",
       "      <th></th>\n",
       "      <th></th>\n",
       "      <th></th>\n",
       "      <th></th>\n",
       "      <th></th>\n",
       "    </tr>\n",
       "  </thead>\n",
       "  <tbody>\n",
       "    <tr>\n",
       "      <td>Linear_Train</td>\n",
       "      <td>0.930668</td>\n",
       "      <td>20867.619109</td>\n",
       "      <td>8.179160</td>\n",
       "      <td>N/A</td>\n",
       "      <td>N/A</td>\n",
       "    </tr>\n",
       "    <tr>\n",
       "      <td>Linear_Test</td>\n",
       "      <td>0.877025</td>\n",
       "      <td>27774.277801</td>\n",
       "      <td>11.107240</td>\n",
       "      <td>54799.1</td>\n",
       "      <td>55049.2</td>\n",
       "    </tr>\n",
       "    <tr>\n",
       "      <td>Ridge_Train</td>\n",
       "      <td>0.924783</td>\n",
       "      <td>21735.300299</td>\n",
       "      <td>8.211178</td>\n",
       "      <td>N/A</td>\n",
       "      <td>N/A</td>\n",
       "    </tr>\n",
       "    <tr>\n",
       "      <td>Ridge_Test</td>\n",
       "      <td>0.894620</td>\n",
       "      <td>25710.742519</td>\n",
       "      <td>9.869781</td>\n",
       "      <td>40291</td>\n",
       "      <td>47665.9</td>\n",
       "    </tr>\n",
       "    <tr>\n",
       "      <td>Lasso_Train</td>\n",
       "      <td>0.930663</td>\n",
       "      <td>20868.514771</td>\n",
       "      <td>49.564078</td>\n",
       "      <td>N/A</td>\n",
       "      <td>N/A</td>\n",
       "    </tr>\n",
       "    <tr>\n",
       "      <td>Lasso_Test</td>\n",
       "      <td>0.887081</td>\n",
       "      <td>26614.446974</td>\n",
       "      <td>50.809840</td>\n",
       "      <td>219702</td>\n",
       "      <td>219698</td>\n",
       "    </tr>\n",
       "    <tr>\n",
       "      <td>Ridge_Train_a=10</td>\n",
       "      <td>0.651788</td>\n",
       "      <td>46765.919130</td>\n",
       "      <td>17.718180</td>\n",
       "      <td>N/A</td>\n",
       "      <td>N/A</td>\n",
       "    </tr>\n",
       "    <tr>\n",
       "      <td>Ridge_Test_a=10</td>\n",
       "      <td>0.659501</td>\n",
       "      <td>46216.022922</td>\n",
       "      <td>18.516758</td>\n",
       "      <td>90024.5</td>\n",
       "      <td>75831.5</td>\n",
       "    </tr>\n",
       "    <tr>\n",
       "      <td>Ridge_Train_No_Outliers</td>\n",
       "      <td>0.693021</td>\n",
       "      <td>36137.707587</td>\n",
       "      <td>17.012196</td>\n",
       "      <td>N/A</td>\n",
       "      <td>N/A</td>\n",
       "    </tr>\n",
       "    <tr>\n",
       "      <td>Ridge_Test_No_Outliers</td>\n",
       "      <td>0.649496</td>\n",
       "      <td>40840.354214</td>\n",
       "      <td>16.339041</td>\n",
       "      <td>83885.2</td>\n",
       "      <td>72174.1</td>\n",
       "    </tr>\n",
       "    <tr>\n",
       "      <td>Forest_Train_Initial</td>\n",
       "      <td>0.974254</td>\n",
       "      <td>12716.442403</td>\n",
       "      <td>4.017820</td>\n",
       "      <td>N/A</td>\n",
       "      <td>N/A</td>\n",
       "    </tr>\n",
       "    <tr>\n",
       "      <td>Forest_Test_Initial</td>\n",
       "      <td>0.890738</td>\n",
       "      <td>26180.002763</td>\n",
       "      <td>10.020665</td>\n",
       "      <td>51054.8</td>\n",
       "      <td>49975</td>\n",
       "    </tr>\n",
       "    <tr>\n",
       "      <td>Forest_Train_Tuned</td>\n",
       "      <td>0.967099</td>\n",
       "      <td>14375.087031</td>\n",
       "      <td>5.786191</td>\n",
       "      <td>N/A</td>\n",
       "      <td>N/A</td>\n",
       "    </tr>\n",
       "    <tr>\n",
       "      <td>Forest_Test_Tuned</td>\n",
       "      <td>0.897620</td>\n",
       "      <td>25342.031965</td>\n",
       "      <td>9.991466</td>\n",
       "      <td>49009.8</td>\n",
       "      <td>48301.1</td>\n",
       "    </tr>\n",
       "    <tr>\n",
       "      <td>Forest_Train_N_O</td>\n",
       "      <td>0.973229</td>\n",
       "      <td>11864.174728</td>\n",
       "      <td>5.374571</td>\n",
       "      <td>N/A</td>\n",
       "      <td>N/A</td>\n",
       "    </tr>\n",
       "    <tr>\n",
       "      <td>Forest_Test_N_O</td>\n",
       "      <td>0.874338</td>\n",
       "      <td>28193.940135</td>\n",
       "      <td>11.251358</td>\n",
       "      <td>54936.3</td>\n",
       "      <td>51446.4</td>\n",
       "    </tr>\n",
       "  </tbody>\n",
       "</table>\n",
       "</div>"
      ],
      "text/plain": [
       "                         R_Squared          RMSE   MAPE (%)  \\\n",
       "Model                                                         \n",
       "Linear_Train              0.930668  20867.619109   8.179160   \n",
       "Linear_Test               0.877025  27774.277801  11.107240   \n",
       "Ridge_Train               0.924783  21735.300299   8.211178   \n",
       "Ridge_Test                0.894620  25710.742519   9.869781   \n",
       "Lasso_Train               0.930663  20868.514771  49.564078   \n",
       "Lasso_Test                0.887081  26614.446974  50.809840   \n",
       "Ridge_Train_a=10          0.651788  46765.919130  17.718180   \n",
       "Ridge_Test_a=10           0.659501  46216.022922  18.516758   \n",
       "Ridge_Train_No_Outliers   0.693021  36137.707587  17.012196   \n",
       "Ridge_Test_No_Outliers    0.649496  40840.354214  16.339041   \n",
       "Forest_Train_Initial      0.974254  12716.442403   4.017820   \n",
       "Forest_Test_Initial       0.890738  26180.002763  10.020665   \n",
       "Forest_Train_Tuned        0.967099  14375.087031   5.786191   \n",
       "Forest_Test_Tuned         0.897620  25342.031965   9.991466   \n",
       "Forest_Train_N_O          0.973229  11864.174728   5.374571   \n",
       "Forest_Test_N_O           0.874338  28193.940135  11.251358   \n",
       "\n",
       "                        Worst Underestimate Worst Overestimate  \n",
       "Model                                                           \n",
       "Linear_Train                            N/A                N/A  \n",
       "Linear_Test                         54799.1            55049.2  \n",
       "Ridge_Train                             N/A                N/A  \n",
       "Ridge_Test                            40291            47665.9  \n",
       "Lasso_Train                             N/A                N/A  \n",
       "Lasso_Test                           219702             219698  \n",
       "Ridge_Train_a=10                        N/A                N/A  \n",
       "Ridge_Test_a=10                     90024.5            75831.5  \n",
       "Ridge_Train_No_Outliers                 N/A                N/A  \n",
       "Ridge_Test_No_Outliers              83885.2            72174.1  \n",
       "Forest_Train_Initial                    N/A                N/A  \n",
       "Forest_Test_Initial                 51054.8              49975  \n",
       "Forest_Train_Tuned                      N/A                N/A  \n",
       "Forest_Test_Tuned                   49009.8            48301.1  \n",
       "Forest_Train_N_O                        N/A                N/A  \n",
       "Forest_Test_N_O                     54936.3            51446.4  "
      ]
     },
     "execution_count": 59,
     "metadata": {},
     "output_type": "execute_result"
    }
   ],
   "source": [
    "metrics"
   ]
  },
  {
   "cell_type": "code",
   "execution_count": null,
   "metadata": {},
   "outputs": [],
   "source": []
  },
  {
   "cell_type": "code",
   "execution_count": 60,
   "metadata": {},
   "outputs": [],
   "source": [
    "# Creating a dictionary of paramteters for tuning\n",
    "grid = {'n_estimators' : [100, 150, 200, 250], 'max_depth': [3, 5, 10], \n",
    "        'max_features': [4, 8, 12, 20, 25, 30, 40, 50, 60, 70],\n",
    "        'random_state': [42]}\n",
    "test_scores = []"
   ]
  },
  {
   "cell_type": "code",
   "execution_count": 61,
   "metadata": {},
   "outputs": [
    {
     "name": "stdout",
     "output_type": "stream",
     "text": [
      "0.8743383666184696 {'random_state': 42, 'n_estimators': 100, 'max_features': 50, 'max_depth': 10}\n"
     ]
    }
   ],
   "source": [
    "# Loop through the parameter grid, set the hyperparameters, and save the scores\n",
    "for g in ParameterGrid(grid):\n",
    "    forest.set_params(**g)  # ** is \"unpacking\" the dictionary\n",
    "    forest.fit(X_train, y_train)\n",
    "    test_scores.append(forest.score(X_test, y_test))\n",
    "\n",
    "# Find best hyperparameters from the test score and print\n",
    "best_idx = np.argmax(test_scores)\n",
    "print(test_scores[best_idx], ParameterGrid(grid)[best_idx])"
   ]
  },
  {
   "cell_type": "markdown",
   "metadata": {},
   "source": [
    "The second tuning confirms the hyperparamaters of n_estimators=100, max_features=50, max_depth=10, random_state=42 is approprate for the no outliers model so the metrics do not need to be rerun. "
   ]
  },
  {
   "cell_type": "code",
   "execution_count": null,
   "metadata": {},
   "outputs": [],
   "source": []
  },
  {
   "cell_type": "code",
   "execution_count": null,
   "metadata": {},
   "outputs": [],
   "source": []
  },
  {
   "cell_type": "code",
   "execution_count": 62,
   "metadata": {},
   "outputs": [
    {
     "name": "stderr",
     "output_type": "stream",
     "text": [
      "/opt/anaconda3/lib/python3.7/site-packages/sklearn/ensemble/forest.py:737: UserWarning: Some inputs do not have OOB scores. This probably means too few trees were used to compute any reliable oob estimates.\n",
      "  warn(\"Some inputs do not have OOB scores. \"\n",
      "/opt/anaconda3/lib/python3.7/site-packages/sklearn/ensemble/forest.py:737: UserWarning: Some inputs do not have OOB scores. This probably means too few trees were used to compute any reliable oob estimates.\n",
      "  warn(\"Some inputs do not have OOB scores. \"\n",
      "/opt/anaconda3/lib/python3.7/site-packages/sklearn/ensemble/forest.py:737: UserWarning: Some inputs do not have OOB scores. This probably means too few trees were used to compute any reliable oob estimates.\n",
      "  warn(\"Some inputs do not have OOB scores. \"\n",
      "/opt/anaconda3/lib/python3.7/site-packages/sklearn/ensemble/forest.py:737: UserWarning: Some inputs do not have OOB scores. This probably means too few trees were used to compute any reliable oob estimates.\n",
      "  warn(\"Some inputs do not have OOB scores. \"\n",
      "/opt/anaconda3/lib/python3.7/site-packages/sklearn/ensemble/forest.py:737: UserWarning: Some inputs do not have OOB scores. This probably means too few trees were used to compute any reliable oob estimates.\n",
      "  warn(\"Some inputs do not have OOB scores. \"\n",
      "/opt/anaconda3/lib/python3.7/site-packages/sklearn/ensemble/forest.py:737: UserWarning: Some inputs do not have OOB scores. This probably means too few trees were used to compute any reliable oob estimates.\n",
      "  warn(\"Some inputs do not have OOB scores. \"\n",
      "/opt/anaconda3/lib/python3.7/site-packages/sklearn/ensemble/forest.py:737: UserWarning: Some inputs do not have OOB scores. This probably means too few trees were used to compute any reliable oob estimates.\n",
      "  warn(\"Some inputs do not have OOB scores. \"\n",
      "/opt/anaconda3/lib/python3.7/site-packages/sklearn/ensemble/forest.py:737: UserWarning: Some inputs do not have OOB scores. This probably means too few trees were used to compute any reliable oob estimates.\n",
      "  warn(\"Some inputs do not have OOB scores. \"\n",
      "/opt/anaconda3/lib/python3.7/site-packages/sklearn/ensemble/forest.py:737: UserWarning: Some inputs do not have OOB scores. This probably means too few trees were used to compute any reliable oob estimates.\n",
      "  warn(\"Some inputs do not have OOB scores. \"\n",
      "/opt/anaconda3/lib/python3.7/site-packages/sklearn/ensemble/forest.py:737: UserWarning: Some inputs do not have OOB scores. This probably means too few trees were used to compute any reliable oob estimates.\n",
      "  warn(\"Some inputs do not have OOB scores. \"\n",
      "/opt/anaconda3/lib/python3.7/site-packages/sklearn/ensemble/forest.py:737: UserWarning: Some inputs do not have OOB scores. This probably means too few trees were used to compute any reliable oob estimates.\n",
      "  warn(\"Some inputs do not have OOB scores. \"\n",
      "/opt/anaconda3/lib/python3.7/site-packages/sklearn/ensemble/forest.py:737: UserWarning: Some inputs do not have OOB scores. This probably means too few trees were used to compute any reliable oob estimates.\n",
      "  warn(\"Some inputs do not have OOB scores. \"\n",
      "/opt/anaconda3/lib/python3.7/site-packages/sklearn/ensemble/forest.py:737: UserWarning: Some inputs do not have OOB scores. This probably means too few trees were used to compute any reliable oob estimates.\n",
      "  warn(\"Some inputs do not have OOB scores. \"\n",
      "/opt/anaconda3/lib/python3.7/site-packages/sklearn/ensemble/forest.py:737: UserWarning: Some inputs do not have OOB scores. This probably means too few trees were used to compute any reliable oob estimates.\n",
      "  warn(\"Some inputs do not have OOB scores. \"\n",
      "/opt/anaconda3/lib/python3.7/site-packages/sklearn/ensemble/forest.py:737: UserWarning: Some inputs do not have OOB scores. This probably means too few trees were used to compute any reliable oob estimates.\n",
      "  warn(\"Some inputs do not have OOB scores. \"\n",
      "/opt/anaconda3/lib/python3.7/site-packages/sklearn/ensemble/forest.py:737: UserWarning: Some inputs do not have OOB scores. This probably means too few trees were used to compute any reliable oob estimates.\n",
      "  warn(\"Some inputs do not have OOB scores. \"\n",
      "/opt/anaconda3/lib/python3.7/site-packages/sklearn/ensemble/forest.py:737: UserWarning: Some inputs do not have OOB scores. This probably means too few trees were used to compute any reliable oob estimates.\n",
      "  warn(\"Some inputs do not have OOB scores. \"\n",
      "/opt/anaconda3/lib/python3.7/site-packages/sklearn/ensemble/forest.py:737: UserWarning: Some inputs do not have OOB scores. This probably means too few trees were used to compute any reliable oob estimates.\n",
      "  warn(\"Some inputs do not have OOB scores. \"\n",
      "/opt/anaconda3/lib/python3.7/site-packages/sklearn/ensemble/forest.py:737: UserWarning: Some inputs do not have OOB scores. This probably means too few trees were used to compute any reliable oob estimates.\n",
      "  warn(\"Some inputs do not have OOB scores. \"\n",
      "/opt/anaconda3/lib/python3.7/site-packages/sklearn/ensemble/forest.py:737: UserWarning: Some inputs do not have OOB scores. This probably means too few trees were used to compute any reliable oob estimates.\n",
      "  warn(\"Some inputs do not have OOB scores. \"\n",
      "/opt/anaconda3/lib/python3.7/site-packages/sklearn/ensemble/forest.py:737: UserWarning: Some inputs do not have OOB scores. This probably means too few trees were used to compute any reliable oob estimates.\n",
      "  warn(\"Some inputs do not have OOB scores. \"\n",
      "/opt/anaconda3/lib/python3.7/site-packages/sklearn/ensemble/forest.py:737: UserWarning: Some inputs do not have OOB scores. This probably means too few trees were used to compute any reliable oob estimates.\n",
      "  warn(\"Some inputs do not have OOB scores. \"\n",
      "/opt/anaconda3/lib/python3.7/site-packages/sklearn/ensemble/forest.py:737: UserWarning: Some inputs do not have OOB scores. This probably means too few trees were used to compute any reliable oob estimates.\n",
      "  warn(\"Some inputs do not have OOB scores. \"\n",
      "/opt/anaconda3/lib/python3.7/site-packages/sklearn/ensemble/forest.py:737: UserWarning: Some inputs do not have OOB scores. This probably means too few trees were used to compute any reliable oob estimates.\n",
      "  warn(\"Some inputs do not have OOB scores. \"\n"
     ]
    },
    {
     "data": {
      "image/png": "[encoded data removed]",
      "text/plain": [
       "<Figure size 432x288 with 1 Axes>"
      ]
     },
     "metadata": {
      "needs_background": "light"
     },
     "output_type": "display_data"
    }
   ],
   "source": [
    "ensemble_clfs = [\n",
    "    (\"RandomForestRegressor, max_features='sqrt'\",\n",
    "        RandomForestRegressor(warm_start=True, oob_score=True,\n",
    "                               max_features=\"sqrt\",\n",
    "                               random_state=42)),\n",
    "    (\"RandomForestRegressor, max_features='log2'\",\n",
    "        RandomForestRegressor(warm_start=True, max_features='log2',\n",
    "                               oob_score=True,\n",
    "                               random_state=42)),\n",
    "    (\"RandomForestRegressor, max_features=None\",\n",
    "        RandomForestRegressor(warm_start=True, max_features=None,\n",
    "                               oob_score=True,\n",
    "                               random_state=42)),\n",
    "    (\"RandomForestRegressor, max_features=50\",\n",
    "        RandomForestRegressor(warm_start=True, max_features=50,\n",
    "                               oob_score=True,\n",
    "                               random_state=42))\n",
    "]\n",
    "\n",
    "# Map a classifier name to a list of (<n_estimators>, <error rate>) pairs.\n",
    "error_rate = OrderedDict((label, []) for label, _ in ensemble_clfs)\n",
    "\n",
    "# Range of `n_estimators` values to explore.\n",
    "min_estimators = 15\n",
    "max_estimators = 175\n",
    "\n",
    "for label, clf in ensemble_clfs:\n",
    "    for i in range(min_estimators, max_estimators + 1):\n",
    "        clf.set_params(n_estimators=i)\n",
    "        clf.fit(X, y)\n",
    "\n",
    "        # Record the OOB error for each `n_estimators=i` setting.\n",
    "        oob_error = 1 - clf.oob_score_\n",
    "        error_rate[label].append((i, oob_error))\n",
    "\n",
    "# Generate the \"OOB error rate\" vs. \"n_estimators\" plot.\n",
    "for label, clf_err in error_rate.items():\n",
    "    xs, ys = zip(*clf_err)\n",
    "    plt.plot(xs, ys, label=label)\n",
    "\n",
    "plt.xlim(min_estimators, max_estimators)\n",
    "plt.xlabel(\"n_estimators\")\n",
    "plt.ylabel(\"OOB error rate\")\n",
    "plt.legend(loc=\"upper right\")\n",
    "plt.show()"
   ]
  },
  {
   "cell_type": "markdown",
   "metadata": {},
   "source": [
    "The number of estimators seems to level out as n nears and passes 100, so the tuned model above with n_estimators will be left as 100. \n",
    "\n",
    "The max features provides the best error rate at 50 features. The tuned model is the best option. "
   ]
  },
  {
   "cell_type": "code",
   "execution_count": null,
   "metadata": {},
   "outputs": [],
   "source": []
  },
  {
   "cell_type": "code",
   "execution_count": null,
   "metadata": {},
   "outputs": [],
   "source": []
  },
  {
   "cell_type": "code",
   "execution_count": null,
   "metadata": {},
   "outputs": [],
   "source": []
  },
  {
   "cell_type": "code",
   "execution_count": null,
   "metadata": {},
   "outputs": [],
   "source": []
  },
  {
   "cell_type": "code",
   "execution_count": null,
   "metadata": {},
   "outputs": [],
   "source": []
  },
  {
   "cell_type": "code",
   "execution_count": null,
   "metadata": {},
   "outputs": [],
   "source": []
  },
  {
   "cell_type": "code",
   "execution_count": null,
   "metadata": {},
   "outputs": [],
   "source": []
  }
 ],
 "metadata": {
  "kernelspec": {
   "display_name": "Python 3",
   "language": "python",
   "name": "python3"
  },
  "language_info": {
   "codemirror_mode": {
    "name": "ipython",
    "version": 3
   },
   "file_extension": ".py",
   "mimetype": "text/x-python",
   "name": "python",
   "nbconvert_exporter": "python",
   "pygments_lexer": "ipython3",
   "version": "3.7.4"
  }
 },
 "nbformat": 4,
 "nbformat_minor": 2
}
